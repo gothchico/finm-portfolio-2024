{
 "cells": [
  {
   "cell_type": "markdown",
   "id": "559895d2",
   "metadata": {},
   "source": [
    "# **<span style=\"color:red\">Midterm 1 Solutions</span>**\n",
    "\n",
    "## FINM 36700 - 2024\n",
    "\n",
    "### UChicago Financial Mathematics\n",
    "\n",
    "* Mark Hendricks\n",
    "* hendricks@uchicago.edu"
   ]
  },
  {
   "cell_type": "markdown",
   "id": "01cde8d3",
   "metadata": {},
   "source": [
    "# Instructions"
   ]
  },
  {
   "cell_type": "markdown",
   "id": "cc273c1a",
   "metadata": {},
   "source": [
    "## Please note the following:\n",
    "\n",
    "Points\n",
    "* The exam is `100` points.\n",
    "* You have `125` minutes to complete the exam.\n",
    "* For every minute late you submit the exam, you will lose one point.\n",
    "\n",
    "\n",
    "Submission\n",
    "* You will upload your solution to the `Midterm 1` assignment on Canvas, where you downloaded this. (Be sure to **submit** on Canvas, not just **save** on Canvas.\n",
    "* Your submission should be readable, (the graders can understand your answers,)\n",
    "* and it should **include all code used in your analysis in a file format that the code can be executed.** \n",
    "\n",
    "Rules\n",
    "* The exam is open-material, closed-communication.\n",
    "* You do not need to cite material from the course github repo--you are welcome to use the code posted there without citation.\n",
    "\n",
    "Advice\n",
    "* If you find any question to be unclear, state your interpretation and proceed. We will only answer questions of interpretation if there is a typo, error, etc.\n",
    "* The exam will be graded for partial credit."
   ]
  },
  {
   "cell_type": "markdown",
   "id": "624f27b1",
   "metadata": {},
   "source": [
    "## Data\n",
    "\n",
    "**All data files are found in the class github repo, in the `data` folder.**\n",
    "\n",
    "This exam makes use of the following data files:\n",
    "* `midterm_1_data.xlsx`\n",
    "\n",
    "This file has sheets for...\n",
    "* `stocks excess returns` - excess returns of the 14 biggest companies in the S&P.\n",
    "* `proshares excess returns` - excess returns of ETFs and indexes from the Proshares case study.\n",
    "* `fx carry returns` - excess returns from FX products.\n",
    "\n",
    "Note the data is **monthly** for the first two sheets (stocks and proshares). Any annualizations for those two sheets should use `12` months in a year."
   ]
  },
  {
   "cell_type": "markdown",
   "id": "ebf6e066",
   "metadata": {},
   "source": [
    "## Scoring\n",
    "\n",
    "| Problem | Points |\n",
    "|---------|--------|\n",
    "| 1       | 15     |\n",
    "| 2       | 25     |\n",
    "| 3       | 35     |\n",
    "| 4       | 25     |"
   ]
  },
  {
   "cell_type": "markdown",
   "id": "7fb2fc26",
   "metadata": {},
   "source": [
    "### Each numbered question is worth 5 points unless otherwise specified."
   ]
  },
  {
   "cell_type": "markdown",
   "id": "632ce7d4",
   "metadata": {},
   "source": [
    "***"
   ]
  },
  {
   "cell_type": "markdown",
   "id": "50a39225-f8d7-4a42-a675-fb9716e55932",
   "metadata": {},
   "source": [
    "# 1. Short Answer"
   ]
  },
  {
   "cell_type": "markdown",
   "id": "127d44ea-9d06-4bba-ac24-f19e9376c8d6",
   "metadata": {},
   "source": [
    "#### No Data Needed\n",
    "\n",
    "These problems do not require any data file. Rather, analyze them conceptually. "
   ]
  },
  {
   "cell_type": "markdown",
   "id": "668aaba8-6dcf-4700-9714-36111e1c67af",
   "metadata": {},
   "source": [
    "### 1.\n",
    "\n",
    "#### (10pts)\n",
    "\n",
    "In the mean-variance optimization of `homework 1`, suppose we found the mean excess return of TIPS is 4% annualized.\n",
    "\n",
    "Explain--conceptually--how each of the following would have impacted the new (with TIPS) MV solution.\n",
    "* TIPS is found to have correlation of 0% to `IEF` and 0% to SPY.\n",
    "* TIPS is found to have correlation of 100% to `IEF`.\n",
    "\n",
    "Would it be possible for TIPS to have been found to have 0% correlation to every other asset in `homework 1`? Explain."
   ]
  },
  {
   "cell_type": "markdown",
   "id": "fe910811-eddc-48ae-9e3c-2b99e6c62dec",
   "metadata": {},
   "source": [
    "### 2. \n",
    "\n",
    "Depending on the application, one may or may not choose to include an intercept term in a linear factor decomposition of an asset’s returns. In what circumstances would I prefer to include an intercept, and in what circumstances would I not?"
   ]
  },
  {
   "cell_type": "markdown",
   "id": "879282ef-e213-4592-8b42-5f9bc9fdb0d8",
   "metadata": {},
   "source": [
    "***"
   ]
  },
  {
   "cell_type": "markdown",
   "id": "d7a18e6e-3699-4917-aebc-ed2b3361b322",
   "metadata": {},
   "source": [
    "# <span style=\"color:red\">Solution 1</span>"
   ]
  },
  {
   "cell_type": "markdown",
   "id": "1e9fe17a-baa6-4d87-ade8-8ae55cc2ee37",
   "metadata": {},
   "source": [
    "### <span style=\"color:red\">1.1.</span>"
   ]
  },
  {
   "cell_type": "markdown",
   "id": "20d0be2e-9ab1-4928-8a2f-eaf2560b2b96",
   "metadata": {},
   "source": [
    "**TIPS is found to have correlation of 0% to `IEF` and 0% to `SPY`:**\n",
    "\n",
    "If restricted to a long-only portfolios, correlation of 0% would for sure increase TIPS diversification characteristic and therefore increase its weight in the GMV and tangency portfolio. In a long-only portfolio, lower correlation with other assets, higher expected return, and lower volatility (the last two are directly related to Sharpe) are the main estimates responsible for defining (and more specifically increasing) weights in optimal MV portfolios. In summary, by lowering TIPS correlation with SPY and IEF we can ensure bigger absolute value of Sharpe in the tangency portfolio.\n",
    "\n",
    "In the case study as well as in our homework (even though we are not restricted to long-only portfolio), TIPS, IEF and SPY present positive weights, which leads us to conclude that a decrease in TIP correlation with the specified other assets should improve the MV allocation and increase the set of risk-return possible allocations.\n",
    "\n",
    "Extra:\n",
    "\n",
    "In some cases, if not restricted to long-only portfolios, the expected output is not straight-forward. For instance, if TIPS currently had negative weights in the tangency portfolio, decreasing its correlation with other assets to 0% (all else constant) would decrease its diversification benefit (shorting an asset with highly positive correlation is equal to buying an asset with highly negative correlation). The result could also be detrimental even if TIPS has positive weight but IEF and SPY have negative weights in the tangency portfolio, since the change would reduce the diversification benefit of IEF and SPY.\n",
    "\n",
    "**TIPS is found to have correlation of 100% to `IEF`:**\n",
    "\n",
    "If TIPS had a correlation of 100% with IEF, the covariance matrix would not be invertible, not allowing for a analytical solution when deriving the tangency and GMV portfolios. The theoretical solution, in the limit, would tell you to infinitely short the asset with the lowest Sharpe between the two to infinitely buy the asset with the highest Sharpe. In the tangency portfolio constrained optimization, the solution would put IEF weight in its lower bound (considering that it has lower Sharpe than TIPS) and TIPS on its upper bound.\n",
    "\n",
    "**Would it be possible for TIPS to have been found to have 0% correlation to every other asset in `homework 1`? Explain.**\n",
    "\n",
    "Yes, it is mathematically possible. In such a case, TIPS would have the highest diversification benefit and we should expect the tangency portfolio and the GMV portfolio to allocate relevant weight to it.\n",
    "\n",
    "Curiosity:\n",
    "\n",
    "In this scenario, running the optimization with all the other assets but TIPS and creating a portfolio which would later be optimized with TIPS would yield the same result as optimizing the solution with all the assets (including TIPS) directly."
   ]
  },
  {
   "cell_type": "markdown",
   "id": "fc850691-44a8-4c22-89c4-f49ecdd917b2",
   "metadata": {},
   "source": [
    "### <span style=\"color:red\">1.2.</span>\n",
    "\n",
    "Performance evaluation: always include the intercept.\n",
    "\n",
    "Hedging and Tracking:\n",
    "\n",
    "- Include when:\n",
    "    - I don't trust the estimation of my target asset mean return.\n",
    "    - I want to hedge/track the variation of my asset's return.\n",
    "\n",
    "- Exclude when:\n",
    "    - I trust my estimation of my target asset mean return.\n",
    "    - I want the betas (positions) to correct for the expected difference in level (mean return).\n",
    "    - I want to hedge/track my asset's total returns and I am also using regressors total returns."
   ]
  },
  {
   "cell_type": "markdown",
   "id": "e38b33d9-8628-4bf5-a662-73da5dfe0ace",
   "metadata": {},
   "source": [
    "***"
   ]
  },
  {
   "cell_type": "markdown",
   "id": "a78ee6f4",
   "metadata": {},
   "source": [
    "# 2. Portfolio Allocation\n",
    "\n",
    "For this question you will only use data from the sheet `stocks excess returns`.\n",
    "\n",
    "It contains excess returns for the 14 largest stocks in the S&P."
   ]
  },
  {
   "cell_type": "markdown",
   "id": "ec8d1b59",
   "metadata": {},
   "source": [
    "### 1.\n",
    "\n",
    "Calculate the tangency portfolio from the start of the sample to December of 2018 (to 2018-12-31), which we call in-sample period. Use the following methods:\n",
    "- Traditional tangency portfolio.\n",
    "- Regularized tangency portfolio (divide by 2 every element outside of the diagonal in the covariance matrix prior to the calculation).\n",
    "\n",
    "Return:\n",
    "- The weights of each asset for the traditional tangency portfolio and the regularized tangency portfolio.\n",
    "- The sum of absolute values of the weights for the traditional tangency portfolio and the regularized tangency portfolio:\n",
    "\n",
    "$$\n",
    "\\sum_{i=1}^{n} |w_i|\n",
    "$$\n"
   ]
  },
  {
   "cell_type": "markdown",
   "id": "31da8bdc",
   "metadata": {},
   "source": [
    "### 2.\n",
    "\n",
    "Calculate the annualized summary statistics (mean, Sharpe, vol) of both portfolios in-sample.\n"
   ]
  },
  {
   "cell_type": "markdown",
   "id": "eb4f7e39",
   "metadata": {},
   "source": [
    "### 3.\n",
    "\n",
    "Use the weights calculated in question (2.2) to produce portfolio returns out-of-sample for both the Traditional and Regularized portfolio (from January 2019 onwards). \n",
    "\n",
    "Report the **last 3 returns** of both portfolios in the out-of-sample (the traditional tangency portfolio and the regularized tangency portfolio)."
   ]
  },
  {
   "cell_type": "markdown",
   "id": "ee6aa5f9-4201-4600-b8ff-48c9af2ff5c3",
   "metadata": {},
   "source": [
    "### 4.\n",
    "\n",
    "Report the annualized summary statistics (Mean, Vol and Sharpe) of both portfolios in the out-of-sample.\n",
    "\n",
    "Note: you are using the weights optimized for the in-sample and generating statistics with the out-of-sample returns."
   ]
  },
  {
   "cell_type": "markdown",
   "id": "2147058f-7c1b-4f56-ae94-d8ae77b5a96d",
   "metadata": {},
   "source": [
    "### 5.\n",
    "Which portfolio has better adjusted by risk returns in the out-of-sample? Could there be a mathematical/optimization reason why one portfolio had better adjusted by risk performance? \n",
    "\n",
    "Relate your answer to your findings in question (2.2) (Sum of absolute weights in the traditional and regularized tangency portfolio.)"
   ]
  },
  {
   "cell_type": "markdown",
   "id": "54599117-abab-4d0b-b60c-f1321342f378",
   "metadata": {},
   "source": [
    "***"
   ]
  },
  {
   "cell_type": "markdown",
   "id": "974f19f4-3c85-4590-bbf3-e7e4198bcd6f",
   "metadata": {},
   "source": [
    "# <span style=\"color:red\">Solution 2</span>"
   ]
  },
  {
   "cell_type": "code",
   "execution_count": 7,
   "id": "3b3be93d-82d1-42a0-ba17-fe32886ed680",
   "metadata": {},
   "outputs": [],
   "source": [
    "import pandas as pd\n",
    "import numpy as np\n",
    "import os\n",
    "import matplotlib.pyplot as plt\n",
    "import re"
   ]
  },
  {
   "cell_type": "code",
   "execution_count": 8,
   "id": "e8f8a4b3-6036-4966-a1ee-d83027c66869",
   "metadata": {},
   "outputs": [],
   "source": [
    "import sys\n",
    "sys.path.insert(0,'../cmds')\n",
    "import portfolio_management_helper as pmh"
   ]
  },
  {
   "cell_type": "code",
   "execution_count": 9,
   "id": "f14f8116-715d-4426-a0b6-f81f79dde889",
   "metadata": {},
   "outputs": [],
   "source": [
    "FILEIN = \"../data/midterm_1_data_cleaned.xlsx\"\n",
    "SHEET = \"stocks excess returns\"\n",
    "\n",
    "excess_returns = pd.read_excel(FILEIN, sheet_name=SHEET).set_index('date')"
   ]
  },
  {
   "cell_type": "markdown",
   "id": "79903dae-229d-456d-a46c-4f28b42975c9",
   "metadata": {},
   "source": [
    "### <span style=\"color:red\">2.1.</span>"
   ]
  },
  {
   "cell_type": "code",
   "execution_count": 4,
   "id": "a43bc227-dae9-4e59-8b33-92a3aee4c984",
   "metadata": {},
   "outputs": [],
   "source": [
    "LAST_IN_SAMPLE_YEAR = \"2018\"\n",
    "FIRST_OUT_OF_SAMPLE_YEAR = f\"{(int(LAST_IN_SAMPLE_YEAR) + 1):.0f}\"\n",
    "COV_MATRIX = .5\n",
    "\n",
    "excess_returns_in_sample = excess_returns.loc[:LAST_IN_SAMPLE_YEAR]\n",
    "excess_returns_out_of_sample = excess_returns.loc[FIRST_OUT_OF_SAMPLE_YEAR:]"
   ]
  },
  {
   "cell_type": "code",
   "execution_count": 5,
   "id": "c690d209-b437-4c81-8f9d-79c89a715ac7",
   "metadata": {},
   "outputs": [
    {
     "data": {
      "text/html": [
       "<div>\n",
       "<style scoped>\n",
       "    .dataframe tbody tr th:only-of-type {\n",
       "        vertical-align: middle;\n",
       "    }\n",
       "\n",
       "    .dataframe tbody tr th {\n",
       "        vertical-align: top;\n",
       "    }\n",
       "\n",
       "    .dataframe thead th {\n",
       "        text-align: right;\n",
       "    }\n",
       "</style>\n",
       "<table border=\"1\" class=\"dataframe\">\n",
       "  <thead>\n",
       "    <tr style=\"text-align: right;\">\n",
       "      <th></th>\n",
       "      <th>Tangency Weights</th>\n",
       "      <th>Tangency Regularized 0.50 Weights</th>\n",
       "    </tr>\n",
       "  </thead>\n",
       "  <tbody>\n",
       "    <tr>\n",
       "      <th>AAPL</th>\n",
       "      <td>-0.1278</td>\n",
       "      <td>-0.0147</td>\n",
       "    </tr>\n",
       "    <tr>\n",
       "      <th>AMZN</th>\n",
       "      <td>-0.0406</td>\n",
       "      <td>0.0363</td>\n",
       "    </tr>\n",
       "    <tr>\n",
       "      <th>BRK-B</th>\n",
       "      <td>0.1313</td>\n",
       "      <td>0.1092</td>\n",
       "    </tr>\n",
       "    <tr>\n",
       "      <th>GOOGL</th>\n",
       "      <td>0.0260</td>\n",
       "      <td>0.0505</td>\n",
       "    </tr>\n",
       "    <tr>\n",
       "      <th>JNJ</th>\n",
       "      <td>0.1304</td>\n",
       "      <td>0.0992</td>\n",
       "    </tr>\n",
       "    <tr>\n",
       "      <th>JPM</th>\n",
       "      <td>-0.0139</td>\n",
       "      <td>0.0537</td>\n",
       "    </tr>\n",
       "    <tr>\n",
       "      <th>LLY</th>\n",
       "      <td>0.3527</td>\n",
       "      <td>0.2149</td>\n",
       "    </tr>\n",
       "    <tr>\n",
       "      <th>META</th>\n",
       "      <td>0.0305</td>\n",
       "      <td>0.0349</td>\n",
       "    </tr>\n",
       "    <tr>\n",
       "      <th>MSFT</th>\n",
       "      <td>0.1379</td>\n",
       "      <td>0.0900</td>\n",
       "    </tr>\n",
       "    <tr>\n",
       "      <th>NVDA</th>\n",
       "      <td>0.1635</td>\n",
       "      <td>0.0717</td>\n",
       "    </tr>\n",
       "    <tr>\n",
       "      <th>TSLA</th>\n",
       "      <td>0.0301</td>\n",
       "      <td>0.0365</td>\n",
       "    </tr>\n",
       "    <tr>\n",
       "      <th>UNH</th>\n",
       "      <td>0.2902</td>\n",
       "      <td>0.1898</td>\n",
       "    </tr>\n",
       "    <tr>\n",
       "      <th>V</th>\n",
       "      <td>0.3062</td>\n",
       "      <td>0.1846</td>\n",
       "    </tr>\n",
       "    <tr>\n",
       "      <th>XOM</th>\n",
       "      <td>-0.4165</td>\n",
       "      <td>-0.1566</td>\n",
       "    </tr>\n",
       "  </tbody>\n",
       "</table>\n",
       "</div>"
      ],
      "text/plain": [
       "       Tangency Weights  Tangency Regularized 0.50 Weights\n",
       "AAPL            -0.1278                            -0.0147\n",
       "AMZN            -0.0406                             0.0363\n",
       "BRK-B            0.1313                             0.1092\n",
       "GOOGL            0.0260                             0.0505\n",
       "JNJ              0.1304                             0.0992\n",
       "JPM             -0.0139                             0.0537\n",
       "LLY              0.3527                             0.2149\n",
       "META             0.0305                             0.0349\n",
       "MSFT             0.1379                             0.0900\n",
       "NVDA             0.1635                             0.0717\n",
       "TSLA             0.0301                             0.0365\n",
       "UNH              0.2902                             0.1898\n",
       "V                0.3062                             0.1846\n",
       "XOM             -0.4165                            -0.1566"
      ]
     },
     "execution_count": 5,
     "metadata": {},
     "output_type": "execute_result"
    }
   ],
   "source": [
    "pd.concat([\n",
    "    pmh.calc_tangency_weights(excess_returns_in_sample),\n",
    "    pmh.calc_tangency_weights(excess_returns_in_sample, cov_mat=.5)\n",
    "], axis=1)"
   ]
  },
  {
   "cell_type": "code",
   "execution_count": 6,
   "id": "b5d02374-b038-4004-84a8-25f4485e483b",
   "metadata": {},
   "outputs": [
    {
     "data": {
      "text/html": [
       "<div>\n",
       "<style scoped>\n",
       "    .dataframe tbody tr th:only-of-type {\n",
       "        vertical-align: middle;\n",
       "    }\n",
       "\n",
       "    .dataframe tbody tr th {\n",
       "        vertical-align: top;\n",
       "    }\n",
       "\n",
       "    .dataframe thead th {\n",
       "        text-align: right;\n",
       "    }\n",
       "</style>\n",
       "<table border=\"1\" class=\"dataframe\">\n",
       "  <thead>\n",
       "    <tr style=\"text-align: right;\">\n",
       "      <th></th>\n",
       "      <th>Sum of Absolute Weights</th>\n",
       "    </tr>\n",
       "  </thead>\n",
       "  <tbody>\n",
       "    <tr>\n",
       "      <th>Tangency Weights</th>\n",
       "      <td>2.1977</td>\n",
       "    </tr>\n",
       "    <tr>\n",
       "      <th>Regularized Weights</th>\n",
       "      <td>1.3426</td>\n",
       "    </tr>\n",
       "  </tbody>\n",
       "</table>\n",
       "</div>"
      ],
      "text/plain": [
       "                     Sum of Absolute Weights\n",
       "Tangency Weights                      2.1977\n",
       "Regularized Weights                   1.3426"
      ]
     },
     "execution_count": 6,
     "metadata": {},
     "output_type": "execute_result"
    }
   ],
   "source": [
    "(\n",
    "    pd.concat([\n",
    "        pmh.calc_tangency_weights(excess_returns_in_sample),\n",
    "        pmh.calc_tangency_weights(excess_returns_in_sample, cov_mat=COV_MATRIX, name=\"Regularized\")\n",
    "    ], axis=1)\n",
    "    .abs()\n",
    "    .sum(axis=0)\n",
    "    .to_frame(\"Sum of Absolute Weights\")\n",
    ")"
   ]
  },
  {
   "cell_type": "markdown",
   "id": "495ab33d-18a4-4a94-893c-4c320a984918",
   "metadata": {},
   "source": [
    "### <span style=\"color:red\">2.2.</span>"
   ]
  },
  {
   "cell_type": "code",
   "execution_count": 7,
   "id": "fd1d7338-ee51-43aa-afe2-12daa4d41a7d",
   "metadata": {},
   "outputs": [
    {
     "data": {
      "text/html": [
       "<div>\n",
       "<style scoped>\n",
       "    .dataframe tbody tr th:only-of-type {\n",
       "        vertical-align: middle;\n",
       "    }\n",
       "\n",
       "    .dataframe tbody tr th {\n",
       "        vertical-align: top;\n",
       "    }\n",
       "\n",
       "    .dataframe thead th {\n",
       "        text-align: right;\n",
       "    }\n",
       "</style>\n",
       "<table border=\"1\" class=\"dataframe\">\n",
       "  <thead>\n",
       "    <tr style=\"text-align: right;\">\n",
       "      <th></th>\n",
       "      <th>Annualized Mean</th>\n",
       "      <th>Annualized Vol</th>\n",
       "      <th>Annualized Sharpe</th>\n",
       "    </tr>\n",
       "  </thead>\n",
       "  <tbody>\n",
       "    <tr>\n",
       "      <th>Tangency Portfolio</th>\n",
       "      <td>0.3483</td>\n",
       "      <td>0.1341</td>\n",
       "      <td>2.5979</td>\n",
       "    </tr>\n",
       "    <tr>\n",
       "      <th>Tangency Regularized 0.50 Portfolio</th>\n",
       "      <td>0.2766</td>\n",
       "      <td>0.1142</td>\n",
       "      <td>2.4224</td>\n",
       "    </tr>\n",
       "  </tbody>\n",
       "</table>\n",
       "</div>"
      ],
      "text/plain": [
       "                                     Annualized Mean  Annualized Vol  \\\n",
       "Tangency Portfolio                            0.3483          0.1341   \n",
       "Tangency Regularized 0.50 Portfolio           0.2766          0.1142   \n",
       "\n",
       "                                     Annualized Sharpe  \n",
       "Tangency Portfolio                              2.5979  \n",
       "Tangency Regularized 0.50 Portfolio             2.4224  "
      ]
     },
     "execution_count": 7,
     "metadata": {},
     "output_type": "execute_result"
    }
   ],
   "source": [
    "pmh.calc_summary_statistics(\n",
    "    pd.concat([\n",
    "        pmh.calc_tangency_weights(excess_returns_in_sample, return_port_ret=True),\n",
    "        pmh.calc_tangency_weights(excess_returns_in_sample, cov_mat=COV_MATRIX, return_port_ret=True)\n",
    "    ], axis=1),\n",
    "    keep_columns=[\"Annualized Mean\", \"Annualized Vol\", \"Annualized Sharpe\"],\n",
    "    annual_factor=12,\n",
    "    provided_excess_returns=True\n",
    ")"
   ]
  },
  {
   "cell_type": "markdown",
   "id": "ec32a73d-32d4-4038-af96-47e7efed05ce",
   "metadata": {},
   "source": [
    "### <span style=\"color:red\">2.3.</span>"
   ]
  },
  {
   "cell_type": "code",
   "execution_count": 8,
   "id": "8dc53391-dfdc-4f28-85d1-d3c190c80d74",
   "metadata": {},
   "outputs": [
    {
     "data": {
      "text/html": [
       "<div>\n",
       "<style scoped>\n",
       "    .dataframe tbody tr th:only-of-type {\n",
       "        vertical-align: middle;\n",
       "    }\n",
       "\n",
       "    .dataframe tbody tr th {\n",
       "        vertical-align: top;\n",
       "    }\n",
       "\n",
       "    .dataframe thead th {\n",
       "        text-align: right;\n",
       "    }\n",
       "</style>\n",
       "<table border=\"1\" class=\"dataframe\">\n",
       "  <thead>\n",
       "    <tr style=\"text-align: right;\">\n",
       "      <th></th>\n",
       "      <th>Tangency Portfolio</th>\n",
       "      <th>Regularized Portfolio</th>\n",
       "    </tr>\n",
       "    <tr>\n",
       "      <th>date</th>\n",
       "      <th></th>\n",
       "      <th></th>\n",
       "    </tr>\n",
       "  </thead>\n",
       "  <tbody>\n",
       "    <tr>\n",
       "      <th>2024-07-31</th>\n",
       "      <td>-0.0160</td>\n",
       "      <td>0.0032</td>\n",
       "    </tr>\n",
       "    <tr>\n",
       "      <th>2024-08-31</th>\n",
       "      <td>0.1012</td>\n",
       "      <td>0.0646</td>\n",
       "    </tr>\n",
       "    <tr>\n",
       "      <th>2024-09-30</th>\n",
       "      <td>-0.0252</td>\n",
       "      <td>-0.0165</td>\n",
       "    </tr>\n",
       "  </tbody>\n",
       "</table>\n",
       "</div>"
      ],
      "text/plain": [
       "            Tangency Portfolio  Regularized Portfolio\n",
       "date                                                 \n",
       "2024-07-31             -0.0160                 0.0032\n",
       "2024-08-31              0.1012                 0.0646\n",
       "2024-09-30             -0.0252                -0.0165"
      ]
     },
     "execution_count": 8,
     "metadata": {},
     "output_type": "execute_result"
    }
   ],
   "source": [
    "tangency_portfolio_out_of_sample = pmh.create_portfolio(\n",
    "    excess_returns_out_of_sample,\n",
    "    pmh.calc_tangency_weights(excess_returns_in_sample).iloc[:, 0].to_dict(),\n",
    "    port_name=\"Tangency Portfolio\"\n",
    ")\n",
    "regularized_portfolio_out_of_sample = pmh.create_portfolio(\n",
    "    excess_returns_out_of_sample,\n",
    "    pmh.calc_tangency_weights(excess_returns_in_sample, cov_mat=COV_MATRIX).iloc[:, 0].to_dict(),\n",
    "    port_name=\"Regularized Portfolio\"\n",
    ")\n",
    "portfolios_out_of_sample = pd.concat(\n",
    "    [tangency_portfolio_out_of_sample, regularized_portfolio_out_of_sample],\n",
    "    axis=1\n",
    ")\n",
    "portfolios_out_of_sample.tail(3)"
   ]
  },
  {
   "cell_type": "markdown",
   "id": "1cd59202-ab1a-47e8-9633-7ae81f3ff095",
   "metadata": {},
   "source": [
    "### <span style=\"color:red\">2.4.</span>"
   ]
  },
  {
   "cell_type": "code",
   "execution_count": 9,
   "id": "97a1f842-9a5b-4fca-8dc6-8929a77c1d7a",
   "metadata": {},
   "outputs": [
    {
     "data": {
      "text/html": [
       "<div>\n",
       "<style scoped>\n",
       "    .dataframe tbody tr th:only-of-type {\n",
       "        vertical-align: middle;\n",
       "    }\n",
       "\n",
       "    .dataframe tbody tr th {\n",
       "        vertical-align: top;\n",
       "    }\n",
       "\n",
       "    .dataframe thead th {\n",
       "        text-align: right;\n",
       "    }\n",
       "</style>\n",
       "<table border=\"1\" class=\"dataframe\">\n",
       "  <thead>\n",
       "    <tr style=\"text-align: right;\">\n",
       "      <th></th>\n",
       "      <th>Annualized Mean</th>\n",
       "      <th>Annualized Vol</th>\n",
       "      <th>Annualized Sharpe</th>\n",
       "    </tr>\n",
       "  </thead>\n",
       "  <tbody>\n",
       "    <tr>\n",
       "      <th>Tangency Portfolio</th>\n",
       "      <td>0.3216</td>\n",
       "      <td>0.2224</td>\n",
       "      <td>1.4462</td>\n",
       "    </tr>\n",
       "    <tr>\n",
       "      <th>Regularized Portfolio</th>\n",
       "      <td>0.2687</td>\n",
       "      <td>0.1763</td>\n",
       "      <td>1.5237</td>\n",
       "    </tr>\n",
       "  </tbody>\n",
       "</table>\n",
       "</div>"
      ],
      "text/plain": [
       "                       Annualized Mean  Annualized Vol  Annualized Sharpe\n",
       "Tangency Portfolio              0.3216          0.2224             1.4462\n",
       "Regularized Portfolio           0.2687          0.1763             1.5237"
      ]
     },
     "execution_count": 9,
     "metadata": {},
     "output_type": "execute_result"
    }
   ],
   "source": [
    "(\n",
    "    pmh.calc_summary_statistics(\n",
    "        portfolios_out_of_sample,\n",
    "        keep_columns=[\n",
    "            \"Annualized Mean\", \"Annualized Vol\", \"Annualized Sharpe\",\n",
    "        ],\n",
    "        annual_factor=12,\n",
    "        provided_excess_returns=True\n",
    "    )\n",
    ")"
   ]
  },
  {
   "cell_type": "markdown",
   "id": "b025c9fd-138f-4087-9f7f-48e99b41dabb",
   "metadata": {},
   "source": [
    "### <span style=\"color:red\">2.5.</span>"
   ]
  },
  {
   "cell_type": "markdown",
   "id": "db6a205c-d37a-4b17-81da-145f148aaf9a",
   "metadata": {},
   "source": [
    "In the out-of-sample, the regularized portfolio performs better when compared to the traditional tangency portfolio. With regularization, we reduce the covariances between assets, making the optimization more stable. As a consequence, it is less prone to \"overfit\" the data in the in-sample.\n",
    "\n",
    "On the other hand, for the traditional tangency portfolio, the optimization presents more unstable covariance matrix, leading to extreme allocations, as we can see in the results provided in (2.2). Furthermore, the traditional approach is way more sensitive to changes in input data. Since $\\Sigma$ has a small determinant, small changes in the input, generates big changes in the allocation. In other words, the traditional tangency portfolio highly optimizes for in-sample, but is far from the optimal result out-of-sample, which can be highly different due to small changes in returns, variance and covariances in this new period."
   ]
  },
  {
   "cell_type": "markdown",
   "id": "0a8eda25",
   "metadata": {},
   "source": [
    "***"
   ]
  },
  {
   "cell_type": "markdown",
   "id": "45d9f9ca",
   "metadata": {},
   "source": [
    "# 3. Hedging and Replication\n",
    "\n",
    "For this question you will only use data from the sheet `proshares excess returns`.\n",
    "\n",
    "The following assets excess returns are available in this sheet:\n",
    "\n",
    "- **HDG US Equity**: ProShares Hedge Replication ET\n",
    "- **QAI US Equity**: NYLI Hedge Multi-Strategy Trac\n",
    "- **SPY US Equity**: SPDR S&P 500 ETF Trust\n",
    "- **EEM US Equity**: iShares MSCI Emerging Markets\n",
    "- **EFA US Equity**: iShares MSCI EAFE ETF\n",
    "- **EUO US Equity**: ProShares UltraShort Euro\n",
    "- **IWM US Equity**: iShares Russell 2000 ETF\n",
    "- **SPXU US Equity**: ProShares UltraPro Short S&P 5\n",
    "- **UPRO US Equity**: ProShares UltraPro S&P 500"
   ]
  },
  {
   "cell_type": "markdown",
   "id": "b6e16122",
   "metadata": {},
   "source": [
    "### 1. \n",
    "\n",
    "You work at a hedge fund.\n",
    "\n",
    "Suppose the hedge fund is long $1 million of HDG and wants to hedge the position.\n",
    "\n",
    "A junior analyst suggests that we can hedge our position by looking at some select ETFs, and then taking a position in the ETFs that will offset the risk of our HDG position.\n",
    "\n",
    "They pick QAI, SPY, EEM, UPRO, SPXU, IWM, and EFA.\n",
    "\n",
    "What dollar position would we be taking in each ETF to hedge your HDG position?"
   ]
  },
  {
   "cell_type": "markdown",
   "id": "4917ec2d",
   "metadata": {},
   "source": [
    "### 2.\n",
    "\n",
    "#### (7pts)\n",
    "What is the gross notional of the hedge?\n",
    "\n",
    "What is the R-squared of the hedge?\n",
    "\n",
    "What do these two statistics indicate about the practical use of this hedge?"
   ]
  },
  {
   "attachments": {},
   "cell_type": "markdown",
   "id": "fc40b82a-d979-42c7-bbca-f7ede2c133f3",
   "metadata": {},
   "source": [
    "### 3.\n",
    "\n",
    "Suppose instead we don't want to hedge our position. We believe that the value of HDG can be *entirely* determined by some combination of the other ETFs. \n",
    "\n",
    "So, you propose the following model:\n",
    "\n",
    "$$\n",
    "HDG_t = \\beta_1 QAI_t + \\beta_2 SPY_t + \\beta_3 EEM_t + \\varepsilon_t\n",
    "$$\n",
    "\n",
    "We think any difference between the value of HDG and the value of the ETFs is a mispricing, and will revert to 0 in the future. We call such a strategy \"trading the residuals\".\n",
    "\n",
    "Therefore, if $\\varepsilon_t > 0$, we should be short HDG and long the basket, and if $\\varepsilon_t < 0$, we should be long HDG and short the basket.\n",
    "\n",
    "Now...\n",
    "* Run the model specified above and report the $\\beta$'s values.\n",
    "* After, create the \"basket\" portfolio, using the $\\beta$'s as weights (they do not need to add up to one). Report the final three values of the timeseries of your constructed portfolio."
   ]
  },
  {
   "cell_type": "markdown",
   "id": "607c71d0-bcf5-47e0-8539-7a8dc7f8e4fc",
   "metadata": {},
   "source": [
    "### 4.\n",
    "\n",
    "#### (8pts)\n",
    "\n",
    "Construct the strategy indicated by the approach in the previous problem.\n",
    "\n",
    "For a given period $t$:\n",
    "- if the $\\varepsilon_t \\leq 0$ (is negative or equal to 0), you should be long HDG 200% in HDG and short 100% in the basket portfolio **in period $t+1$**.\n",
    "- if the $\\varepsilon_t > 0$ (is positive), you should be long 200% in the basket portfolio and short 100% **in HDG in period $t+1$**.\n",
    "\n",
    "Do not worry about the look forward bias: in this scenario, you should run the model only once with the entire dataset and define your $\\varepsilon_t$ for any $t$ also considering the model that has acess to data in $t+1, t+2, ...$ to make the calculation.  \n",
    "\n",
    "Report the annualized summary statistics of this strategy (Mean, Vol and Sharpe)."
   ]
  },
  {
   "cell_type": "markdown",
   "id": "7397b033-f586-49bf-9763-489276723d8a",
   "metadata": {},
   "source": [
    "### 5.\n",
    "\n",
    "On a different matter, we are now studying QAI and want to track (replicate) it using the other available ETFs. \n",
    "* (Clarification: That is, use all the ETFs except QAI as replicating instruments, including HDG as a replicating instrument.)\n",
    "\n",
    "Use an intercept and report:\n",
    "\n",
    "- $\\beta$ (and the sum of $\\beta$'s absolute value).\n",
    "- $\\alpha$ and Information Ratio.\n",
    "- $R^2$.\n",
    "- Correlation matrix between the assets used to replicate QAI."
   ]
  },
  {
   "cell_type": "markdown",
   "id": "e23fbaed-bfd0-4ba3-80b1-10282619aba9",
   "metadata": {},
   "source": [
    "### 6.\n",
    "\n",
    "Explain how good is your replication, pointing out at least one good or bad argument related to each of the statistics mentioned in the bullet points above (thus, you should have at least 4 arguments)."
   ]
  },
  {
   "cell_type": "markdown",
   "id": "85ce8f6f-28e2-438c-8f73-b8d91d09186b",
   "metadata": {},
   "source": [
    "***"
   ]
  },
  {
   "cell_type": "markdown",
   "id": "0b27b4fb-c679-412b-9328-fd0f38d2a2fb",
   "metadata": {},
   "source": [
    "# <span style=\"color:red\">Solution 3</span>"
   ]
  },
  {
   "cell_type": "code",
   "execution_count": 10,
   "id": "21ce5cfa-196f-4607-9785-4222571b1ace",
   "metadata": {},
   "outputs": [],
   "source": [
    "SHEET = \"proshares excess returns\"\n",
    "combined = pd.read_excel(FILEIN, sheet_name=SHEET).set_index('date')"
   ]
  },
  {
   "cell_type": "markdown",
   "id": "3f17aaa7-a865-4918-b61f-d5a6d0d244dc",
   "metadata": {},
   "source": [
    "### <span style=\"color:red\">3.1.</span>"
   ]
  },
  {
   "cell_type": "code",
   "execution_count": 11,
   "id": "bdb810b5-40cb-4e2d-8682-0bf715ab3f4c",
   "metadata": {},
   "outputs": [
    {
     "data": {
      "text/plain": [
       "QAI US Equity    -166,628.9443\n",
       "SPY US Equity    -240,419.3102\n",
       "EEM US Equity     -44,877.0281\n",
       "UPRO US Equity     69,393.2405\n",
       "SPXU US Equity    -16,065.4799\n",
       "IWM US Equity    -139,894.4199\n",
       "EFA US Equity    -120,176.8539\n",
       "dtype: float64"
      ]
     },
     "execution_count": 11,
     "metadata": {},
     "output_type": "execute_result"
    }
   ],
   "source": [
    "import statsmodels.api as sm\n",
    "\n",
    "# HDG US Equity is the independent variable\n",
    "Y = combined['HDG US Equity']\n",
    "# The rest of the columns are the dependent variables\n",
    "X = combined[['QAI US Equity', 'SPY US Equity', 'EEM US Equity', 'UPRO US Equity', 'SPXU US Equity', 'IWM US Equity',\n",
    "            'EFA US Equity']]\n",
    "\n",
    "# Suppose we want to replicate the performance of HDG US Equity using the other ETFs.\n",
    "# What are the weights we should assign to each ETF?\n",
    "model = sm.OLS(Y, X)\n",
    "results = model.fit()\n",
    "results.params * 1_000_000 * -1"
   ]
  },
  {
   "cell_type": "markdown",
   "id": "e0357f5e-0af0-470c-ad03-3ef4177eacf4",
   "metadata": {},
   "source": [
    "### <span style=\"color:red\">3.2.</span>"
   ]
  },
  {
   "cell_type": "code",
   "execution_count": 12,
   "id": "98ef053f-1957-4df6-a08f-a9ddc5246581",
   "metadata": {},
   "outputs": [
    {
     "name": "stdout",
     "output_type": "stream",
     "text": [
      "$797,455\n"
     ]
    }
   ],
   "source": [
    "print(f\"${results.params.abs().sum() * 1_000_000:,.0f}\")"
   ]
  },
  {
   "cell_type": "code",
   "execution_count": 13,
   "id": "24cade99-4c95-4f0a-90d5-44202df7c45a",
   "metadata": {},
   "outputs": [
    {
     "name": "stdout",
     "output_type": "stream",
     "text": [
      "0.912\n"
     ]
    }
   ],
   "source": [
    "print(f\"{results.rsquared:.3f}\")"
   ]
  },
  {
   "cell_type": "markdown",
   "id": "7cf5b46a-d91a-4e5e-8163-8aa5ac17dd6e",
   "metadata": {},
   "source": [
    "### <span style=\"color:red\">3.3.</span>"
   ]
  },
  {
   "cell_type": "code",
   "execution_count": 14,
   "id": "61161ab6-f4a7-464d-b9c5-53b4872acdd1",
   "metadata": {},
   "outputs": [
    {
     "data": {
      "text/plain": [
       "QAI US Equity   0.3564\n",
       "SPY US Equity   0.1627\n",
       "EEM US Equity   0.0865\n",
       "dtype: float64"
      ]
     },
     "execution_count": 14,
     "metadata": {},
     "output_type": "execute_result"
    }
   ],
   "source": [
    "# # Only use QAI, SPY, and EEM\n",
    "X = combined[['QAI US Equity', 'SPY US Equity', 'EEM US Equity']]\n",
    "trading_residuals_model = sm.OLS(Y, X).fit()\n",
    "betas = trading_residuals_model.params\n",
    "betas"
   ]
  },
  {
   "cell_type": "code",
   "execution_count": 15,
   "id": "716b55e0-d465-4946-89f5-1073d3fb018f",
   "metadata": {},
   "outputs": [],
   "source": [
    "basket_portfolio = pmh.create_portfolio(\n",
    "    combined[['QAI US Equity', 'SPY US Equity', 'EEM US Equity']], weights=betas.to_dict(), port_name=\"Basket Portfolio\"\n",
    ")"
   ]
  },
  {
   "cell_type": "markdown",
   "id": "0b684522-116a-44d5-9f8d-284d3f7373e8",
   "metadata": {},
   "source": [
    "### <span style=\"color:red\">3.4.</span>"
   ]
  },
  {
   "cell_type": "code",
   "execution_count": 16,
   "id": "c431ebfc-5d1b-4fac-857f-4af9eaa9de34",
   "metadata": {},
   "outputs": [],
   "source": [
    "residuals = Y - X @ betas\n",
    "strategy = (\n",
    "    residuals\n",
    "    .to_frame(\"Residuals\")\n",
    "    .join(basket_portfolio, how=\"outer\")\n",
    "    .join(combined[['HDG US Equity']], how=\"outer\")\n",
    "    .assign(Residuals=lambda df: df['Residuals'].shift())\n",
    "    .assign(Strategy=lambda df: np.select(\n",
    "        condlist=[df[\"Residuals\"] > 0, True],\n",
    "        choicelist=[\n",
    "            df[\"HDG US Equity\"] * 2 - df[\"Basket Portfolio\"] * 1,\n",
    "            df[\"Basket Portfolio\"] * 2 - df[\"HDG US Equity\"] * 1,\n",
    "        ]\n",
    "    ))\n",
    ")\n"
   ]
  },
  {
   "cell_type": "code",
   "execution_count": 17,
   "id": "f1873cec",
   "metadata": {},
   "outputs": [],
   "source": [
    "strategy_shift_other = (\n",
    "    residuals\n",
    "    .to_frame(\"Residuals\")\n",
    "    .join(basket_portfolio, how=\"outer\")\n",
    "    .join(combined[['HDG US Equity']], how=\"outer\")\n",
    "    .assign(Residuals=lambda df: df['Residuals'])\n",
    "    .assign(Strategy=lambda df: np.select(\n",
    "        condlist=[df[\"Residuals\"] > 0, True],\n",
    "        choicelist=[\n",
    "            df[\"HDG US Equity\"].shift(-1) * 2 - df[\"Basket Portfolio\"].shift(-1) * 1,\n",
    "            df[\"Basket Portfolio\"].shift(-1) * 2 - df[\"HDG US Equity\"].shift(-1) * 1,\n",
    "        ]\n",
    "    ))\n",
    ")\n"
   ]
  },
  {
   "cell_type": "code",
   "execution_count": 18,
   "id": "c64e19af-3aa9-42f4-9008-02f1f12f0414",
   "metadata": {},
   "outputs": [
    {
     "data": {
      "text/html": [
       "<div>\n",
       "<style scoped>\n",
       "    .dataframe tbody tr th:only-of-type {\n",
       "        vertical-align: middle;\n",
       "    }\n",
       "\n",
       "    .dataframe tbody tr th {\n",
       "        vertical-align: top;\n",
       "    }\n",
       "\n",
       "    .dataframe thead th {\n",
       "        text-align: right;\n",
       "    }\n",
       "</style>\n",
       "<table border=\"1\" class=\"dataframe\">\n",
       "  <thead>\n",
       "    <tr style=\"text-align: right;\">\n",
       "      <th></th>\n",
       "      <th>Annualized Mean</th>\n",
       "      <th>Annualized Vol</th>\n",
       "      <th>Annualized Sharpe</th>\n",
       "    </tr>\n",
       "  </thead>\n",
       "  <tbody>\n",
       "    <tr>\n",
       "      <th>Basket Portfolio</th>\n",
       "      <td>0.0355</td>\n",
       "      <td>0.0531</td>\n",
       "      <td>0.6675</td>\n",
       "    </tr>\n",
       "    <tr>\n",
       "      <th>HDG US Equity</th>\n",
       "      <td>0.0248</td>\n",
       "      <td>0.0584</td>\n",
       "      <td>0.4248</td>\n",
       "    </tr>\n",
       "    <tr>\n",
       "      <th>Strategy</th>\n",
       "      <td>0.0263</td>\n",
       "      <td>0.0665</td>\n",
       "      <td>0.3962</td>\n",
       "    </tr>\n",
       "  </tbody>\n",
       "</table>\n",
       "</div>"
      ],
      "text/plain": [
       "                  Annualized Mean  Annualized Vol  Annualized Sharpe\n",
       "Basket Portfolio           0.0355          0.0531             0.6675\n",
       "HDG US Equity              0.0248          0.0584             0.4248\n",
       "Strategy                   0.0263          0.0665             0.3962"
      ]
     },
     "execution_count": 18,
     "metadata": {},
     "output_type": "execute_result"
    }
   ],
   "source": [
    "pmh.calc_summary_statistics(\n",
    "    strategy,\n",
    "    provided_excess_returns=True,\n",
    "    annual_factor=12,\n",
    "    keep_columns=[\"Annualized Mean\", \"Annualized Vol\", \"Annualized Sharpe\"],\n",
    "    drop_indexes=[\"Residuals\"]\n",
    ")"
   ]
  },
  {
   "cell_type": "code",
   "execution_count": 19,
   "id": "c46fab39",
   "metadata": {},
   "outputs": [
    {
     "data": {
      "text/html": [
       "<div>\n",
       "<style scoped>\n",
       "    .dataframe tbody tr th:only-of-type {\n",
       "        vertical-align: middle;\n",
       "    }\n",
       "\n",
       "    .dataframe tbody tr th {\n",
       "        vertical-align: top;\n",
       "    }\n",
       "\n",
       "    .dataframe thead th {\n",
       "        text-align: right;\n",
       "    }\n",
       "</style>\n",
       "<table border=\"1\" class=\"dataframe\">\n",
       "  <thead>\n",
       "    <tr style=\"text-align: right;\">\n",
       "      <th></th>\n",
       "      <th>Annualized Mean</th>\n",
       "      <th>Annualized Vol</th>\n",
       "      <th>Annualized Sharpe</th>\n",
       "    </tr>\n",
       "  </thead>\n",
       "  <tbody>\n",
       "    <tr>\n",
       "      <th>Basket Portfolio</th>\n",
       "      <td>0.0355</td>\n",
       "      <td>0.0531</td>\n",
       "      <td>0.6675</td>\n",
       "    </tr>\n",
       "    <tr>\n",
       "      <th>HDG US Equity</th>\n",
       "      <td>0.0248</td>\n",
       "      <td>0.0584</td>\n",
       "      <td>0.4248</td>\n",
       "    </tr>\n",
       "    <tr>\n",
       "      <th>Strategy</th>\n",
       "      <td>0.0274</td>\n",
       "      <td>0.0666</td>\n",
       "      <td>0.4112</td>\n",
       "    </tr>\n",
       "  </tbody>\n",
       "</table>\n",
       "</div>"
      ],
      "text/plain": [
       "                  Annualized Mean  Annualized Vol  Annualized Sharpe\n",
       "Basket Portfolio           0.0355          0.0531             0.6675\n",
       "HDG US Equity              0.0248          0.0584             0.4248\n",
       "Strategy                   0.0274          0.0666             0.4112"
      ]
     },
     "execution_count": 19,
     "metadata": {},
     "output_type": "execute_result"
    }
   ],
   "source": [
    "pmh.calc_summary_statistics(\n",
    "    strategy_shift_other,\n",
    "    provided_excess_returns=True,\n",
    "    annual_factor=12,\n",
    "    keep_columns=[\"Annualized Mean\", \"Annualized Vol\", \"Annualized Sharpe\"],\n",
    "    drop_indexes=[\"Residuals\"]\n",
    ")"
   ]
  },
  {
   "cell_type": "markdown",
   "id": "356e90c6-49e6-4df4-84ee-6598ed9ce939",
   "metadata": {},
   "source": [
    "### <span style=\"color:red\">3.5.</span>"
   ]
  },
  {
   "cell_type": "code",
   "execution_count": 20,
   "id": "abf13d7e-0de7-497f-a216-3140a6fc5d90",
   "metadata": {},
   "outputs": [
    {
     "name": "stdout",
     "output_type": "stream",
     "text": [
      "The highest correlation (99.65%) is between UPRO US Equity and SPY US Equity\n",
      "The lowest correlation (-95.55%) is between SPY US Equity and SPXU US Equity\n"
     ]
    },
    {
     "data": {
      "text/plain": [
       "<AxesSubplot:>"
      ]
     },
     "execution_count": 20,
     "metadata": {},
     "output_type": "execute_result"
    },
    {
     "data": {
      "image/png": "[encoded data removed]",
      "text/plain": [
       "<Figure size 1050x700 with 2 Axes>"
      ]
     },
     "metadata": {},
     "output_type": "display_data"
    }
   ],
   "source": [
    "# This question was not explicit in which ETFs to include. 2 possible answers are provided.\n",
    "X_replicate = combined.loc[:, ~combined.columns.isin(['QAI US Equity'])]\n",
    "Y = combined[['QAI US Equity']]\n",
    "pmh.calc_correlations(X_replicate)"
   ]
  },
  {
   "cell_type": "code",
   "execution_count": 21,
   "id": "e88ad07c-a013-43f6-844b-b5857174f426",
   "metadata": {},
   "outputs": [
    {
     "data": {
      "text/html": [
       "<div>\n",
       "<style scoped>\n",
       "    .dataframe tbody tr th:only-of-type {\n",
       "        vertical-align: middle;\n",
       "    }\n",
       "\n",
       "    .dataframe tbody tr th {\n",
       "        vertical-align: top;\n",
       "    }\n",
       "\n",
       "    .dataframe thead th {\n",
       "        text-align: right;\n",
       "    }\n",
       "</style>\n",
       "<table border=\"1\" class=\"dataframe\">\n",
       "  <thead>\n",
       "    <tr style=\"text-align: right;\">\n",
       "      <th></th>\n",
       "      <th>QAI US Equity</th>\n",
       "    </tr>\n",
       "  </thead>\n",
       "  <tbody>\n",
       "    <tr>\n",
       "      <th>Alpha</th>\n",
       "      <td>-0.0005</td>\n",
       "    </tr>\n",
       "    <tr>\n",
       "      <th>Annualized Alpha</th>\n",
       "      <td>-0.0063</td>\n",
       "    </tr>\n",
       "    <tr>\n",
       "      <th>R-Squared</th>\n",
       "      <td>0.8420</td>\n",
       "    </tr>\n",
       "    <tr>\n",
       "      <th>HDG US Equity Beta</th>\n",
       "      <td>0.2315</td>\n",
       "    </tr>\n",
       "    <tr>\n",
       "      <th>SPY US Equity Beta</th>\n",
       "      <td>0.5651</td>\n",
       "    </tr>\n",
       "    <tr>\n",
       "      <th>EEM US Equity Beta</th>\n",
       "      <td>0.0478</td>\n",
       "    </tr>\n",
       "    <tr>\n",
       "      <th>EFA US Equity Beta</th>\n",
       "      <td>0.0326</td>\n",
       "    </tr>\n",
       "    <tr>\n",
       "      <th>EUO US Equity Beta</th>\n",
       "      <td>-0.0205</td>\n",
       "    </tr>\n",
       "    <tr>\n",
       "      <th>IWM US Equity Beta</th>\n",
       "      <td>-0.0002</td>\n",
       "    </tr>\n",
       "    <tr>\n",
       "      <th>SPXU US Equity Beta</th>\n",
       "      <td>0.0511</td>\n",
       "    </tr>\n",
       "    <tr>\n",
       "      <th>UPRO US Equity Beta</th>\n",
       "      <td>-0.0951</td>\n",
       "    </tr>\n",
       "    <tr>\n",
       "      <th>Information Ratio</th>\n",
       "      <td>-0.0914</td>\n",
       "    </tr>\n",
       "    <tr>\n",
       "      <th>Annualized Information Ratio</th>\n",
       "      <td>-0.3167</td>\n",
       "    </tr>\n",
       "  </tbody>\n",
       "</table>\n",
       "</div>"
      ],
      "text/plain": [
       "                              QAI US Equity\n",
       "Alpha                               -0.0005\n",
       "Annualized Alpha                    -0.0063\n",
       "R-Squared                            0.8420\n",
       "HDG US Equity Beta                   0.2315\n",
       "SPY US Equity Beta                   0.5651\n",
       "EEM US Equity Beta                   0.0478\n",
       "EFA US Equity Beta                   0.0326\n",
       "EUO US Equity Beta                  -0.0205\n",
       "IWM US Equity Beta                  -0.0002\n",
       "SPXU US Equity Beta                  0.0511\n",
       "UPRO US Equity Beta                 -0.0951\n",
       "Information Ratio                   -0.0914\n",
       "Annualized Information Ratio        -0.3167"
      ]
     },
     "execution_count": 21,
     "metadata": {},
     "output_type": "execute_result"
    }
   ],
   "source": [
    "qai_tracking_regression = pmh.calc_regression(\n",
    "    Y, X_replicate,\n",
    "    annual_factor=12,\n",
    "    keep_columns=['Alpha', 'Beta', 'Information Ratio', 'R-Squared'],\n",
    "    warnings=False\n",
    ")\n",
    "qai_tracking_regression.transpose()"
   ]
  },
  {
   "cell_type": "code",
   "execution_count": 22,
   "id": "fbd4a65b-0266-4d34-b3bf-ec1b059f603b",
   "metadata": {},
   "outputs": [
    {
     "name": "stdout",
     "output_type": "stream",
     "text": [
      "Sum of Betas: 1.04\n"
     ]
    }
   ],
   "source": [
    "qai_tracking_betas = pmh.calc_regression(Y, X_replicate, annual_factor=12, keep_columns=['Beta'], warnings=False)\n",
    "print(f\"Sum of Betas: {qai_tracking_betas.abs().sum(axis=1).values[0]:.2f}\")"
   ]
  },
  {
   "cell_type": "code",
   "execution_count": 27,
   "id": "c29d79bd",
   "metadata": {},
   "outputs": [
    {
     "name": "stdout",
     "output_type": "stream",
     "text": [
      "The highest correlation (99.65%) is between UPRO US Equity and SPY US Equity\n",
      "The lowest correlation (-95.55%) is between SPXU US Equity and SPY US Equity\n",
      "Sum of Betas: 1.05\n"
     ]
    },
    {
     "data": {
      "image/png": "[encoded data removed]",
      "text/plain": [
       "<Figure size 1050x700 with 2 Axes>"
      ]
     },
     "metadata": {},
     "output_type": "display_data"
    }
   ],
   "source": [
    "X_replicate = combined[['HDG US Equity', 'SPY US Equity', 'EEM US Equity', 'UPRO US Equity', 'SPXU US Equity', 'IWM US Equity',\n",
    "            'EFA US Equity']]\n",
    "pmh.calc_correlations(X_replicate)\n",
    "qai_tracking_betas = pmh.calc_regression(Y, X_replicate, annual_factor=12, keep_columns=['Beta'], warnings=False)\n",
    "print(f\"Sum of Betas: {qai_tracking_betas.abs().sum(axis=1).values[0]:.2f}\")"
   ]
  },
  {
   "cell_type": "code",
   "execution_count": 28,
   "id": "e58efba7",
   "metadata": {},
   "outputs": [
    {
     "data": {
      "text/html": [
       "<div>\n",
       "<style scoped>\n",
       "    .dataframe tbody tr th:only-of-type {\n",
       "        vertical-align: middle;\n",
       "    }\n",
       "\n",
       "    .dataframe tbody tr th {\n",
       "        vertical-align: top;\n",
       "    }\n",
       "\n",
       "    .dataframe thead th {\n",
       "        text-align: right;\n",
       "    }\n",
       "</style>\n",
       "<table border=\"1\" class=\"dataframe\">\n",
       "  <thead>\n",
       "    <tr style=\"text-align: right;\">\n",
       "      <th></th>\n",
       "      <th>QAI US Equity</th>\n",
       "    </tr>\n",
       "  </thead>\n",
       "  <tbody>\n",
       "    <tr>\n",
       "      <th>Alpha</th>\n",
       "      <td>-0.0007</td>\n",
       "    </tr>\n",
       "    <tr>\n",
       "      <th>Annualized Alpha</th>\n",
       "      <td>-0.0083</td>\n",
       "    </tr>\n",
       "    <tr>\n",
       "      <th>R-Squared</th>\n",
       "      <td>0.8400</td>\n",
       "    </tr>\n",
       "    <tr>\n",
       "      <th>HDG US Equity Beta</th>\n",
       "      <td>0.2040</td>\n",
       "    </tr>\n",
       "    <tr>\n",
       "      <th>SPY US Equity Beta</th>\n",
       "      <td>0.5835</td>\n",
       "    </tr>\n",
       "    <tr>\n",
       "      <th>EEM US Equity Beta</th>\n",
       "      <td>0.0563</td>\n",
       "    </tr>\n",
       "    <tr>\n",
       "      <th>UPRO US Equity Beta</th>\n",
       "      <td>-0.1049</td>\n",
       "    </tr>\n",
       "    <tr>\n",
       "      <th>SPXU US Equity Beta</th>\n",
       "      <td>0.0491</td>\n",
       "    </tr>\n",
       "    <tr>\n",
       "      <th>IWM US Equity Beta</th>\n",
       "      <td>0.0006</td>\n",
       "    </tr>\n",
       "    <tr>\n",
       "      <th>EFA US Equity Beta</th>\n",
       "      <td>0.0500</td>\n",
       "    </tr>\n",
       "    <tr>\n",
       "      <th>Information Ratio</th>\n",
       "      <td>-0.1191</td>\n",
       "    </tr>\n",
       "    <tr>\n",
       "      <th>Annualized Information Ratio</th>\n",
       "      <td>-0.4126</td>\n",
       "    </tr>\n",
       "  </tbody>\n",
       "</table>\n",
       "</div>"
      ],
      "text/plain": [
       "                              QAI US Equity\n",
       "Alpha                               -0.0007\n",
       "Annualized Alpha                    -0.0083\n",
       "R-Squared                            0.8400\n",
       "HDG US Equity Beta                   0.2040\n",
       "SPY US Equity Beta                   0.5835\n",
       "EEM US Equity Beta                   0.0563\n",
       "UPRO US Equity Beta                 -0.1049\n",
       "SPXU US Equity Beta                  0.0491\n",
       "IWM US Equity Beta                   0.0006\n",
       "EFA US Equity Beta                   0.0500\n",
       "Information Ratio                   -0.1191\n",
       "Annualized Information Ratio        -0.4126"
      ]
     },
     "execution_count": 28,
     "metadata": {},
     "output_type": "execute_result"
    }
   ],
   "source": [
    "qai_tracking_regression = pmh.calc_regression(\n",
    "    Y, X_replicate,\n",
    "    annual_factor=12,\n",
    "    keep_columns=['Alpha', 'Beta', 'Information Ratio', 'R-Squared'],\n",
    "    warnings=False\n",
    ")\n",
    "qai_tracking_regression.transpose()"
   ]
  },
  {
   "cell_type": "markdown",
   "id": "a13584d5-64d7-4508-80b4-a6cd84357546",
   "metadata": {},
   "source": [
    "### <span style=\"color:red\">3.6.</span>"
   ]
  },
  {
   "cell_type": "markdown",
   "id": "64538679-9cf3-4864-a8d3-87710aa82c96",
   "metadata": {},
   "source": [
    "\n",
    "- $\\beta$'s: The sum of betas is reasonable. In total, we do not require extreme exposure to other assets to replicate QAI.\n",
    "- $\\alpha$: Alpha is close to zero (with low IR), which highlights that there is no mean return of QAI which cannot be tracked by those other assets. We can more easily reject that there will be a difference in mean return in the out-of-sample between QAI and the replication, which would allow us to better replicate it.\n",
    "- $R^2$: the R-Squared is big, which highlights that we are able to capture the variance of QAI with the available ETFs.\n",
    "- Correlation matrix: the correlation matrix has big correlation between assets, which can be viewed as a considerable disadvantage. Therefore, we have the problem of high collinearity. In such case, small changes in data in the out-of-sample provide considerable changes in what would be the optimal replication. \n"
   ]
  },
  {
   "cell_type": "markdown",
   "id": "ecd7b8ee",
   "metadata": {},
   "source": [
    "***"
   ]
  },
  {
   "cell_type": "markdown",
   "id": "cb06f50c-cc60-4ee7-9828-bc6bff90c46d",
   "metadata": {},
   "source": [
    "# 4. "
   ]
  },
  {
   "cell_type": "markdown",
   "id": "4c6cde15-77e9-480a-ac34-0ae92694cdab",
   "metadata": {},
   "source": [
    "The data in sheet `fx carry excess returns` has **excess** daily returns for trading currencies.\n",
    "* You **do NOT need** to know anything about FX, currency, or the underlying strategies.\n",
    "* Rather, just take these return series as given.\n",
    "\n",
    "For the problems below, we will **only use** the `JPY` series."
   ]
  },
  {
   "cell_type": "markdown",
   "id": "b827c465-d9dd-4466-bbc7-946e3fce7029",
   "metadata": {},
   "source": [
    "### 1.\n",
    "\n",
    "Calculate the `1%` VaR as follows...\n",
    "\n",
    "Empirical VaR:\n",
    "* At every point in time, calculate the `1st` quantile of the returns up to that point.\n",
    "* No need to scale the answers.\n",
    "  \n",
    "Report the VaR for the final date of the sample."
   ]
  },
  {
   "cell_type": "markdown",
   "id": "f973bfcf-8d52-4465-8513-f393b85393c4",
   "metadata": {},
   "source": [
    "### 2.\n",
    "\n",
    "Now calculate the `normal VaR` of `JPY` as follows,\n",
    "\n",
    "$$\\text{Normal VaR (1\\%)} = -2.33\\, \\sigma_t$$\n",
    "\n",
    "where $\\sigma_t$ is estimated with\n",
    "* rolling volatility.\n",
    "* using a window of `233` days.\n",
    "* without using a sample mean.\n",
    "\n",
    "Report the VaR for the final `3 days` of the sample."
   ]
  },
  {
   "cell_type": "markdown",
   "id": "98805080-a0db-48bd-ab7a-34574b8ace75",
   "metadata": {},
   "source": [
    "### 3.\n",
    "\n",
    "Now calculate the `normal VaR` of `JPY` as follows,\n",
    "\n",
    "$$\\text{Normal VaR (1\\%)} = -2.33\\, \\sigma_t$$\n",
    "\n",
    "where $\\sigma_t$ is estimated with\n",
    "* EWMA volatility\n",
    "* using $\\lambda = 0.94$.\n",
    "* without using a sample mean.\n",
    "\n",
    "Note that...\n",
    "* You can calculate the EWMA vol directly from the info above (per the lecture.)\n",
    "* If you prefer the recursive formula, go ahead with $\\sigma_0 = 0.005$ (Note that this quoted value is already scaled for daily returns, so no rescaling is needed.)\n",
    "\n",
    "Report the VaR for the final `3 days` of the sample."
   ]
  },
  {
   "cell_type": "markdown",
   "id": "1778a4f4-0382-4b27-a4bd-5b980fee9f82",
   "metadata": {},
   "source": [
    "### 4.\n",
    "\n",
    "Make a plot of the three timeseries of your VaR estimates.\n",
    "\n",
    "Succinctly point out the pros / cons of these approaches."
   ]
  },
  {
   "cell_type": "markdown",
   "id": "766661e3-af58-4918-ba7e-e9aba15333da",
   "metadata": {},
   "source": [
    "### 5.\n",
    "\n",
    "What statistic do we use to judge the performance of a VaR model?\n",
    "\n",
    "Estimate and report this statistic across the VaR methods.\n",
    "\n",
    "Which VaR model do you find is best?"
   ]
  },
  {
   "cell_type": "markdown",
   "id": "cff0e17f-9126-4f11-99c0-fa9796143021",
   "metadata": {},
   "source": [
    "***"
   ]
  },
  {
   "cell_type": "markdown",
   "id": "041fe1c0-039b-4a7e-ba29-22483078d711",
   "metadata": {},
   "source": [
    "# <span style=\"color:red\">Solution 4</span>"
   ]
  },
  {
   "cell_type": "code",
   "execution_count": 10,
   "id": "e7701547-50b2-4ba0-be76-8c86d908ae36",
   "metadata": {},
   "outputs": [],
   "source": [
    "from scipy.optimize import minimize"
   ]
  },
  {
   "cell_type": "code",
   "execution_count": 13,
   "id": "572a8042-78d1-4828-a4b6-eca8b7d8438c",
   "metadata": {},
   "outputs": [],
   "source": [
    "SHEET = 'fx carry returns'\n",
    "rx = pd.read_excel(FILEIN, sheet_name=SHEET).set_index('date')\n",
    "\n",
    "TICK = 'JPY'\n",
    "QUANTILE = .01\n",
    "jpy = rx[[TICK]]\n",
    "\n",
    "DAYS_FX = 233"
   ]
  },
  {
   "cell_type": "markdown",
   "id": "2bf59942-210c-4551-ae87-3ec32a2f1f5c",
   "metadata": {},
   "source": [
    "### <span style=\"color:red\">4.1.</span>"
   ]
  },
  {
   "cell_type": "code",
   "execution_count": 14,
   "id": "00436fa4-5840-47d4-8cff-299c5cb35f19",
   "metadata": {},
   "outputs": [
    {
     "name": "stdout",
     "output_type": "stream",
     "text": [
      "Using \"window\" of 60 periods, since none was specified\n"
     ]
    },
    {
     "name": "stderr",
     "output_type": "stream",
     "text": [
      "/opt/homebrew/anaconda3/envs/finm/lib/python3.12/site-packages/arch/univariate/base.py:766: ConvergenceWarning: The optimizer returned code 4. The message is:\n",
      "Inequality constraints incompatible\n",
      "See scipy.optimize.fmin_slsqp for code meaning.\n",
      "\n",
      "  warnings.warn(\n"
     ]
    },
    {
     "name": "stdout",
     "output_type": "stream",
     "text": [
      "VaR and CVaR are given shifted by 1.000000 period(s).\n"
     ]
    },
    {
     "data": {
      "text/html": [
       "<div>\n",
       "<style scoped>\n",
       "    .dataframe tbody tr th:only-of-type {\n",
       "        vertical-align: middle;\n",
       "    }\n",
       "\n",
       "    .dataframe tbody tr th {\n",
       "        vertical-align: top;\n",
       "    }\n",
       "\n",
       "    .dataframe thead th {\n",
       "        text-align: right;\n",
       "    }\n",
       "</style>\n",
       "<table border=\"1\" class=\"dataframe\">\n",
       "  <thead>\n",
       "    <tr style=\"text-align: right;\">\n",
       "      <th></th>\n",
       "      <th>Returns</th>\n",
       "      <th>Expanding 60 Historical VaR (1.00%)</th>\n",
       "      <th>Rolling 60 Historical VaR (1.00%)</th>\n",
       "      <th>Expanding 60 Volatility</th>\n",
       "      <th>Rolling 60 Volatility</th>\n",
       "      <th>EWMA 0.94 Volatility</th>\n",
       "      <th>GARCH(1, 1) Volatility</th>\n",
       "      <th>Expanding 60 Parametric VaR (1.00%)</th>\n",
       "      <th>Rolling 60 Parametric VaR (1.00%)</th>\n",
       "      <th>EWMA 0.94 Parametric VaR (1.00%)</th>\n",
       "      <th>GARCH(1, 1) Parametric VaR (1.00%)</th>\n",
       "      <th>Expanding 60 Historical CVaR (1.00%)</th>\n",
       "      <th>Rolling 60 Historical CVaR (1.00%)</th>\n",
       "      <th>Expanding 60 Parametrical CVaR (1.00%)</th>\n",
       "      <th>Rolling 60 Parametrical CVaR (1.00%)</th>\n",
       "      <th>EWMA 0.94 Parametrical CVaR (1.00%)</th>\n",
       "      <th>GARCH(1, 1) Parametrical CVaR (1.00%)</th>\n",
       "    </tr>\n",
       "    <tr>\n",
       "      <th>date</th>\n",
       "      <th></th>\n",
       "      <th></th>\n",
       "      <th></th>\n",
       "      <th></th>\n",
       "      <th></th>\n",
       "      <th></th>\n",
       "      <th></th>\n",
       "      <th></th>\n",
       "      <th></th>\n",
       "      <th></th>\n",
       "      <th></th>\n",
       "      <th></th>\n",
       "      <th></th>\n",
       "      <th></th>\n",
       "      <th></th>\n",
       "      <th></th>\n",
       "      <th></th>\n",
       "    </tr>\n",
       "  </thead>\n",
       "  <tbody>\n",
       "    <tr>\n",
       "      <th>2019-01-07</th>\n",
       "      <td>NaN</td>\n",
       "      <td>NaN</td>\n",
       "      <td>NaN</td>\n",
       "      <td>NaN</td>\n",
       "      <td>NaN</td>\n",
       "      <td>NaN</td>\n",
       "      <td>NaN</td>\n",
       "      <td>NaN</td>\n",
       "      <td>NaN</td>\n",
       "      <td>NaN</td>\n",
       "      <td>NaN</td>\n",
       "      <td>NaN</td>\n",
       "      <td>NaN</td>\n",
       "      <td>NaN</td>\n",
       "      <td>NaN</td>\n",
       "      <td>NaN</td>\n",
       "      <td>NaN</td>\n",
       "    </tr>\n",
       "    <tr>\n",
       "      <th>2019-01-08</th>\n",
       "      <td>-0.0018</td>\n",
       "      <td>NaN</td>\n",
       "      <td>NaN</td>\n",
       "      <td>NaN</td>\n",
       "      <td>NaN</td>\n",
       "      <td>0.0122</td>\n",
       "      <td>0.0029</td>\n",
       "      <td>NaN</td>\n",
       "      <td>NaN</td>\n",
       "      <td>-0.0284</td>\n",
       "      <td>-0.0068</td>\n",
       "      <td>NaN</td>\n",
       "      <td>NaN</td>\n",
       "      <td>NaN</td>\n",
       "      <td>NaN</td>\n",
       "      <td>-0.0326</td>\n",
       "      <td>-0.0078</td>\n",
       "    </tr>\n",
       "    <tr>\n",
       "      <th>2019-01-09</th>\n",
       "      <td>-0.0003</td>\n",
       "      <td>NaN</td>\n",
       "      <td>NaN</td>\n",
       "      <td>NaN</td>\n",
       "      <td>NaN</td>\n",
       "      <td>0.0119</td>\n",
       "      <td>0.1103</td>\n",
       "      <td>NaN</td>\n",
       "      <td>NaN</td>\n",
       "      <td>-0.0276</td>\n",
       "      <td>-0.2566</td>\n",
       "      <td>NaN</td>\n",
       "      <td>NaN</td>\n",
       "      <td>NaN</td>\n",
       "      <td>NaN</td>\n",
       "      <td>-0.0316</td>\n",
       "      <td>-0.2939</td>\n",
       "    </tr>\n",
       "    <tr>\n",
       "      <th>2019-01-10</th>\n",
       "      <td>0.0052</td>\n",
       "      <td>NaN</td>\n",
       "      <td>NaN</td>\n",
       "      <td>NaN</td>\n",
       "      <td>NaN</td>\n",
       "      <td>0.0116</td>\n",
       "      <td>0.1508</td>\n",
       "      <td>NaN</td>\n",
       "      <td>NaN</td>\n",
       "      <td>-0.0269</td>\n",
       "      <td>-0.3509</td>\n",
       "      <td>NaN</td>\n",
       "      <td>NaN</td>\n",
       "      <td>NaN</td>\n",
       "      <td>NaN</td>\n",
       "      <td>-0.0308</td>\n",
       "      <td>-0.4020</td>\n",
       "    </tr>\n",
       "    <tr>\n",
       "      <th>2019-01-11</th>\n",
       "      <td>-0.0025</td>\n",
       "      <td>NaN</td>\n",
       "      <td>NaN</td>\n",
       "      <td>NaN</td>\n",
       "      <td>NaN</td>\n",
       "      <td>0.0112</td>\n",
       "      <td>0.1780</td>\n",
       "      <td>NaN</td>\n",
       "      <td>NaN</td>\n",
       "      <td>-0.0261</td>\n",
       "      <td>-0.4141</td>\n",
       "      <td>NaN</td>\n",
       "      <td>NaN</td>\n",
       "      <td>NaN</td>\n",
       "      <td>NaN</td>\n",
       "      <td>-0.0299</td>\n",
       "      <td>-0.4745</td>\n",
       "    </tr>\n",
       "    <tr>\n",
       "      <th>...</th>\n",
       "      <td>...</td>\n",
       "      <td>...</td>\n",
       "      <td>...</td>\n",
       "      <td>...</td>\n",
       "      <td>...</td>\n",
       "      <td>...</td>\n",
       "      <td>...</td>\n",
       "      <td>...</td>\n",
       "      <td>...</td>\n",
       "      <td>...</td>\n",
       "      <td>...</td>\n",
       "      <td>...</td>\n",
       "      <td>...</td>\n",
       "      <td>...</td>\n",
       "      <td>...</td>\n",
       "      <td>...</td>\n",
       "      <td>...</td>\n",
       "    </tr>\n",
       "    <tr>\n",
       "      <th>2024-07-30</th>\n",
       "      <td>-0.0019</td>\n",
       "      <td>-0.0172</td>\n",
       "      <td>-0.0118</td>\n",
       "      <td>0.0057</td>\n",
       "      <td>0.0062</td>\n",
       "      <td>0.0063</td>\n",
       "      <td>0.3142</td>\n",
       "      <td>-0.0133</td>\n",
       "      <td>-0.0144</td>\n",
       "      <td>-0.0146</td>\n",
       "      <td>-0.7309</td>\n",
       "      <td>-0.0217</td>\n",
       "      <td>-0.0172</td>\n",
       "      <td>-0.0153</td>\n",
       "      <td>-0.0164</td>\n",
       "      <td>-0.0168</td>\n",
       "      <td>-0.8374</td>\n",
       "    </tr>\n",
       "    <tr>\n",
       "      <th>2024-07-31</th>\n",
       "      <td>0.0079</td>\n",
       "      <td>-0.0172</td>\n",
       "      <td>-0.0076</td>\n",
       "      <td>0.0057</td>\n",
       "      <td>0.0058</td>\n",
       "      <td>0.0064</td>\n",
       "      <td>0.3147</td>\n",
       "      <td>-0.0133</td>\n",
       "      <td>-0.0136</td>\n",
       "      <td>-0.0149</td>\n",
       "      <td>-0.7321</td>\n",
       "      <td>-0.0217</td>\n",
       "      <td>-0.0080</td>\n",
       "      <td>-0.0153</td>\n",
       "      <td>-0.0156</td>\n",
       "      <td>-0.0171</td>\n",
       "      <td>-0.8387</td>\n",
       "    </tr>\n",
       "    <tr>\n",
       "      <th>2024-08-01</th>\n",
       "      <td>0.0183</td>\n",
       "      <td>-0.0172</td>\n",
       "      <td>-0.0076</td>\n",
       "      <td>0.0057</td>\n",
       "      <td>0.0063</td>\n",
       "      <td>0.0076</td>\n",
       "      <td>0.3140</td>\n",
       "      <td>-0.0134</td>\n",
       "      <td>-0.0146</td>\n",
       "      <td>-0.0178</td>\n",
       "      <td>-0.7306</td>\n",
       "      <td>-0.0214</td>\n",
       "      <td>-0.0080</td>\n",
       "      <td>-0.0153</td>\n",
       "      <td>-0.0168</td>\n",
       "      <td>-0.0204</td>\n",
       "      <td>-0.8370</td>\n",
       "    </tr>\n",
       "    <tr>\n",
       "      <th>2024-08-02</th>\n",
       "      <td>0.0040</td>\n",
       "      <td>-0.0172</td>\n",
       "      <td>-0.0076</td>\n",
       "      <td>0.0057</td>\n",
       "      <td>0.0057</td>\n",
       "      <td>0.0075</td>\n",
       "      <td>0.3124</td>\n",
       "      <td>-0.0134</td>\n",
       "      <td>-0.0133</td>\n",
       "      <td>-0.0174</td>\n",
       "      <td>-0.7267</td>\n",
       "      <td>-0.0214</td>\n",
       "      <td>-0.0080</td>\n",
       "      <td>-0.0153</td>\n",
       "      <td>-0.0153</td>\n",
       "      <td>-0.0199</td>\n",
       "      <td>-0.8326</td>\n",
       "    </tr>\n",
       "    <tr>\n",
       "      <th>2024-08-05</th>\n",
       "      <td>0.0192</td>\n",
       "      <td>-0.0172</td>\n",
       "      <td>-0.0076</td>\n",
       "      <td>0.0058</td>\n",
       "      <td>0.0062</td>\n",
       "      <td>0.0086</td>\n",
       "      <td>0.3125</td>\n",
       "      <td>-0.0134</td>\n",
       "      <td>-0.0144</td>\n",
       "      <td>-0.0201</td>\n",
       "      <td>-0.7269</td>\n",
       "      <td>-0.0214</td>\n",
       "      <td>-0.0080</td>\n",
       "      <td>-0.0154</td>\n",
       "      <td>-0.0165</td>\n",
       "      <td>-0.0230</td>\n",
       "      <td>-0.8328</td>\n",
       "    </tr>\n",
       "  </tbody>\n",
       "</table>\n",
       "<p>1305 rows × 17 columns</p>\n",
       "</div>"
      ],
      "text/plain": [
       "            Returns  Expanding 60 Historical VaR (1.00%)  \\\n",
       "date                                                       \n",
       "2019-01-07      NaN                                  NaN   \n",
       "2019-01-08  -0.0018                                  NaN   \n",
       "2019-01-09  -0.0003                                  NaN   \n",
       "2019-01-10   0.0052                                  NaN   \n",
       "2019-01-11  -0.0025                                  NaN   \n",
       "...             ...                                  ...   \n",
       "2024-07-30  -0.0019                              -0.0172   \n",
       "2024-07-31   0.0079                              -0.0172   \n",
       "2024-08-01   0.0183                              -0.0172   \n",
       "2024-08-02   0.0040                              -0.0172   \n",
       "2024-08-05   0.0192                              -0.0172   \n",
       "\n",
       "            Rolling 60 Historical VaR (1.00%)  Expanding 60 Volatility  \\\n",
       "date                                                                     \n",
       "2019-01-07                                NaN                      NaN   \n",
       "2019-01-08                                NaN                      NaN   \n",
       "2019-01-09                                NaN                      NaN   \n",
       "2019-01-10                                NaN                      NaN   \n",
       "2019-01-11                                NaN                      NaN   \n",
       "...                                       ...                      ...   \n",
       "2024-07-30                            -0.0118                   0.0057   \n",
       "2024-07-31                            -0.0076                   0.0057   \n",
       "2024-08-01                            -0.0076                   0.0057   \n",
       "2024-08-02                            -0.0076                   0.0057   \n",
       "2024-08-05                            -0.0076                   0.0058   \n",
       "\n",
       "            Rolling 60 Volatility  EWMA 0.94 Volatility  \\\n",
       "date                                                      \n",
       "2019-01-07                    NaN                   NaN   \n",
       "2019-01-08                    NaN                0.0122   \n",
       "2019-01-09                    NaN                0.0119   \n",
       "2019-01-10                    NaN                0.0116   \n",
       "2019-01-11                    NaN                0.0112   \n",
       "...                           ...                   ...   \n",
       "2024-07-30                 0.0062                0.0063   \n",
       "2024-07-31                 0.0058                0.0064   \n",
       "2024-08-01                 0.0063                0.0076   \n",
       "2024-08-02                 0.0057                0.0075   \n",
       "2024-08-05                 0.0062                0.0086   \n",
       "\n",
       "            GARCH(1, 1) Volatility  Expanding 60 Parametric VaR (1.00%)  \\\n",
       "date                                                                      \n",
       "2019-01-07                     NaN                                  NaN   \n",
       "2019-01-08                  0.0029                                  NaN   \n",
       "2019-01-09                  0.1103                                  NaN   \n",
       "2019-01-10                  0.1508                                  NaN   \n",
       "2019-01-11                  0.1780                                  NaN   \n",
       "...                            ...                                  ...   \n",
       "2024-07-30                  0.3142                              -0.0133   \n",
       "2024-07-31                  0.3147                              -0.0133   \n",
       "2024-08-01                  0.3140                              -0.0134   \n",
       "2024-08-02                  0.3124                              -0.0134   \n",
       "2024-08-05                  0.3125                              -0.0134   \n",
       "\n",
       "            Rolling 60 Parametric VaR (1.00%)  \\\n",
       "date                                            \n",
       "2019-01-07                                NaN   \n",
       "2019-01-08                                NaN   \n",
       "2019-01-09                                NaN   \n",
       "2019-01-10                                NaN   \n",
       "2019-01-11                                NaN   \n",
       "...                                       ...   \n",
       "2024-07-30                            -0.0144   \n",
       "2024-07-31                            -0.0136   \n",
       "2024-08-01                            -0.0146   \n",
       "2024-08-02                            -0.0133   \n",
       "2024-08-05                            -0.0144   \n",
       "\n",
       "            EWMA 0.94 Parametric VaR (1.00%)  \\\n",
       "date                                           \n",
       "2019-01-07                               NaN   \n",
       "2019-01-08                           -0.0284   \n",
       "2019-01-09                           -0.0276   \n",
       "2019-01-10                           -0.0269   \n",
       "2019-01-11                           -0.0261   \n",
       "...                                      ...   \n",
       "2024-07-30                           -0.0146   \n",
       "2024-07-31                           -0.0149   \n",
       "2024-08-01                           -0.0178   \n",
       "2024-08-02                           -0.0174   \n",
       "2024-08-05                           -0.0201   \n",
       "\n",
       "            GARCH(1, 1) Parametric VaR (1.00%)  \\\n",
       "date                                             \n",
       "2019-01-07                                 NaN   \n",
       "2019-01-08                             -0.0068   \n",
       "2019-01-09                             -0.2566   \n",
       "2019-01-10                             -0.3509   \n",
       "2019-01-11                             -0.4141   \n",
       "...                                        ...   \n",
       "2024-07-30                             -0.7309   \n",
       "2024-07-31                             -0.7321   \n",
       "2024-08-01                             -0.7306   \n",
       "2024-08-02                             -0.7267   \n",
       "2024-08-05                             -0.7269   \n",
       "\n",
       "            Expanding 60 Historical CVaR (1.00%)  \\\n",
       "date                                               \n",
       "2019-01-07                                   NaN   \n",
       "2019-01-08                                   NaN   \n",
       "2019-01-09                                   NaN   \n",
       "2019-01-10                                   NaN   \n",
       "2019-01-11                                   NaN   \n",
       "...                                          ...   \n",
       "2024-07-30                               -0.0217   \n",
       "2024-07-31                               -0.0217   \n",
       "2024-08-01                               -0.0214   \n",
       "2024-08-02                               -0.0214   \n",
       "2024-08-05                               -0.0214   \n",
       "\n",
       "            Rolling 60 Historical CVaR (1.00%)  \\\n",
       "date                                             \n",
       "2019-01-07                                 NaN   \n",
       "2019-01-08                                 NaN   \n",
       "2019-01-09                                 NaN   \n",
       "2019-01-10                                 NaN   \n",
       "2019-01-11                                 NaN   \n",
       "...                                        ...   \n",
       "2024-07-30                             -0.0172   \n",
       "2024-07-31                             -0.0080   \n",
       "2024-08-01                             -0.0080   \n",
       "2024-08-02                             -0.0080   \n",
       "2024-08-05                             -0.0080   \n",
       "\n",
       "            Expanding 60 Parametrical CVaR (1.00%)  \\\n",
       "date                                                 \n",
       "2019-01-07                                     NaN   \n",
       "2019-01-08                                     NaN   \n",
       "2019-01-09                                     NaN   \n",
       "2019-01-10                                     NaN   \n",
       "2019-01-11                                     NaN   \n",
       "...                                            ...   \n",
       "2024-07-30                                 -0.0153   \n",
       "2024-07-31                                 -0.0153   \n",
       "2024-08-01                                 -0.0153   \n",
       "2024-08-02                                 -0.0153   \n",
       "2024-08-05                                 -0.0154   \n",
       "\n",
       "            Rolling 60 Parametrical CVaR (1.00%)  \\\n",
       "date                                               \n",
       "2019-01-07                                   NaN   \n",
       "2019-01-08                                   NaN   \n",
       "2019-01-09                                   NaN   \n",
       "2019-01-10                                   NaN   \n",
       "2019-01-11                                   NaN   \n",
       "...                                          ...   \n",
       "2024-07-30                               -0.0164   \n",
       "2024-07-31                               -0.0156   \n",
       "2024-08-01                               -0.0168   \n",
       "2024-08-02                               -0.0153   \n",
       "2024-08-05                               -0.0165   \n",
       "\n",
       "            EWMA 0.94 Parametrical CVaR (1.00%)  \\\n",
       "date                                              \n",
       "2019-01-07                                  NaN   \n",
       "2019-01-08                              -0.0326   \n",
       "2019-01-09                              -0.0316   \n",
       "2019-01-10                              -0.0308   \n",
       "2019-01-11                              -0.0299   \n",
       "...                                         ...   \n",
       "2024-07-30                              -0.0168   \n",
       "2024-07-31                              -0.0171   \n",
       "2024-08-01                              -0.0204   \n",
       "2024-08-02                              -0.0199   \n",
       "2024-08-05                              -0.0230   \n",
       "\n",
       "            GARCH(1, 1) Parametrical CVaR (1.00%)  \n",
       "date                                               \n",
       "2019-01-07                                    NaN  \n",
       "2019-01-08                                -0.0078  \n",
       "2019-01-09                                -0.2939  \n",
       "2019-01-10                                -0.4020  \n",
       "2019-01-11                                -0.4745  \n",
       "...                                           ...  \n",
       "2024-07-30                                -0.8374  \n",
       "2024-07-31                                -0.8387  \n",
       "2024-08-01                                -0.8370  \n",
       "2024-08-02                                -0.8326  \n",
       "2024-08-05                                -0.8328  \n",
       "\n",
       "[1305 rows x 17 columns]"
      ]
     },
     "execution_count": 14,
     "metadata": {},
     "output_type": "execute_result"
    }
   ],
   "source": [
    "pmh.calc_var_cvar_summary(\n",
    "    jpy,\n",
    "    quantile=QUANTILE\n",
    ")"
   ]
  },
  {
   "cell_type": "markdown",
   "id": "25542710-9553-4390-8e1d-2b40b49a5cc5",
   "metadata": {},
   "source": [
    "### <span style=\"color:red\">4.2.</span>"
   ]
  },
  {
   "cell_type": "code",
   "execution_count": 25,
   "id": "f69e0c57-da23-45d0-a3b1-f6abf9b3bf97",
   "metadata": {},
   "outputs": [
    {
     "data": {
      "text/html": [
       "<style type=\"text/css\">\n",
       "</style>\n",
       "<table id=\"T_8a60f\">\n",
       "  <thead>\n",
       "    <tr>\n",
       "      <th class=\"blank level0\" >&nbsp;</th>\n",
       "      <th id=\"T_8a60f_level0_col0\" class=\"col_heading level0 col0\" >VaR empirical</th>\n",
       "      <th id=\"T_8a60f_level0_col1\" class=\"col_heading level0 col1\" >VaR normal</th>\n",
       "    </tr>\n",
       "    <tr>\n",
       "      <th class=\"index_name level0\" >date</th>\n",
       "      <th class=\"blank col0\" >&nbsp;</th>\n",
       "      <th class=\"blank col1\" >&nbsp;</th>\n",
       "    </tr>\n",
       "  </thead>\n",
       "  <tbody>\n",
       "    <tr>\n",
       "      <th id=\"T_8a60f_level0_row0\" class=\"row_heading level0 row0\" >2024-07-30</th>\n",
       "      <td id=\"T_8a60f_row0_col0\" class=\"data row0 col0\" >-1.72%</td>\n",
       "      <td id=\"T_8a60f_row0_col1\" class=\"data row0 col1\" >-1.31%</td>\n",
       "    </tr>\n",
       "    <tr>\n",
       "      <th id=\"T_8a60f_level0_row1\" class=\"row_heading level0 row1\" >2024-07-31</th>\n",
       "      <td id=\"T_8a60f_row1_col0\" class=\"data row1 col0\" >-1.72%</td>\n",
       "      <td id=\"T_8a60f_row1_col1\" class=\"data row1 col1\" >-1.33%</td>\n",
       "    </tr>\n",
       "    <tr>\n",
       "      <th id=\"T_8a60f_level0_row2\" class=\"row_heading level0 row2\" >2024-08-01</th>\n",
       "      <td id=\"T_8a60f_row2_col0\" class=\"data row2 col0\" >-1.72%</td>\n",
       "      <td id=\"T_8a60f_row2_col1\" class=\"data row2 col1\" >-1.34%</td>\n",
       "    </tr>\n",
       "    <tr>\n",
       "      <th id=\"T_8a60f_level0_row3\" class=\"row_heading level0 row3\" >2024-08-02</th>\n",
       "      <td id=\"T_8a60f_row3_col0\" class=\"data row3 col0\" >-1.72%</td>\n",
       "      <td id=\"T_8a60f_row3_col1\" class=\"data row3 col1\" >-1.36%</td>\n",
       "    </tr>\n",
       "    <tr>\n",
       "      <th id=\"T_8a60f_level0_row4\" class=\"row_heading level0 row4\" >2024-08-05</th>\n",
       "      <td id=\"T_8a60f_row4_col0\" class=\"data row4 col0\" >-1.72%</td>\n",
       "      <td id=\"T_8a60f_row4_col1\" class=\"data row4 col1\" >-1.38%</td>\n",
       "    </tr>\n",
       "  </tbody>\n",
       "</table>\n"
      ],
      "text/plain": [
       "<pandas.io.formats.style.Styler at 0x282c05600>"
      ]
     },
     "execution_count": 25,
     "metadata": {},
     "output_type": "execute_result"
    }
   ],
   "source": [
    "ZSCORE = -2.33\n",
    "\n",
    "WINDOW = round(DAYS_FX)\n",
    "\n",
    "rx_strategy = rx.copy()[[TICK]]\n",
    "\n",
    "risk = pd.DataFrame(index=rx_strategy.index,dtype=float)\n",
    "risk['VaR empirical'] = rx_strategy.expanding(WINDOW).quantile(QUANTILE)\n",
    "risk['VaR normal'] = ZSCORE * rx_strategy.rolling(WINDOW).std()\n",
    "\n",
    "risk.tail().style.format('{:.2%}').format_index('{:%Y-%m-%d}')"
   ]
  },
  {
   "cell_type": "markdown",
   "id": "46b35461-706f-4a48-b81e-188d1c4ee3fd",
   "metadata": {},
   "source": [
    "### <span style=\"color:red\">4.3.</span>"
   ]
  },
  {
   "cell_type": "code",
   "execution_count": null,
   "id": "abcf5e4c-39fa-4282-8d5b-4c07ac9873ff",
   "metadata": {},
   "outputs": [],
   "source": []
  },
  {
   "cell_type": "markdown",
   "id": "0832ddc4-42fb-4e69-a6be-c8e7a7f37fb1",
   "metadata": {},
   "source": [
    "### <span style=\"color:red\">4.4.</span>"
   ]
  },
  {
   "cell_type": "code",
   "execution_count": null,
   "id": "0bd282da-7b60-44cf-bbbd-36e08a9d0ea5",
   "metadata": {},
   "outputs": [],
   "source": []
  },
  {
   "cell_type": "markdown",
   "id": "ea8fbddc-5eb0-42c7-afc8-a8d829211cdb",
   "metadata": {},
   "source": [
    "### <span style=\"color:red\">4.5.</span>"
   ]
  },
  {
   "cell_type": "code",
   "execution_count": 26,
   "id": "e460d187-3a3a-40f0-b3fc-6df70dddb859",
   "metadata": {},
   "outputs": [
    {
     "data": {
      "text/html": [
       "<style type=\"text/css\">\n",
       "</style>\n",
       "<table id=\"T_c2c2d\">\n",
       "  <thead>\n",
       "    <tr>\n",
       "      <th class=\"blank level0\" >&nbsp;</th>\n",
       "      <th id=\"T_c2c2d_level0_col0\" class=\"col_heading level0 col0\" >hit ratio</th>\n",
       "    </tr>\n",
       "  </thead>\n",
       "  <tbody>\n",
       "    <tr>\n",
       "      <th id=\"T_c2c2d_level0_row0\" class=\"row_heading level0 row0\" >VaR empirical</th>\n",
       "      <td id=\"T_c2c2d_row0_col0\" class=\"data row0 col0\" >1.69%</td>\n",
       "    </tr>\n",
       "    <tr>\n",
       "      <th id=\"T_c2c2d_level0_row1\" class=\"row_heading level0 row1\" >VaR normal</th>\n",
       "      <td id=\"T_c2c2d_row1_col0\" class=\"data row1 col0\" >2.07%</td>\n",
       "    </tr>\n",
       "  </tbody>\n",
       "</table>\n"
      ],
      "text/plain": [
       "<pandas.io.formats.style.Styler at 0x282ddb760>"
      ]
     },
     "execution_count": 26,
     "metadata": {},
     "output_type": "execute_result"
    }
   ],
   "source": [
    "flagVaR = rx_strategy.values < risk.shift()\n",
    "(flagVaR.sum() / flagVaR.shape[0]).to_frame().rename(columns={0:'hit ratio'}).style.format('{:.2%}')"
   ]
  }
 ],
 "metadata": {
  "hide_input": false,
  "kernelspec": {
   "display_name": "finm",
   "language": "python",
   "name": "python3"
  },
  "language_info": {
   "codemirror_mode": {
    "name": "ipython",
    "version": 3
   },
   "file_extension": ".py",
   "mimetype": "text/x-python",
   "name": "python",
   "nbconvert_exporter": "python",
   "pygments_lexer": "ipython3",
   "version": "3.12.5"
  }
 },
 "nbformat": 4,
 "nbformat_minor": 5
}
