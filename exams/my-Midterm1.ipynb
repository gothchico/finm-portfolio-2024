{
 "cells": [
  {
   "cell_type": "markdown",
   "id": "559895d2",
   "metadata": {},
   "source": [
    "# Midterm 1\n",
    "\n",
    "## FINM 36700 - 2024\n",
    "\n",
    "### UChicago Financial Mathematics\n",
    "\n",
    "* Mark Hendricks\n",
    "* hendricks@uchicago.edu"
   ]
  },
  {
   "cell_type": "markdown",
   "id": "01cde8d3",
   "metadata": {},
   "source": [
    "# Instructions"
   ]
  },
  {
   "cell_type": "markdown",
   "id": "cc273c1a",
   "metadata": {},
   "source": [
    "## Please note the following:\n",
    "\n",
    "Points\n",
    "* The exam is `100` points.\n",
    "* You have `125` minutes to complete the exam.\n",
    "* For every minute late you submit the exam, you will lose one point.\n",
    "\n",
    "\n",
    "Submission\n",
    "* You will upload your solution to the `Midterm 1` assignment on Canvas, where you downloaded this. (Be sure to **submit** on Canvas, not just **save** on Canvas.\n",
    "* Your submission should be readable, (the graders can understand your answers,)\n",
    "* and it should **include all code used in your analysis in a file format that the code can be executed.** \n",
    "\n",
    "Rules\n",
    "* The exam is open-material, closed-communication.\n",
    "* You do not need to cite material from the course github repo--you are welcome to use the code posted there without citation.\n",
    "\n",
    "Advice\n",
    "* If you find any question to be unclear, state your interpretation and proceed. We will only answer questions of interpretation if there is a typo, error, etc.\n",
    "* The exam will be graded for partial credit."
   ]
  },
  {
   "cell_type": "markdown",
   "id": "624f27b1",
   "metadata": {},
   "source": [
    "## Data\n",
    "\n",
    "**All data files are found in the class github repo, in the `data` folder.**\n",
    "\n",
    "This exam makes use of the following data files:\n",
    "* `midterm_1_data.xlsx`\n",
    "\n",
    "This file has sheets for...\n",
    "* `stocks excess returns` - excess returns of the 14 biggest companies in the S&P.\n",
    "* `proshares excess returns` - excess returns of ETFs and indexes from the Proshares case study.\n",
    "* `fx carry excess returns` - excess returns from FX products.\n",
    "\n",
    "Note the data is **monthly** for the first two sheets (stocks and proshares). Any annualizations for those two sheets should use `12` months in a year. Annualization for the third sheet (fx carry excess returns) is explained in section 4."
   ]
  },
  {
   "cell_type": "code",
   "execution_count": 2,
   "id": "b66eb501-3667-4125-97de-e3a2f03c7c57",
   "metadata": {},
   "outputs": [],
   "source": [
    "import pandas as pd\n",
    "import numpy as np\n",
    "import seaborn as sns\n",
    "import statsmodels.api as sm\n",
    "import scipy.stats as stats\n",
    "import warnings\n",
    "warnings.filterwarnings(\"ignore\")\n",
    "\n",
    "import sys\n",
    "sys.path.append('../cmds/')\n",
    "# import TA_utils as ta\n",
    "\n",
    "sns.set_theme()"
   ]
  },
  {
   "cell_type": "code",
   "execution_count": 5,
   "id": "c4f74331-2800-4572-b258-e035203371a8",
   "metadata": {},
   "outputs": [],
   "source": [
    "FILEIN = '../data/midterm_1_data.xlsx'\n",
    "sheet_exrets = 'stocks excess returns'\n",
    "sheet_proshares = 'proshares excess returns'\n",
    "sheet_fxrets = 'fx carry returns'\n",
    "\n",
    "retsx = pd.read_excel(FILEIN, sheet_name=sheet_exrets).set_index('date')\n",
    "proshares = pd.read_excel(FILEIN, sheet_name=sheet_proshares).set_index('date')\n",
    "fxrets = pd.read_excel(FILEIN, sheet_name=sheet_fxrets).set_index('date')"
   ]
  },
  {
   "cell_type": "markdown",
   "id": "ebf6e066",
   "metadata": {},
   "source": [
    "## Scoring\n",
    "\n",
    "| Problem | Points |\n",
    "|---------|--------|\n",
    "| 1       | 15     |\n",
    "| 2       | 25     |\n",
    "| 3       | 35     |\n",
    "| 4       | 25     |"
   ]
  },
  {
   "cell_type": "markdown",
   "id": "7fb2fc26",
   "metadata": {},
   "source": [
    "### Each numbered question is worth 5 points unless otherwise specified."
   ]
  },
  {
   "cell_type": "markdown",
   "id": "632ce7d4",
   "metadata": {},
   "source": [
    "***"
   ]
  },
  {
   "cell_type": "markdown",
   "id": "50a39225-f8d7-4a42-a675-fb9716e55932",
   "metadata": {},
   "source": [
    "# 1. Short Answer"
   ]
  },
  {
   "cell_type": "markdown",
   "id": "127d44ea-9d06-4bba-ac24-f19e9376c8d6",
   "metadata": {},
   "source": [
    "#### No Data Needed\n",
    "\n",
    "These problems do not require any data file. Rather, analyze them conceptually. "
   ]
  },
  {
   "cell_type": "markdown",
   "id": "668aaba8-6dcf-4700-9714-36111e1c67af",
   "metadata": {},
   "source": [
    "### 1.\n",
    "\n",
    "#### (10pts)\n",
    "\n",
    "In the mean-variance optimization of `homework 1`, suppose we found the mean excess return of TIPS is 4% annualized.\n",
    "\n",
    "Explain--conceptually--how each of the following would have impacted the new (with TIPS) MV solution.\n",
    "* TIPS is found to have correlation of 0% to `IEF` and 0% to SPY.\n",
    "* TIPS is found to have correlation of 100% to `IEF`.\n",
    "\n",
    "Would it be possible for TIPS to have been found to have 0% correlation to every other asset in `homework 1`? Explain."
   ]
  },
  {
   "cell_type": "markdown",
   "id": "761a6939-0881-41c3-90f5-df16d236c977",
   "metadata": {},
   "source": [
    "TIPS is found to have correlation of 0% to IEF and 0% to SPY:\n",
    "\n",
    "- TIPS would've formed it's own asset class as it would provide best and immense diversification benefits being uncorrelated to both treasury bonds and S&P equity stocks.\n",
    "\n",
    "TIPS is found to have correlation of 100% to IEF:\n",
    "\n",
    "- In this case TIPS would've not provided any additional diversification benefits compared to treasury bonds thus making it pretty useless standalone. It should then be made a part of the IEF asset class for the 2-step optimisation problem.\n",
    "\n",
    "I don't think TIPS could have 0% correlation to every other asset since :\n",
    "\n",
    "TIPS have a priori a similar default risk to public bonds and adding TIPS mostly impacts the allocation in domestic bonds, therefore making them more similar than different."
   ]
  },
  {
   "cell_type": "markdown",
   "id": "fe910811-eddc-48ae-9e3c-2b99e6c62dec",
   "metadata": {},
   "source": [
    "### 2. \n",
    "\n",
    "Depending on the application, one may or may not choose to include an intercept term in a linear factor decomposition of an asset’s returns. In what circumstances would I prefer to include an intercept, and in what circumstances would I not?"
   ]
  },
  {
   "cell_type": "markdown",
   "id": "6bfa0ee8-6627-4397-9440-0863a6c6e216",
   "metadata": {},
   "source": [
    "Intercept is needed when adjusting the level of returns, otherwise no-intercept replication is enough to track the volatility.\n",
    "\n",
    "Including an intercept increases our correlation marginally.\n",
    "The intercept ensures we are matching the variation in the factors, where we would like to match the overall level."
   ]
  },
  {
   "cell_type": "markdown",
   "id": "e38b33d9-8628-4bf5-a662-73da5dfe0ace",
   "metadata": {},
   "source": [
    "***"
   ]
  },
  {
   "cell_type": "markdown",
   "id": "a78ee6f4",
   "metadata": {},
   "source": [
    "# 2. Portfolio Allocation\n",
    "\n",
    "For this question you will only use data from the sheet `stocks excess returns`.\n",
    "\n",
    "It contains excess returns for the 14 largest stocks in the S&P."
   ]
  },
  {
   "cell_type": "markdown",
   "id": "ec8d1b59",
   "metadata": {},
   "source": [
    "### 1.\n",
    "\n",
    "Calculate the tangency portfolio from the start of the sample to December of 2018 (to 2018-12-31), which we call in-sample period. Use the following methods:\n",
    "- Traditional tangency portfolio.\n",
    "- Regularized tangency portfolio (divide by 2 every element outside of the diagonal in the covariance matrix prior to the calculation).\n",
    "\n",
    "Return:\n",
    "- The weights of each asset for the traditional tangency portfolio and the regularized tangency portfolio.\n",
    "- The sum of absolute values of the weights for the traditional tangency portfolio and the regularized tangency portfolio:\n",
    "\n",
    "$$\n",
    "\\sum_{i=1}^{n} |w_i|\n",
    "$$\n"
   ]
  },
  {
   "cell_type": "code",
   "execution_count": 75,
   "id": "333f6043-795e-4b04-ac52-65f15c919dee",
   "metadata": {},
   "outputs": [],
   "source": [
    "def tangency_weights(returns, cov_mat=None):\n",
    "    # Calculate the inverse of the covariance matrix\n",
    "    if cov_mat is None:\n",
    "        cov_inv = np.linalg.inv(returns.cov() * 12)  # Annualized covariance matrix\n",
    "    else:\n",
    "        cov = returns.cov()\n",
    "        covmat_diag = np.diag(np.diag(cov))  # Diagonal matrix from covariance\n",
    "        covmat_adjusted = cov_mat * cov + (1 - cov_mat) * covmat_diag  # Weighted cov matrix\n",
    "        cov_inv = np.linalg.inv(covmat_adjusted * 12)  # Annualized\n",
    "\n",
    "    # Construct ones vector for assets\n",
    "    ones = np.ones(len(returns.columns))\n",
    "\n",
    "    # Calculate the mean returns vector\n",
    "    mu = returns.mean() * 12  # Annualized mean returns\n",
    "\n",
    "    # Calculate scaling factor for tangency weights\n",
    "    scaling = 1 / (ones @ cov_inv @ mu)\n",
    "\n",
    "    # Calculate tangency weights\n",
    "    tangent_return = scaling * (cov_inv @ mu)\n",
    "    tangency_wts = pd.DataFrame(\n",
    "        index=returns.columns, data=tangent_return, columns=['Tangent Weights']\n",
    "    )\n",
    "\n",
    "    return tangency_wts"
   ]
  },
  {
   "cell_type": "code",
   "execution_count": 76,
   "id": "1c660ce8-5ed8-46be-ba57-4f334cb54c9e",
   "metadata": {
    "scrolled": true
   },
   "outputs": [
    {
     "name": "stdout",
     "output_type": "stream",
     "text": [
      "       tangency regularized\n",
      "AAPL  -0.127836   -0.014706\n",
      "AMZN  -0.040576     0.03631\n",
      "BRK-B  0.131333    0.109162\n",
      "GOOGL  0.025968    0.050545\n",
      "JNJ    0.130408     0.09919\n",
      "JPM   -0.013929    0.053691\n",
      "LLY    0.352670    0.214949\n",
      "META   0.030541    0.034896\n",
      "MSFT   0.137917     0.08997\n",
      "NVDA   0.163501    0.071696\n",
      "TSLA   0.030066    0.036511\n",
      "UNH    0.290230    0.189845\n",
      "V      0.306209    0.184558\n",
      "XOM   -0.416502   -0.156617\n",
      "             tangency regularized\n",
      "abs sum wts  2.197687    1.342647\n"
     ]
    }
   ],
   "source": [
    "retsx_IS = retsx.loc[:'2018']\n",
    "# print(retsx_IS)\n",
    "wts = pd.DataFrame(index = retsx_IS.columns, columns = ['tangency','regularized'])\n",
    "sum_abs_wts = pd.DataFrame(columns = ['tangency','regularized'])\n",
    "wts.loc[:,'tangency'] = tangency_weights(retsx_IS.reset_index(drop=True), cov_mat=1)\n",
    "wts.loc[:,'regularized'] = tangency_weights(retsx_IS.reset_index(drop=True), cov_mat = (1/2)).values\n",
    "\n",
    "sum_abs_wts.loc['abs sum wts'] = abs(wts.loc[:,:]).sum()\n",
    "\n",
    "print(wts)\n",
    "print(sum_abs_wts)"
   ]
  },
  {
   "cell_type": "markdown",
   "id": "31da8bdc",
   "metadata": {},
   "source": [
    "### 2.\n",
    "\n",
    "Calculate the annualized summary statistics (mean, Sharpe, vol) of both portfolios in-sample.\n"
   ]
  },
  {
   "cell_type": "code",
   "execution_count": 77,
   "id": "60362de8-741d-4955-b480-895c26d59e0b",
   "metadata": {},
   "outputs": [],
   "source": [
    "def performance_summary(return_data, annualization = 12):\n",
    "    \"\"\" \n",
    "        Returns the Performance Stats for given set of returns\n",
    "        Inputs: \n",
    "            return_data - DataFrame with Date index and Monthly Returns for different assets/strategies.\n",
    "        Output:\n",
    "            summary_stats - DataFrame with annualized mean return, vol, sharpe ratio. Skewness, Excess Kurtosis, Var (0.5) and\n",
    "                            CVaR (0.5) and drawdown based on monthly returns. \n",
    "    \"\"\"\n",
    "    summary_stats = return_data.mean().to_frame('Mean').apply(lambda x: x*annualization)\n",
    "    summary_stats['Volatility'] = return_data.std().apply(lambda x: x*np.sqrt(annualization))\n",
    "    summary_stats['Sharpe Ratio'] = summary_stats['Mean']/summary_stats['Volatility']\n",
    "    \n",
    "    summary_stats['Skewness'] = return_data.skew()\n",
    "    summary_stats['Excess Kurtosis'] = return_data.kurtosis()\n",
    "    summary_stats['VaR (0.05)'] = return_data.quantile(.05, axis = 0)\n",
    "    summary_stats['CVaR (0.05)'] = return_data[return_data <= return_data.quantile(.05, axis = 0)].mean()\n",
    "    summary_stats['Min'] = return_data.min()\n",
    "    summary_stats['Max'] = return_data.max()\n",
    "    \n",
    "    wealth_index = 1000*(1+return_data).cumprod()\n",
    "    previous_peaks = wealth_index.cummax()\n",
    "    drawdowns = (wealth_index - previous_peaks)/previous_peaks\n",
    "\n",
    "    summary_stats['Max Drawdown'] = drawdowns.min()\n",
    "    summary_stats['Peak'] = [previous_peaks[col][:drawdowns[col].idxmin()].idxmax() for col in previous_peaks.columns]\n",
    "    summary_stats['Bottom'] = drawdowns.idxmin()\n",
    "    \n",
    "    recovery_date = []\n",
    "    for col in wealth_index.columns:\n",
    "        prev_max = previous_peaks[col][:drawdowns[col].idxmin()].max()\n",
    "        recovery_wealth = pd.DataFrame([wealth_index[col][drawdowns[col].idxmin():]]).T\n",
    "        recovery_date.append(recovery_wealth[recovery_wealth[col] >= prev_max].index.min())\n",
    "    summary_stats['Recovery'] = recovery_date\n",
    "    \n",
    "    return summary_stats"
   ]
  },
  {
   "cell_type": "code",
   "execution_count": 78,
   "id": "6033f50d-2510-45c3-b0c9-d4e809ea0a2f",
   "metadata": {},
   "outputs": [
    {
     "data": {
      "text/html": [
       "<div>\n",
       "<style scoped>\n",
       "    .dataframe tbody tr th:only-of-type {\n",
       "        vertical-align: middle;\n",
       "    }\n",
       "\n",
       "    .dataframe tbody tr th {\n",
       "        vertical-align: top;\n",
       "    }\n",
       "\n",
       "    .dataframe thead th {\n",
       "        text-align: right;\n",
       "    }\n",
       "</style>\n",
       "<table border=\"1\" class=\"dataframe\">\n",
       "  <thead>\n",
       "    <tr style=\"text-align: right;\">\n",
       "      <th></th>\n",
       "      <th>Mean</th>\n",
       "      <th>Volatility</th>\n",
       "      <th>Sharpe Ratio</th>\n",
       "      <th>Skewness</th>\n",
       "      <th>Excess Kurtosis</th>\n",
       "      <th>VaR (0.05)</th>\n",
       "      <th>CVaR (0.05)</th>\n",
       "      <th>Min</th>\n",
       "      <th>Max</th>\n",
       "      <th>Max Drawdown</th>\n",
       "      <th>Peak</th>\n",
       "      <th>Bottom</th>\n",
       "      <th>Recovery</th>\n",
       "    </tr>\n",
       "  </thead>\n",
       "  <tbody>\n",
       "    <tr>\n",
       "      <th>tangency</th>\n",
       "      <td>0.338374</td>\n",
       "      <td>0.145741</td>\n",
       "      <td>2.321755</td>\n",
       "      <td>-0.568704</td>\n",
       "      <td>0.164276</td>\n",
       "      <td>-0.066267</td>\n",
       "      <td>-0.068724</td>\n",
       "      <td>-0.071256</td>\n",
       "      <td>0.125616</td>\n",
       "      <td>-0.099993</td>\n",
       "      <td>2018-08-31</td>\n",
       "      <td>2018-12-31</td>\n",
       "      <td>NaT</td>\n",
       "    </tr>\n",
       "    <tr>\n",
       "      <th>regularized</th>\n",
       "      <td>0.266917</td>\n",
       "      <td>0.115811</td>\n",
       "      <td>2.304755</td>\n",
       "      <td>-0.563746</td>\n",
       "      <td>0.357772</td>\n",
       "      <td>-0.03467</td>\n",
       "      <td>-0.056653</td>\n",
       "      <td>-0.083753</td>\n",
       "      <td>0.088254</td>\n",
       "      <td>-0.112384</td>\n",
       "      <td>2018-08-31</td>\n",
       "      <td>2018-12-31</td>\n",
       "      <td>NaT</td>\n",
       "    </tr>\n",
       "  </tbody>\n",
       "</table>\n",
       "</div>"
      ],
      "text/plain": [
       "                 Mean  Volatility Sharpe Ratio  Skewness Excess Kurtosis  \\\n",
       "tangency     0.338374    0.145741     2.321755 -0.568704        0.164276   \n",
       "regularized  0.266917    0.115811     2.304755 -0.563746        0.357772   \n",
       "\n",
       "            VaR (0.05) CVaR (0.05)       Min       Max Max Drawdown  \\\n",
       "tangency     -0.066267   -0.068724 -0.071256  0.125616    -0.099993   \n",
       "regularized   -0.03467   -0.056653 -0.083753  0.088254    -0.112384   \n",
       "\n",
       "                  Peak     Bottom Recovery  \n",
       "tangency    2018-08-31 2018-12-31      NaT  \n",
       "regularized 2018-08-31 2018-12-31      NaT  "
      ]
     },
     "execution_count": 78,
     "metadata": {},
     "output_type": "execute_result"
    }
   ],
   "source": [
    "mean_returns = retsx_IS.mean()\n",
    "wts_scaled = wts_scaled.reindex(mean_returns.index)\n",
    "\n",
    "scaling_factor = mean_returns @ wts_scaled\n",
    "\n",
    "wts_scaled *= scaling_factor\n",
    "\n",
    "wts_scaled /= wts_scaled.sum()\n",
    "\n",
    "wts_scaled\n",
    "\n",
    "performance_summary(retsx_IS @ wts_scaled, 12)"
   ]
  },
  {
   "cell_type": "markdown",
   "id": "eb4f7e39",
   "metadata": {},
   "source": [
    "### 3.\n",
    "\n",
    "Use the weights calculated in question (2.2) to produce portfolio returns out-of-sample for both the Traditional and Regularized portfolio (from January 2019 onwards). \n",
    "\n",
    "Report the **last 3 returns** of both portfolios in the out-of-sample (the traditional tangency portfolio and the regularized tangency portfolio)."
   ]
  },
  {
   "cell_type": "code",
   "execution_count": 79,
   "id": "4024fda7-17f3-4d8c-8e0c-64250ffb66c4",
   "metadata": {},
   "outputs": [
    {
     "data": {
      "text/html": [
       "<div>\n",
       "<style scoped>\n",
       "    .dataframe tbody tr th:only-of-type {\n",
       "        vertical-align: middle;\n",
       "    }\n",
       "\n",
       "    .dataframe tbody tr th {\n",
       "        vertical-align: top;\n",
       "    }\n",
       "\n",
       "    .dataframe thead th {\n",
       "        text-align: right;\n",
       "    }\n",
       "</style>\n",
       "<table border=\"1\" class=\"dataframe\">\n",
       "  <thead>\n",
       "    <tr style=\"text-align: right;\">\n",
       "      <th></th>\n",
       "      <th>tangency</th>\n",
       "      <th>regularized</th>\n",
       "    </tr>\n",
       "    <tr>\n",
       "      <th>date</th>\n",
       "      <th></th>\n",
       "      <th></th>\n",
       "    </tr>\n",
       "  </thead>\n",
       "  <tbody>\n",
       "    <tr>\n",
       "      <th>2024-07-31</th>\n",
       "      <td>-0.03618</td>\n",
       "      <td>-0.011065</td>\n",
       "    </tr>\n",
       "    <tr>\n",
       "      <th>2024-08-31</th>\n",
       "      <td>0.092214</td>\n",
       "      <td>0.06006</td>\n",
       "    </tr>\n",
       "    <tr>\n",
       "      <th>2024-09-30</th>\n",
       "      <td>-0.024651</td>\n",
       "      <td>-0.015087</td>\n",
       "    </tr>\n",
       "  </tbody>\n",
       "</table>\n",
       "</div>"
      ],
      "text/plain": [
       "            tangency regularized\n",
       "date                            \n",
       "2024-07-31  -0.03618   -0.011065\n",
       "2024-08-31  0.092214     0.06006\n",
       "2024-09-30 -0.024651   -0.015087"
      ]
     },
     "execution_count": 79,
     "metadata": {},
     "output_type": "execute_result"
    }
   ],
   "source": [
    "retsx_OOS = retsx.loc['2019':]\n",
    "ret_OOS = retsx_OOS @ wts_scaled\n",
    "ret_OOS[-3:]"
   ]
  },
  {
   "cell_type": "markdown",
   "id": "ee6aa5f9-4201-4600-b8ff-48c9af2ff5c3",
   "metadata": {},
   "source": [
    "### 4.\n",
    "\n",
    "Report the annualized summary statistics (Mean, Vol and Sharpe) of both portfolios in the out-of-sample.\n",
    "\n",
    "Note: you are using the weights optimized for the in-sample and generating statistics with the out-of-sample returns."
   ]
  },
  {
   "cell_type": "code",
   "execution_count": 80,
   "id": "911fdeec-f6d9-4220-a0fe-6fc248fdcff3",
   "metadata": {},
   "outputs": [
    {
     "data": {
      "text/html": [
       "<div>\n",
       "<style scoped>\n",
       "    .dataframe tbody tr th:only-of-type {\n",
       "        vertical-align: middle;\n",
       "    }\n",
       "\n",
       "    .dataframe tbody tr th {\n",
       "        vertical-align: top;\n",
       "    }\n",
       "\n",
       "    .dataframe thead th {\n",
       "        text-align: right;\n",
       "    }\n",
       "</style>\n",
       "<table border=\"1\" class=\"dataframe\">\n",
       "  <thead>\n",
       "    <tr style=\"text-align: right;\">\n",
       "      <th></th>\n",
       "      <th>Mean</th>\n",
       "      <th>Volatility</th>\n",
       "      <th>Sharpe Ratio</th>\n",
       "      <th>Skewness</th>\n",
       "      <th>Excess Kurtosis</th>\n",
       "      <th>VaR (0.05)</th>\n",
       "      <th>CVaR (0.05)</th>\n",
       "      <th>Min</th>\n",
       "      <th>Max</th>\n",
       "      <th>Max Drawdown</th>\n",
       "      <th>Peak</th>\n",
       "      <th>Bottom</th>\n",
       "      <th>Recovery</th>\n",
       "    </tr>\n",
       "  </thead>\n",
       "  <tbody>\n",
       "    <tr>\n",
       "      <th>tangency</th>\n",
       "      <td>0.423313</td>\n",
       "      <td>0.215142</td>\n",
       "      <td>1.967601</td>\n",
       "      <td>-0.390733</td>\n",
       "      <td>-0.156227</td>\n",
       "      <td>-0.072874</td>\n",
       "      <td>-0.095423</td>\n",
       "      <td>-0.140048</td>\n",
       "      <td>0.165675</td>\n",
       "      <td>-0.222902</td>\n",
       "      <td>2021-12-31</td>\n",
       "      <td>2022-09-30</td>\n",
       "      <td>2023-03-31</td>\n",
       "    </tr>\n",
       "    <tr>\n",
       "      <th>regularized</th>\n",
       "      <td>0.318651</td>\n",
       "      <td>0.182131</td>\n",
       "      <td>1.74957</td>\n",
       "      <td>-0.289743</td>\n",
       "      <td>-0.566991</td>\n",
       "      <td>-0.065452</td>\n",
       "      <td>-0.075477</td>\n",
       "      <td>-0.081948</td>\n",
       "      <td>0.141332</td>\n",
       "      <td>-0.19058</td>\n",
       "      <td>2021-12-31</td>\n",
       "      <td>2022-09-30</td>\n",
       "      <td>2023-04-30</td>\n",
       "    </tr>\n",
       "  </tbody>\n",
       "</table>\n",
       "</div>"
      ],
      "text/plain": [
       "                 Mean  Volatility Sharpe Ratio  Skewness Excess Kurtosis  \\\n",
       "tangency     0.423313    0.215142     1.967601 -0.390733       -0.156227   \n",
       "regularized  0.318651    0.182131      1.74957 -0.289743       -0.566991   \n",
       "\n",
       "            VaR (0.05) CVaR (0.05)       Min       Max Max Drawdown  \\\n",
       "tangency     -0.072874   -0.095423 -0.140048  0.165675    -0.222902   \n",
       "regularized  -0.065452   -0.075477 -0.081948  0.141332     -0.19058   \n",
       "\n",
       "                  Peak     Bottom   Recovery  \n",
       "tangency    2021-12-31 2022-09-30 2023-03-31  \n",
       "regularized 2021-12-31 2022-09-30 2023-04-30  "
      ]
     },
     "execution_count": 80,
     "metadata": {},
     "output_type": "execute_result"
    }
   ],
   "source": [
    "performance_summary(ret_OOS, 12)"
   ]
  },
  {
   "cell_type": "markdown",
   "id": "2147058f-7c1b-4f56-ae94-d8ae77b5a96d",
   "metadata": {},
   "source": [
    "### 5.\n",
    "Which portfolio has better adjusted by risk returns in the out-of-sample? Could there be a mathematical/optimization reason why one portfolio had better adjusted by risk performance? \n",
    "\n",
    "Relate your answer to your findings in question (2.2) (Sum of absolute weights in the traditional and regularized tangency portfolio.)"
   ]
  },
  {
   "cell_type": "markdown",
   "id": "c1ea5c1d-a5b4-4d3b-9876-3020ca1b35cc",
   "metadata": {},
   "source": [
    "The tangency portfolio performed better out-of-sample in terms of better risk-adjusted return, as its higher Sharpe ratio indicates superior returns for the level of risk taken. The regularized portfolio is less volatile and thus more stable, but it delivers lower returns and a lower Sharpe ratio."
   ]
  },
  {
   "cell_type": "markdown",
   "id": "0a8eda25",
   "metadata": {},
   "source": [
    "***"
   ]
  },
  {
   "cell_type": "markdown",
   "id": "45d9f9ca",
   "metadata": {},
   "source": [
    "# 3. Hedging and Replication\n",
    "\n",
    "For this question you will only use data from the sheet `proshares returns`.\n",
    "\n",
    "The following assets excess returns are available in this sheet:\n",
    "\n",
    "- **HDG US Equity**: ProShares Hedge Replication ET\n",
    "- **QAI US Equity**: NYLI Hedge Multi-Strategy Trac\n",
    "- **SPY US Equity**: SPDR S&P 500 ETF Trust\n",
    "- **EEM US Equity**: iShares MSCI Emerging Markets\n",
    "- **EFA US Equity**: iShares MSCI EAFE ETF\n",
    "- **EUO US Equity**: ProShares UltraShort Euro\n",
    "- **IWM US Equity**: iShares Russell 2000 ETF\n",
    "- **SPXU US Equity**: ProShares UltraPro Short S&P 5\n",
    "- **UPRO US Equity**: ProShares UltraPro S&P 500"
   ]
  },
  {
   "cell_type": "markdown",
   "id": "b6e16122",
   "metadata": {},
   "source": [
    "### 1. \n",
    "\n",
    "You work at a hedge fund.\n",
    "\n",
    "Suppose the hedge fund is long $1 million of HDG and wants to hedge the position.\n",
    "\n",
    "A junior analyst suggests that we can hedge our position by looking at some select ETFs, and then taking a position in the ETFs that will offset the risk of our HDG position.\n",
    "\n",
    "They pick QAI, SPY, EEM, UPRO, SPXU, IWM, and EFA.\n",
    "\n",
    "What dollar position would we be taking in each ETF to hedge your HDG position?"
   ]
  },
  {
   "cell_type": "code",
   "execution_count": 81,
   "id": "235796f3-c6fb-404b-b5c5-c8d340b7e706",
   "metadata": {},
   "outputs": [],
   "source": [
    "def calc_multivariate_regression(y, X, intercept=True, adj=12):\n",
    "    \"\"\"\n",
    "    Calculate a multivariate regression of y on X. Adds useful metrics such\n",
    "    as the Information Ratio and Tracking Error. Note that we can't calculate\n",
    "    Treynor Ratio or Downside Beta here.\n",
    "\n",
    "    Args:\n",
    "        y : target variable\n",
    "        X : independent variables\n",
    "        intercept (bool, optional): Defaults to True.\n",
    "        adj (int, optional): Annualization factor. Defaults to 12.\n",
    "\n",
    "    Returns:\n",
    "        DataFrame: Summary of regression results\n",
    "    \"\"\"\n",
    "    if intercept:\n",
    "        X = sm.add_constant(X)\n",
    "\n",
    "    model = sm.OLS(y, X, missing=\"drop\")\n",
    "    results = model.fit()\n",
    "    summary = dict()\n",
    "\n",
    "    inter = results.params.iloc[0] if intercept else 0\n",
    "    betas = results.params.iloc[1:] if intercept else results.params\n",
    "\n",
    "    summary[\"Alpha\"] = inter * adj\n",
    "    summary[\"R-Squared\"] = results.rsquared\n",
    "\n",
    "    X_cols = X.columns[1:] if intercept else X.columns\n",
    "\n",
    "    for i, col in enumerate(X_cols):\n",
    "        summary[f\"{col} Beta\"] = betas[i]\n",
    "\n",
    "    summary[\"Information Ratio\"] = (inter / results.resid.std()) * np.sqrt(adj)\n",
    "    summary[\"Tracking Error\"] = results.resid.std() * np.sqrt(adj)\n",
    "    \n",
    "    if isinstance(y, pd.Series):\n",
    "        return pd.DataFrame(summary, index=[y.name])\n",
    "    else:\n",
    "        return pd.DataFrame(summary, index=y.columns)\n",
    "\n"
   ]
  },
  {
   "cell_type": "code",
   "execution_count": 82,
   "id": "b1fec029-84e0-4ca6-9b64-3efc3dd11ee5",
   "metadata": {},
   "outputs": [
    {
     "data": {
      "text/html": [
       "<style type=\"text/css\">\n",
       "</style>\n",
       "<table id=\"T_7537a\">\n",
       "  <thead>\n",
       "    <tr>\n",
       "      <th class=\"blank level0\" >&nbsp;</th>\n",
       "      <th id=\"T_7537a_level0_col0\" class=\"col_heading level0 col0\" >HDG US Equity</th>\n",
       "    </tr>\n",
       "  </thead>\n",
       "  <tbody>\n",
       "    <tr>\n",
       "      <th id=\"T_7537a_level0_row0\" class=\"row_heading level0 row0\" >QAI US Equity </th>\n",
       "      <td id=\"T_7537a_row0_col0\" class=\"data row0 col0\" >$-151,537</td>\n",
       "    </tr>\n",
       "    <tr>\n",
       "      <th id=\"T_7537a_level0_row1\" class=\"row_heading level0 row1\" >SPY US Equity </th>\n",
       "      <td id=\"T_7537a_row1_col0\" class=\"data row1 col0\" >$-515,376</td>\n",
       "    </tr>\n",
       "    <tr>\n",
       "      <th id=\"T_7537a_level0_row2\" class=\"row_heading level0 row2\" >EEM US Equity </th>\n",
       "      <td id=\"T_7537a_row2_col0\" class=\"data row2 col0\" >$-44,816</td>\n",
       "    </tr>\n",
       "    <tr>\n",
       "      <th id=\"T_7537a_level0_row3\" class=\"row_heading level0 row3\" >UPRO US Equity </th>\n",
       "      <td id=\"T_7537a_row3_col0\" class=\"data row3 col0\" >$140,222</td>\n",
       "    </tr>\n",
       "    <tr>\n",
       "      <th id=\"T_7537a_level0_row4\" class=\"row_heading level0 row4\" >SPXU US Equity </th>\n",
       "      <td id=\"T_7537a_row4_col0\" class=\"data row4 col0\" >$-32,654</td>\n",
       "    </tr>\n",
       "    <tr>\n",
       "      <th id=\"T_7537a_level0_row5\" class=\"row_heading level0 row5\" >IWM US Equity </th>\n",
       "      <td id=\"T_7537a_row5_col0\" class=\"data row5 col0\" >$-139,036</td>\n",
       "    </tr>\n",
       "    <tr>\n",
       "      <th id=\"T_7537a_level0_row6\" class=\"row_heading level0 row6\" >EFA US Equity </th>\n",
       "      <td id=\"T_7537a_row6_col0\" class=\"data row6 col0\" >$-117,000</td>\n",
       "    </tr>\n",
       "    <tr>\n",
       "      <th id=\"T_7537a_level0_row7\" class=\"row_heading level0 row7\" >Total</th>\n",
       "      <td id=\"T_7537a_row7_col0\" class=\"data row7 col0\" >$-860,198</td>\n",
       "    </tr>\n",
       "  </tbody>\n",
       "</table>\n"
      ],
      "text/plain": [
       "<pandas.io.formats.style.Styler at 0x1683f3ec0>"
      ]
     },
     "execution_count": 82,
     "metadata": {},
     "output_type": "execute_result"
    }
   ],
   "source": [
    "regr = calc_multivariate_regression(proshares['HDG US Equity'], proshares[['QAI US Equity', 'SPY US Equity', 'EEM US Equity', 'UPRO US Equity', 'SPXU US Equity', 'IWM US Equity', 'EFA US Equity']], intercept=True, adj=52)\n",
    "\n",
    "betas = regr.loc[:, regr.columns.str.contains('Beta')].T\n",
    "\n",
    "exposure = betas * -1_000_000\n",
    "exposure.index = exposure.index.str.replace('Beta', '')\n",
    "exposure.loc['Total'] = exposure.sum()\n",
    "exposure.style.format('${:,.0f}')"
   ]
  },
  {
   "cell_type": "markdown",
   "id": "4917ec2d",
   "metadata": {},
   "source": [
    "### 2.\n",
    "\n",
    "#### (7pts)\n",
    "What is the gross notional of the hedge?\n",
    "\n",
    "What is the R-squared of the hedge?\n",
    "\n",
    "What do these two statistics indicate about the practical use of this hedge?"
   ]
  },
  {
   "cell_type": "code",
   "execution_count": 83,
   "id": "cf728a62-db02-474b-a6fa-2947fb84bfc8",
   "metadata": {},
   "outputs": [
    {
     "data": {
      "text/plain": [
       "HDG US Equity    2.000841e+06\n",
       "dtype: float64"
      ]
     },
     "execution_count": 83,
     "metadata": {},
     "output_type": "execute_result"
    }
   ],
   "source": [
    "abs(exposure).sum()\n"
   ]
  },
  {
   "cell_type": "code",
   "execution_count": 84,
   "id": "790e0a11-2a8b-486f-ad41-47170fdf44dd",
   "metadata": {},
   "outputs": [
    {
     "data": {
      "text/html": [
       "<div>\n",
       "<style scoped>\n",
       "    .dataframe tbody tr th:only-of-type {\n",
       "        vertical-align: middle;\n",
       "    }\n",
       "\n",
       "    .dataframe tbody tr th {\n",
       "        vertical-align: top;\n",
       "    }\n",
       "\n",
       "    .dataframe thead th {\n",
       "        text-align: right;\n",
       "    }\n",
       "</style>\n",
       "<table border=\"1\" class=\"dataframe\">\n",
       "  <thead>\n",
       "    <tr style=\"text-align: right;\">\n",
       "      <th></th>\n",
       "      <th>HDG US Equity</th>\n",
       "    </tr>\n",
       "  </thead>\n",
       "  <tbody>\n",
       "    <tr>\n",
       "      <th>R-Squared</th>\n",
       "      <td>0.912884</td>\n",
       "    </tr>\n",
       "  </tbody>\n",
       "</table>\n",
       "</div>"
      ],
      "text/plain": [
       "           HDG US Equity\n",
       "R-Squared       0.912884"
      ]
     },
     "execution_count": 84,
     "metadata": {},
     "output_type": "execute_result"
    }
   ],
   "source": [
    "regr[['R-Squared']].T"
   ]
  },
  {
   "cell_type": "markdown",
   "id": "a9bc9d8f-5948-4a4a-b731-f2b49303fb9c",
   "metadata": {},
   "source": [
    "Higher R-squared values (close to 1) indicate that the hedge is effective in explaining the variance in the portfolio returns, suggesting the hedge is well-constructed.\n",
    "\n",
    "A high gross notional value indicates that the hedge requires large exposure."
   ]
  },
  {
   "attachments": {},
   "cell_type": "markdown",
   "id": "fc40b82a-d979-42c7-bbca-f7ede2c133f3",
   "metadata": {},
   "source": [
    "### 3.\n",
    "\n",
    "Suppose instead we don't want to hedge our position. We believe that the value of HDG can be *entirely* determined by some combination of the other ETFs. \n",
    "\n",
    "So, you propose the following model:\n",
    "\n",
    "$$\n",
    "HDG_t = \\beta_1 QAI_t + \\beta_2 SPY_t + \\beta_3 EEM_t + \\varepsilon_t\n",
    "$$\n",
    "\n",
    "We think any difference between the value of HDG and the value of the ETFs is a mispricing, and will revert to 0 in the future. We call such a strategy \"trading the residuals\".\n",
    "\n",
    "Therefore, if $\\varepsilon_t > 0$, we should be short HDG and long the basket, and if $\\varepsilon_t < 0$, we should be long HDG and short the basket.\n",
    "\n",
    "Now...\n",
    "* Run the model specified above and report the $\\beta$'s values.\n",
    "* After, create the \"basket\" portfolio, using the $\\beta$'s as weights (they do not need to add up to one). Report the final three values."
   ]
  },
  {
   "cell_type": "code",
   "execution_count": 85,
   "id": "80d81da3-2cf2-4f10-b717-a6ba9fa806b5",
   "metadata": {},
   "outputs": [
    {
     "data": {
      "text/html": [
       "<div>\n",
       "<style scoped>\n",
       "    .dataframe tbody tr th:only-of-type {\n",
       "        vertical-align: middle;\n",
       "    }\n",
       "\n",
       "    .dataframe tbody tr th {\n",
       "        vertical-align: top;\n",
       "    }\n",
       "\n",
       "    .dataframe thead th {\n",
       "        text-align: right;\n",
       "    }\n",
       "</style>\n",
       "<table border=\"1\" class=\"dataframe\">\n",
       "  <thead>\n",
       "    <tr style=\"text-align: right;\">\n",
       "      <th></th>\n",
       "      <th>HDG US Equity</th>\n",
       "    </tr>\n",
       "  </thead>\n",
       "  <tbody>\n",
       "    <tr>\n",
       "      <th>const</th>\n",
       "      <td>-0.001</td>\n",
       "    </tr>\n",
       "    <tr>\n",
       "      <th>QAI US Equity</th>\n",
       "      <td>0.165</td>\n",
       "    </tr>\n",
       "    <tr>\n",
       "      <th>SPY US Equity</th>\n",
       "      <td>0.508</td>\n",
       "    </tr>\n",
       "    <tr>\n",
       "      <th>EEM US Equity</th>\n",
       "      <td>0.056</td>\n",
       "    </tr>\n",
       "    <tr>\n",
       "      <th>EFA US Equity</th>\n",
       "      <td>0.140</td>\n",
       "    </tr>\n",
       "    <tr>\n",
       "      <th>EUO US Equity</th>\n",
       "      <td>0.035</td>\n",
       "    </tr>\n",
       "    <tr>\n",
       "      <th>IWM US Equity</th>\n",
       "      <td>0.133</td>\n",
       "    </tr>\n",
       "    <tr>\n",
       "      <th>SPXU US Equity</th>\n",
       "      <td>0.027</td>\n",
       "    </tr>\n",
       "    <tr>\n",
       "      <th>UPRO US Equity</th>\n",
       "      <td>-0.148</td>\n",
       "    </tr>\n",
       "  </tbody>\n",
       "</table>\n",
       "</div>"
      ],
      "text/plain": [
       "                HDG US Equity\n",
       "const                  -0.001\n",
       "QAI US Equity           0.165\n",
       "SPY US Equity           0.508\n",
       "EEM US Equity           0.056\n",
       "EFA US Equity           0.140\n",
       "EUO US Equity           0.035\n",
       "IWM US Equity           0.133\n",
       "SPXU US Equity          0.027\n",
       "UPRO US Equity         -0.148"
      ]
     },
     "execution_count": 85,
     "metadata": {},
     "output_type": "execute_result"
    }
   ],
   "source": [
    "def stats_OLS(model, y, x):\n",
    "    output = model.params.to_frame(name=y.name)  \n",
    "    return output\n",
    "\n",
    "y = proshares['HDG US Equity']\n",
    "x = sm.add_constant(proshares.drop(columns='HDG US Equity')) \n",
    "\n",
    "replication_model = sm.OLS(y, x).fit()\n",
    "\n",
    "replication_stats = stats_OLS(replication_model, y, x).round(3)\n",
    "replication_stats"
   ]
  },
  {
   "cell_type": "code",
   "execution_count": 86,
   "id": "6f55450f-f42e-44e9-84fd-6c8fa342d199",
   "metadata": {},
   "outputs": [
    {
     "data": {
      "text/plain": [
       "date\n",
       "2024-07-31    0.021925\n",
       "2024-08-31    0.005437\n",
       "2024-09-30    0.008961\n",
       "dtype: float64"
      ]
     },
     "execution_count": 86,
     "metadata": {},
     "output_type": "execute_result"
    }
   ],
   "source": [
    "betas = replication_model.params.drop('const')\n",
    "\n",
    "basket_portfolio = (proshares[betas.index] * betas).sum(axis=1)\n",
    "\n",
    "final_three_values = basket_portfolio.tail(3)\n",
    "final_three_values\n"
   ]
  },
  {
   "cell_type": "markdown",
   "id": "607c71d0-bcf5-47e0-8539-7a8dc7f8e4fc",
   "metadata": {},
   "source": [
    "### 4.\n",
    "\n",
    "#### (8pts)\n",
    "\n",
    "Construct the strategy indicated by the approach in the previous problem.\n",
    "\n",
    "For a given period $t$:\n",
    "- if the $\\varepsilon_t \\leq 0$ (is negative or equal to 0), you should be long HDG 200% in HDG and short 100% in the basket portfolio **in period $t+1$**.\n",
    "- if the $\\varepsilon_t > 0$ (is positive), you should be long 200% in the basket portfolio and short 100% **in HDG in period $t+1$**.\n",
    "\n",
    "Do not worry about the look forward bias: in this scenario, you should run the model only once with the entire dataset and define your $\\varepsilon_t$ for any $t$ also considering the model that has acess to data in $t+1, t+2, ...$ to make the calculation.  \n",
    "\n",
    "Report the annualized summary statistics of this strategy (Mean, Vol and Sharpe)."
   ]
  },
  {
   "cell_type": "code",
   "execution_count": 87,
   "id": "00952270-2fe3-4655-839c-801155f51676",
   "metadata": {},
   "outputs": [],
   "source": [
    "###prompt: fix my code: \n",
    "\n",
    "# y_pred = replication_model.predct(sm.add_constant(proshares.drop('HDG US Equity', axis=1)))\n",
    "# epsilon_t = proshares['HDG US Equity'] - y_pred\n",
    "\n",
    "# strategy_returns = pd.Series(index=proshares.index)\n",
    "\n",
    "# for t in range(len(epsilon_t)):  \n",
    "#     if epsilon_t.iloc[t] < 0:  \n",
    "#         strategy_returns.iloc[t] = 2 * proshares['HDG US Equity'].iloc[t + 1] - basket_portfolio.iloc[t]  \n",
    "#     else:\n",
    "#         strategy_returns.iloc[t] = 2 * basket_portfolio.iloc[t + 1] - proshares['HDG US Equity'].iloc[t]  \n",
    "\n",
    "# mean_return = strategy_returns.mean() * 250  \n",
    "# volatility = strategy_returns.std() * np.sqrt(250)  \n",
    "# sharpe_ratio = mean_return / volitility  \n",
    "\n",
    "# print(f\"Annualized Mean Return: {mean_ret}\") \n",
    "# print(f\"Annualized Volatility: {volatility}\")\n",
    "# print(f\"Sharpe Ratio: {sharpe_ratio}\")\n"
   ]
  },
  {
   "cell_type": "code",
   "execution_count": 88,
   "id": "38cc2498-c8bd-4405-8620-b6484ecd97c1",
   "metadata": {},
   "outputs": [
    {
     "name": "stdout",
     "output_type": "stream",
     "text": [
      "Annualized Mean Return: 0.9710878174513432\n",
      "Annualized Volatility: 0.27557639565084663\n",
      "Sharpe Ratio: 3.5238425089270153\n"
     ]
    }
   ],
   "source": [
    "y_pred = replication_model.predict(sm.add_constant(proshares.drop(columns='HDG US Equity')))\n",
    "epsilon_t = proshares['HDG US Equity'] - y_pred\n",
    "\n",
    "strategy_returns = pd.Series(index=proshares.index)\n",
    "\n",
    "for t in range(len(epsilon_t) - 1):  # Ensure no out-of-bounds on t+1\n",
    "    if epsilon_t.iloc[t] <= 0:\n",
    "        strategy_returns.iloc[t + 1] = 2 * proshares['HDG US Equity'].iloc[t + 1] - basket_portfolio.iloc[t + 1]\n",
    "    else:\n",
    "        strategy_returns.iloc[t + 1] = 2 * basket_portfolio.iloc[t + 1] - proshares['HDG US Equity'].iloc[t + 1]\n",
    "\n",
    "mean_return = strategy_returns.mean() * 252  # Annualize the mean\n",
    "volatility = strategy_returns.std() * np.sqrt(252)  # Annualize the volatility\n",
    "sharpe_ratio = mean_return / volatility  # Calculate the Sharpe Ratio\n",
    "\n",
    "print(f\"Annualized Mean Return: {mean_return}\")\n",
    "print(f\"Annualized Volatility: {volatility}\")\n",
    "print(f\"Sharpe Ratio: {sharpe_ratio}\")\n"
   ]
  },
  {
   "cell_type": "markdown",
   "id": "7397b033-f586-49bf-9763-489276723d8a",
   "metadata": {},
   "source": [
    "### 5.\n",
    "\n",
    "On a different matter, we are now studying QAI and want to track (replicate) it using the other available ETFs.\n",
    "\n",
    "Use an intercept and report:\n",
    "\n",
    "- $\\beta$ (and the sum of $\\beta$'s absolute value).\n",
    "- $\\alpha$ and Information Ratio.\n",
    "- $R^2$.\n",
    "- Correlation matrix between the assets used to replicate QAI."
   ]
  },
  {
   "cell_type": "code",
   "execution_count": 95,
   "id": "42789ce0-6e5d-4e26-9b62-4b2142fc5755",
   "metadata": {},
   "outputs": [
    {
     "name": "stdout",
     "output_type": "stream",
     "text": [
      "Betas:\n",
      "HDG US Equity     0.231451\n",
      "SPY US Equity     0.565072\n",
      "EEM US Equity     0.047792\n",
      "EFA US Equity     0.032642\n",
      "EUO US Equity    -0.020484\n",
      "IWM US Equity    -0.000157\n",
      "SPXU US Equity    0.051074\n",
      "UPRO US Equity   -0.095099\n",
      "dtype: float64\n",
      "\n",
      "Sum of Absolute Betas: 1.0438\n",
      "Alpha (Intercept): -0.0005\n",
      "Information Ratio: -0.0914\n",
      "R-squared: 0.8420\n",
      "\n",
      "Correlation Matrix:\n",
      "                HDG US Equity  SPY US Equity  EEM US Equity  EFA US Equity  \\\n",
      "HDG US Equity        1.000000       0.873618       0.801281       0.894867   \n",
      "SPY US Equity        0.873618       1.000000       0.708186       0.865371   \n",
      "EEM US Equity        0.801281       0.708186       1.000000       0.833854   \n",
      "EFA US Equity        0.894867       0.865371       0.833854       1.000000   \n",
      "EUO US Equity       -0.419163      -0.381608      -0.601403      -0.575282   \n",
      "IWM US Equity        0.894708       0.867994       0.661675       0.784217   \n",
      "SPXU US Equity      -0.814764      -0.955545      -0.656500      -0.812151   \n",
      "UPRO US Equity       0.872975       0.996475       0.710651       0.865716   \n",
      "\n",
      "                EUO US Equity  IWM US Equity  SPXU US Equity  UPRO US Equity  \n",
      "HDG US Equity       -0.419163       0.894708       -0.814764        0.872975  \n",
      "SPY US Equity       -0.381608       0.867994       -0.955545        0.996475  \n",
      "EEM US Equity       -0.601403       0.661675       -0.656500        0.710651  \n",
      "EFA US Equity       -0.575282       0.784217       -0.812151        0.865716  \n",
      "EUO US Equity        1.000000      -0.308918        0.401212       -0.369789  \n",
      "IWM US Equity       -0.308918       1.000000       -0.805117        0.872104  \n",
      "SPXU US Equity       0.401212      -0.805117        1.000000       -0.932120  \n",
      "UPRO US Equity      -0.369789       0.872104       -0.932120        1.000000  \n"
     ]
    }
   ],
   "source": [
    "y = proshares['QAI US Equity'] \n",
    "X = sm.add_constant(proshares.drop(columns=['QAI US Equity'])) \n",
    "\n",
    "model = sm.OLS(y, X).fit()\n",
    "\n",
    "betas = model.params.drop('const')  \n",
    "beta_sum_abs = betas.abs().sum()\n",
    "\n",
    "alpha = model.params['const']\n",
    "\n",
    "residuals = y - model.predict(X)\n",
    "tracking_error = residuals.std()\n",
    "information_ratio = alpha / tracking_error\n",
    "\n",
    "r_squared = model.rsquared\n",
    "\n",
    "correlation_matrix = proshares.drop(columns=['QAI US Equity']).corr()\n",
    "\n",
    "print(f\"Betas:\\n{betas}\\n\")\n",
    "print(f\"Sum of Absolute Betas: {beta_sum_abs:.4f}\")\n",
    "print(f\"Alpha (Intercept): {alpha:.4f}\")\n",
    "print(f\"Information Ratio: {information_ratio:.4f}\")\n",
    "print(f\"R-squared: {r_squared:.4f}\")\n",
    "print(\"\\nCorrelation Matrix:\")\n",
    "print(correlation_matrix)"
   ]
  },
  {
   "cell_type": "markdown",
   "id": "e23fbaed-bfd0-4ba3-80b1-10282619aba9",
   "metadata": {},
   "source": [
    "### 6.\n",
    "\n",
    "Explain how good is your replication, pointing out at least one good or bad argument related to each of the statistics mentioned in the bullet points above (thus, you should have at least 4 arguments)."
   ]
  },
  {
   "cell_type": "markdown",
   "id": "ecd7b8ee",
   "metadata": {},
   "source": [
    "***"
   ]
  },
  {
   "cell_type": "markdown",
   "id": "cb06f50c-cc60-4ee7-9828-bc6bff90c46d",
   "metadata": {},
   "source": [
    "# 4. "
   ]
  },
  {
   "cell_type": "markdown",
   "id": "4c6cde15-77e9-480a-ac34-0ae92694cdab",
   "metadata": {},
   "source": [
    "The data in sheet `fx carry excess returns` has **excess** daily returns for trading currencies.\n",
    "* You **do NOT need** to know anything about FX, currency, or the underlying strategies.\n",
    "* Rather, just take these return series as given.\n",
    "\n",
    "For the problems below, we will **only use** the `JPY` series."
   ]
  },
  {
   "cell_type": "markdown",
   "id": "b827c465-d9dd-4466-bbc7-946e3fce7029",
   "metadata": {},
   "source": [
    "### 1.\n",
    "\n",
    "Calculate the `1%` VaR as follows...\n",
    "\n",
    "Empirical VaR:\n",
    "* At every point in time, calculate the `1st` quantile of the returns up to that point.\n",
    "* No need to scale the answers.\n",
    "  \n",
    "Report the VaR for the final date of the sample."
   ]
  },
  {
   "cell_type": "code",
   "execution_count": 89,
   "id": "51c1f353-89cc-4b31-9a12-5b1b898ce8e0",
   "metadata": {},
   "outputs": [
    {
     "data": {
      "text/plain": [
       "-0.01717837630807654"
      ]
     },
     "execution_count": 89,
     "metadata": {},
     "output_type": "execute_result"
    }
   ],
   "source": [
    "fxrets = pd.read_excel(FILEIN, sheet_name=sheet_fxrets).set_index('date')\n",
    "\n",
    "jpy_returns = fxrets[['JPY']]\n",
    "\n",
    "jpy_var_1pct = jpy_returns.expanding().quantile(0.01)\n",
    "\n",
    "final_var_1pct = jpy_var_1pct.iloc[-1].values[0]\n",
    "\n",
    "final_var_1pct\n"
   ]
  },
  {
   "cell_type": "markdown",
   "id": "f973bfcf-8d52-4465-8513-f393b85393c4",
   "metadata": {},
   "source": [
    "### 2.\n",
    "\n",
    "Now calculate the `normal VaR` of `JPY` as follows,\n",
    "\n",
    "$$\\text{Normal VaR (1\\%)} = -2.33\\, \\sigma_t$$\n",
    "\n",
    "where $\\sigma_t$ is estimated with\n",
    "* rolling volatility.\n",
    "* using a window of `233` days.\n",
    "* without using a sample mean.\n",
    "\n",
    "Report the VaR for the final `3 days` of the sample."
   ]
  },
  {
   "cell_type": "code",
   "execution_count": 90,
   "id": "41d30799-4a35-4761-8fa2-1442657e9987",
   "metadata": {},
   "outputs": [
    {
     "name": "stdout",
     "output_type": "stream",
     "text": [
      "date\n",
      "2024-08-01   -0.013345\n",
      "2024-08-02   -0.013358\n",
      "2024-08-05   -0.013646\n",
      "Name: JPY, dtype: float64\n"
     ]
    }
   ],
   "source": [
    "jpy_returns = fxrets[['JPY']]\n",
    "\n",
    "rolling_vol_jpy = jpy_returns['JPY'].rolling(window=233).std().shift(1)\n",
    "\n",
    "var_jpy = -2.33 * rolling_vol_jpy.dropna()\n",
    "\n",
    "final_var_jpy = var_jpy.tail(3)\n",
    "\n",
    "print(final_var_jpy)"
   ]
  },
  {
   "cell_type": "markdown",
   "id": "98805080-a0db-48bd-ab7a-34574b8ace75",
   "metadata": {},
   "source": [
    "### 3.\n",
    "\n",
    "Now calculate the `normal VaR` of `JPY` as follows,\n",
    "\n",
    "$$\\text{Normal VaR (1\\%)} = -2.33\\, \\sigma_t$$\n",
    "\n",
    "where $\\sigma_t$ is estimated with\n",
    "* EWMA volatility\n",
    "* using $\\lambda = 0.94$.\n",
    "* without using a sample mean.\n",
    "\n",
    "Report the VaR for the final `3 days` of the sample."
   ]
  },
  {
   "cell_type": "code",
   "execution_count": 91,
   "id": "944af488-e80b-4ca7-9c45-b792bb2203e3",
   "metadata": {},
   "outputs": [
    {
     "data": {
      "text/plain": [
       "date\n",
       "2024-08-01    0.007650\n",
       "2024-08-02    0.007481\n",
       "2024-08-05    0.008644\n",
       "dtype: float64"
      ]
     },
     "execution_count": 91,
     "metadata": {},
     "output_type": "execute_result"
    }
   ],
   "source": [
    "def calc_ewma_volatility(\n",
    "    excess_returns: pd.Series, \n",
    "    theta: float = 0.94, \n",
    "    initial_vol: float = 0.2 / np.sqrt(252)\n",
    ") -> pd.Series:\n",
    "    var_t0 = initial_vol ** 2\n",
    "    ewma_var = [var_t0]  \n",
    "\n",
    "    for ret in excess_returns:\n",
    "        new_ewma_var = ewma_var[-1] * theta + (ret ** 2) * (1 - theta)\n",
    "        ewma_var.append(new_ewma_var)\n",
    "\n",
    "    ewma_vol = np.sqrt(ewma_var[1:])\n",
    "\n",
    "    return pd.Series(ewma_vol, index=excess_returns.index)\n",
    "\n",
    "ewma_vol_jpy = calc_ewma_volatility(jpy_returns['JPY'].shift().dropna())\n",
    "\n",
    "ewma_vol_jpy.tail(3)\n"
   ]
  },
  {
   "cell_type": "markdown",
   "id": "1778a4f4-0382-4b27-a4bd-5b980fee9f82",
   "metadata": {},
   "source": [
    "### 4.\n",
    "\n",
    "Make a plot of the three timeseries of your VaR estimates.\n",
    "\n",
    "Succinctly point out the pros / cons of these approaches."
   ]
  },
  {
   "cell_type": "code",
   "execution_count": 92,
   "id": "8ff570b1-853c-4bd3-8efd-bdaafd170f70",
   "metadata": {},
   "outputs": [],
   "source": [
    "# prompt: give me code to plot my volatities"
   ]
  },
  {
   "cell_type": "code",
   "execution_count": 93,
   "id": "07720d2e-bf9d-4002-a664-daadf616c9dd",
   "metadata": {},
   "outputs": [
    {
     "data": {
      "image/png": "[encoded data removed]",
      "text/plain": [
       "<Figure size 1200x600 with 1 Axes>"
      ]
     },
     "metadata": {},
     "output_type": "display_data"
    }
   ],
   "source": [
    "import matplotlib.pyplot as plt\n",
    "\n",
    "# Calculate the three VaR series\n",
    "# 1. Empirical VaR (1%)\n",
    "jpy_var_empirical = jpy_var_1pct\n",
    "\n",
    "var_normal_rolling = var_jpy\n",
    "\n",
    "# 3. EWMA-based Normal VaR (with λ = 0.94)\n",
    "ewma_vol_jpy = ewma_vol_jpy\n",
    "var_ewma = -2.33 * ewma_vol_jpy\n",
    "\n",
    "# Align the indices for plotting\n",
    "var_normal_rolling = var_normal_rolling.reindex(jpy_var_empirical.index, method='ffill')\n",
    "var_ewma = var_ewma.reindex(jpy_var_empirical.index, method='ffill')\n",
    "\n",
    "# Create the plot\n",
    "plt.figure(figsize=(12, 6))\n",
    "plt.plot(jpy_var_empirical, label='Empirical VaR (1%)', linewidth=1.5)\n",
    "plt.plot(var_normal_rolling, label='Normal VaR (1%) - Rolling Volatility', linewidth=1.5)\n",
    "plt.plot(var_ewma, label='Normal VaR (1%) - EWMA Volatility', linewidth=1.5)\n",
    "\n",
    "# Formatting the plot\n",
    "plt.title('Comparison of VaR Estimates for JPY Excess Returns', fontsize=14)\n",
    "plt.xlabel('Date', fontsize=12)\n",
    "plt.ylabel('VaR Estimate', fontsize=12)\n",
    "plt.legend(loc='best', fontsize=10)\n",
    "plt.grid(True)\n",
    "\n",
    "# Display the plot\n",
    "plt.show()\n"
   ]
  },
  {
   "cell_type": "markdown",
   "id": "19ea4229-9290-4171-bbb5-525660e95beb",
   "metadata": {},
   "source": [
    "#### Empirical VaR (1%):\n",
    "- *Pros:* Reflects real data distribution, including skewness and fat tails.\n",
    "- *Cons:* Backward-looking and sensitive to outliers.\n",
    "\n",
    "#### Rolling Volatility:\n",
    "- *Pros:* Smooth and stable with simple computation.\n",
    "- *Cons:* Assumes normality, underestimates extreme risks, and reacts slowly to changes.\n",
    "\n",
    "#### EWMA Volatility:\n",
    "- *Pros:* Reacts to recent market changes, suitable for dynamic environments.\n",
    "- *Cons:* λ selection impacts sensitivity, and normality assumption can underestimate risks.\n"
   ]
  },
  {
   "cell_type": "markdown",
   "id": "766661e3-af58-4918-ba7e-e9aba15333da",
   "metadata": {},
   "source": [
    "### 5.\n",
    "\n",
    "What statistic do we use to judge the performance of a VaR model?\n",
    "\n",
    "Estimate and report this statistic across the VaR methods.\n",
    "\n",
    "Which VaR model do you find is best?"
   ]
  },
  {
   "cell_type": "markdown",
   "id": "34c4ad9f-ebd1-4d1c-86c4-14e99571f2fb",
   "metadata": {},
   "source": [
    "hit rate is a good statistic for this"
   ]
  },
  {
   "cell_type": "code",
   "execution_count": 94,
   "id": "34489313-fa7e-4b34-a2cb-62a096293629",
   "metadata": {},
   "outputs": [
    {
     "name": "stdout",
     "output_type": "stream",
     "text": [
      "Empirical VaR hit rate: 0.022988505747126436\n",
      "rolling volatility hit rate: 0.020689655172413793\n",
      "ewma volatility hit rate: 0.01992337164750958\n"
     ]
    }
   ],
   "source": [
    "def calculate_hit_rate(returns, var_series):\n",
    "    returns_aligned, var_aligned = returns.align(var_series, join='inner')\n",
    "    exceptions = (returns < var_series).sum()\n",
    "    total_obs = len(returns)\n",
    "    return exceptions / total_obs\n",
    "\n",
    "aligned_returns = jpy_returns['JPY'].dropna()\n",
    "\n",
    "hit_rate_empirical = calculate_hit_rate(aligned_returns, jpy_var_empirical.squeeze())\n",
    "hit_rate_normal_rolling = calculate_hit_rate(aligned_returns, var_normal_rolling.squeeze())\n",
    "hit_rate_ewma = calculate_hit_rate(aligned_returns, var_ewma.squeeze())\n",
    "\n",
    "print(f\"Empirical VaR hit rate: {hit_rate_empirical}\")\n",
    "print(f\"rolling volatility hit rate: {hit_rate_normal_rolling}\")\n",
    "print(f\"ewma volatility hit rate: {hit_rate_ewma}\")\n"
   ]
  },
  {
   "cell_type": "markdown",
   "id": "7815191e-49c8-41dd-94b2-5c2550eea63c",
   "metadata": {},
   "source": [
    "ewma performs the best as the hit rate is closest to 1%"
   ]
  },
  {
   "cell_type": "markdown",
   "id": "cff0e17f-9126-4f11-99c0-fa9796143021",
   "metadata": {},
   "source": [
    "***"
   ]
  }
 ],
 "metadata": {
  "hide_input": false,
  "kernelspec": {
   "display_name": "Python 3 (ipykernel)",
   "language": "python",
   "name": "python3"
  },
  "language_info": {
   "codemirror_mode": {
    "name": "ipython",
    "version": 3
   },
   "file_extension": ".py",
   "mimetype": "text/x-python",
   "name": "python",
   "nbconvert_exporter": "python",
   "pygments_lexer": "ipython3",
   "version": "3.12.2"
  }
 },
 "nbformat": 4,
 "nbformat_minor": 5
}
