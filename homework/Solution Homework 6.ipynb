{
 "cells": [
  {
   "cell_type": "markdown",
   "id": "7aa60970",
   "metadata": {},
   "source": [
    "# Homework 6\n",
    "\n",
    "## FINM 36700 - 2024\n",
    "\n",
    "### UChicago Financial Mathematics\n",
    "\n",
    "* Tobias Rodriguez\n",
    "* tobiasdelpozo@uchicago.edu"
   ]
  },
  {
   "cell_type": "code",
   "execution_count": 1,
   "id": "83de7af8",
   "metadata": {},
   "outputs": [],
   "source": [
    "from functools import partial\n",
    "import pandas as pd\n",
    "import numpy as np\n",
    "import seaborn as sns\n",
    "import statsmodels.api as sm\n",
    "import matplotlib.pyplot as plt\n",
    "\n",
    "plt.style.use('ggplot')\n",
    "\n",
    "import sys\n",
    "if '../cmds/' not in sys.path:\n",
    "    sys.path.append('../cmds/')\n",
    "from portfolio_management_helper import *\n",
    "\n",
    "import warnings\n",
    "warnings.filterwarnings(\"ignore\")"
   ]
  },
  {
   "cell_type": "markdown",
   "id": "65939361",
   "metadata": {},
   "source": [
    "## 1 The Momentum Product\n",
    "This section is not graded, and you do not need to submit your answers. But you are expected to consider these issues and be ready to discuss them.\n",
    "\n",
    "Note: Same as last year (2023).\n",
    "\n",
    "### 1.1 What is novel about the AQR Momentum product under construction compared to the various momentum investment products already offered?\n",
    "\n",
    "- The AQR's Momentum product is a mutual fund, and thus any retail investors can invest.\n",
    "- Two characterisitcs of mutual fund:\n",
    "  1. Long-only: legally limited in their use of short positions and leverage\n",
    "  2. Open-end: had to be ready to return capital at the end of the trading day to respond to investor redemptions\n",
    "\n",
    "### 1.2 Name three reasons the momentum investment product will not exactly track the momentum index, (ie. why the strategy will have tracking error.)\n",
    "\n",
    "1. AQR's fund would be long-only, whereas the index (Fama-french UMD) is long-short.\n",
    "2. The index assumes monthly rebalancing, which may cause huge transaction cost. \n",
    "3. Fama-French UMD used all listed stocks, whereas AQR's fund would only use stocks with reasonable market capitalization and liquidity. This is because of \"open-end\" mutual fund regulation.\n",
    "\n",
    "### 1.3 When constructing the momentum portfolio, AQR ranks stocks on their returns from month $t-12$ through $t-2$. Why don't they include the $t-1$ return in this ranking?\n",
    "\n",
    "- The winning/losing stocks between $t − 1$ to $t$ may show short-term reversal, such that the momentum strategy would be hurt by including $t − 1$ return in the ranking."
   ]
  },
  {
   "cell_type": "markdown",
   "id": "1feebdb3",
   "metadata": {},
   "source": [
    "## 2. Investigating Momentum\n",
    "\n",
    "In this section, we empirically investigate some concerns regarding AQR's new momentum product.\n",
    "On Canvas, find the data file, \"**momentum_data.xlsx**\".\n",
    "- The first tab contains the momentum factor as an excess return: $\\tilde{r}^{\\mathrm{mom}}$.\n",
    "- The second tab contains returns on portfolios corresponding to scored momentum deciles.\n",
    "  - $r^{\\operatorname{mom}(1)}$ denotes the portfolio of stocks in the lowest momentum decile, the \"losers\" with the lowest past returns.\n",
    "  - $r^{\\operatorname{mom}(10)}$ denotes the portfolio of stocks in the highest momentum decile.\n",
    "- The third tab gives portfolios sorted by momentum and size.\n",
    "  - $r^{\\text {momsu }}$ denotes the portfolio of small stocks in the top 3 deciles of momentum scores.\n",
    "  - $r^{\\text {momBD }}$ denotes the portfolio of big-stocks in the bottom 3 deciles of momentum scores.\n",
    "\n",
    "Note that the Fama-French momentum return, $\\tilde{r}^{\\mathrm{mom}: \\mathrm{FF}}$, given in the first tab, is constructed by $\\mathrm{FF}$ as,\n",
    "\n",
    "$$\n",
    "\\tilde{r}^{\\mathrm{mom}: \\mathrm{FF}}=\\frac{1}{2}\\left(r^{\\mathrm{momBU}}+r^{\\mathrm{momSU}}\\right)-\\frac{1}{2}\\left(r^{\\mathrm{momBD}}+r^{\\mathrm{momSD}}\\right)\n",
    "$$"
   ]
  },
  {
   "cell_type": "code",
   "execution_count": 2,
   "id": "0645e083",
   "metadata": {},
   "outputs": [],
   "source": [
    "raw_data = pd.read_excel('../data/momentum_data.xlsx',sheet_name = None)\n",
    "sheets = list(raw_data.keys())\n",
    "\n",
    "ff_factors = raw_data[sheets[1]].set_index('Date')\n",
    "momentum = raw_data[sheets[2]].set_index('Date')\n",
    "mom_deciles = raw_data[sheets[3]].set_index('Date')\n",
    "tercile_port = raw_data[sheets[4]].set_index('Date')\n",
    "rf = raw_data[sheets[5]].set_index('Date')\n",
    "\n",
    "ff_factors['UMD'] = momentum['UMD']"
   ]
  },
  {
   "cell_type": "markdown",
   "id": "9fa7f64d",
   "metadata": {},
   "source": [
    "The Fama-French momentum return\n",
    "\n",
    "$$\\tilde{r}^{mom:FF} = \\frac{1}{2} (\\tilde{r}^{momBU} + \\tilde{r}^{momSU}) − \\frac{1}{2} (\\tilde{r}^{momBD} + \\tilde{r}^{momSD}) $$"
   ]
  },
  {
   "cell_type": "markdown",
   "id": "757b0acb",
   "metadata": {},
   "source": [
    "### 2.1 Is Momentum sill profitable?\n",
    "\n",
    "The excess returns of lucrative trading strategies often disappear once the strategy is well-known. The first widely-cited paper on momentum was published in 1993. Have momentum returns or risk changed since then? The AQR case takes place at the end of 2008. Have momentum returns changed in 2009-2024?\n",
    "\n",
    "Investigate by filling out the summary statistics below for the full-sample and three sub-samples.\n",
    "\n",
    "#### (a) Using the data provided, fill in Table 1 with the appropriate stats for $\\tilde{r}^{\\text {mom:FF }}$.\n",
    "\n",
    "$$\n",
    "\\begin{equation*}\n",
    "\\begin{aligned}\n",
    "&\\text { Table 2: Long-only momentum performance. }\\\\\n",
    "&\\begin{array}{llllll}\n",
    "\\hline \\hline \\text { Subsample } \\quad \\text { mean } \\quad \\text { vol } & \\text { Sharpe } & \\text { skewness } & \\text { corr. to } \\tilde{r}^m & \\text { corr. to } \\tilde{r}^v \\\\\n",
    "\\hline \\hline & & & & \\\\\n",
    "1927-2024 & & & \\\\\n",
    "1927-1993 & & & \\\\\n",
    "1993-2008 & & & \\\\\n",
    "2009-2024 & & & \\\\\n",
    "\\hline \\hline\n",
    "\\end{array}\n",
    "\\end{aligned}\n",
    "\\end{equation*}\n",
    "$$"
   ]
  },
  {
   "cell_type": "code",
   "execution_count": 3,
   "id": "1a0a499e",
   "metadata": {},
   "outputs": [
    {
     "data": {
      "text/html": [
       "<div>\n",
       "<style scoped>\n",
       "    .dataframe tbody tr th:only-of-type {\n",
       "        vertical-align: middle;\n",
       "    }\n",
       "\n",
       "    .dataframe tbody tr th {\n",
       "        vertical-align: top;\n",
       "    }\n",
       "\n",
       "    .dataframe thead th {\n",
       "        text-align: right;\n",
       "    }\n",
       "</style>\n",
       "<table border=\"1\" class=\"dataframe\">\n",
       "  <thead>\n",
       "    <tr style=\"text-align: right;\">\n",
       "      <th></th>\n",
       "      <th>Annualized Mean</th>\n",
       "      <th>Annualized Vol</th>\n",
       "      <th>Annualized Sharpe</th>\n",
       "      <th>Skewness</th>\n",
       "      <th>mkt_corr</th>\n",
       "      <th>val_corr</th>\n",
       "    </tr>\n",
       "  </thead>\n",
       "  <tbody>\n",
       "    <tr>\n",
       "      <th>1927 - 2024</th>\n",
       "      <td>0.0753</td>\n",
       "      <td>0.1625</td>\n",
       "      <td>0.4635</td>\n",
       "      <td>-2.9905</td>\n",
       "      <td>-0.3443</td>\n",
       "      <td>-0.4064</td>\n",
       "    </tr>\n",
       "    <tr>\n",
       "      <th>1927 - 1993</th>\n",
       "      <td>0.0901</td>\n",
       "      <td>0.1600</td>\n",
       "      <td>0.5630</td>\n",
       "      <td>-3.8082</td>\n",
       "      <td>-0.3625</td>\n",
       "      <td>-0.4950</td>\n",
       "    </tr>\n",
       "    <tr>\n",
       "      <th>1994 - 2008</th>\n",
       "      <td>0.1044</td>\n",
       "      <td>0.1756</td>\n",
       "      <td>0.5945</td>\n",
       "      <td>-0.5820</td>\n",
       "      <td>-0.2345</td>\n",
       "      <td>-0.1294</td>\n",
       "    </tr>\n",
       "    <tr>\n",
       "      <th>2009 - 2024</th>\n",
       "      <td>-0.0151</td>\n",
       "      <td>0.1585</td>\n",
       "      <td>-0.0952</td>\n",
       "      <td>-2.6910</td>\n",
       "      <td>-0.3676</td>\n",
       "      <td>-0.3209</td>\n",
       "    </tr>\n",
       "  </tbody>\n",
       "</table>\n",
       "</div>"
      ],
      "text/plain": [
       "             Annualized Mean  Annualized Vol  Annualized Sharpe  Skewness  \\\n",
       "1927 - 2024           0.0753          0.1625             0.4635   -2.9905   \n",
       "1927 - 1993           0.0901          0.1600             0.5630   -3.8082   \n",
       "1994 - 2008           0.1044          0.1756             0.5945   -0.5820   \n",
       "2009 - 2024          -0.0151          0.1585            -0.0952   -2.6910   \n",
       "\n",
       "             mkt_corr  val_corr  \n",
       "1927 - 2024   -0.3443   -0.4064  \n",
       "1927 - 1993   -0.3625   -0.4950  \n",
       "1994 - 2008   -0.2345   -0.1294  \n",
       "2009 - 2024   -0.3676   -0.3209  "
      ]
     },
     "execution_count": 3,
     "metadata": {},
     "output_type": "execute_result"
    }
   ],
   "source": [
    "periods = [['1927', '2024'], ['1927', '1993'], ['1994', '2008'], ['2009', '2024']]\n",
    "summary_col_names = ['Annualized Mean','Annualized Vol','Annualized Sharpe','Skewness']\n",
    "res = []\n",
    "for period in periods:\n",
    "    temp = momentum.loc[period[0]:period[1]]\n",
    "    temp_ff = ff_factors.loc[period[0]:period[1]]\n",
    "    summary = calc_summary_statistics(temp, annual_factor=12, provided_excess_returns=True)[summary_col_names]\n",
    "    summary['mkt_corr'] = temp_ff.corr().loc['MKT',['UMD']]\n",
    "    summary['val_corr'] = temp_ff.corr().loc['HML',['UMD']]\n",
    "    summary = summary.T.iloc[:,0].rename(f'{period[0]} - {period[1]}')\n",
    "    res.append(summary)\n",
    "summary  = pd.concat(res, axis=1).T\n",
    "summary"
   ]
  },
  {
   "cell_type": "markdown",
   "id": "32df66ac",
   "metadata": {},
   "source": [
    "#### (b) Has momentum changed much over time, as seen through these subsample statistics?\n",
    "\n",
    "It doesn't change much in the most of the periods. But the momentum is showing negative return after 2009. It is reasonable stable between 1927 and 2008, and has been slightly negative since 2009. \n",
    "\n",
    "#### (c) Does this data support AQR's argument that momentum is an important piece of the ideal portfolio? What if mean returns to momentum are in actuality near zero due to transaction costs - would there still be evidence here that momentum is valuable?\n",
    "\n",
    "Yes, It was definitely profitable at 2008 when AQR was considering to launch the momentum product. Also, the momentum has a low correlation with market and value factor, which makes it a good diversifier. Even if the mean return is near zero, the momentum is still valuable because of its low correlation with other factors. Notably, even though the return profile has changed, it has maintained lower correlations to the market and value factors. "
   ]
  },
  {
   "cell_type": "markdown",
   "id": "3e90877f",
   "metadata": {},
   "source": [
    "### 2.2. Whether a long-only implementation of momentum is valuable.\n",
    "\n",
    "Construct your own long-only implementation:\n",
    "\n",
    "$$\\tilde{r}^{momU:FF} = \\frac{1}{2} (\\tilde{r}^{momBU} + \\tilde{r}^{momSU}) − r^f $$\n",
    "\n",
    "Note that this is following the FF approach of treating big and small stocks separately. This would be very similar to a scaled version of,\n",
    "\n",
    "$$\\tilde{r}^{momU} = \\frac{1}{3} (\\tilde{r}^{mom(8)} + \\tilde{r}^{mom(9)} + \\tilde{r}^{mom(10)}) − r^f $$\n",
    "\n",
    "\n",
    "For the question below, use the FF-style $\\tilde{r}^{momU:FF}_t$\n",
    "\n",
    "\n",
    "#### (a) Fill out Table 2 for the data in the period 1994-2024.\n",
    "\n",
    "$$\n",
    "\\begin{equation*}\n",
    "\\begin{aligned}\n",
    "&\\text { Table 2: Long-only momentum performance. }\\\\\n",
    "&\\begin{array}{llllll}\n",
    "\\hline \\hline \\text { 1994-2024 } & \\text { mean } \\quad \\text { vol } & \\text { Sharpe } & \\text { skew } & \\text { corr. to } \\tilde{r}^m & \\text { corr. to } \\tilde{r}^v \\\\\n",
    "\\hline \\hline \\text { Long-and-short, }\\left(\\tilde{r}^{\\text {mom:FF }}\\right) & & & \\\\\n",
    "\\text { Long-only }\\left(\\tilde{r}^{\\text {momU:FF }}\\right) & & & \\\\\n",
    "\\hline \\hline\n",
    "\\end{array}\n",
    "\\end{aligned}\n",
    "\\end{equation*}\n",
    "$$"
   ]
  },
  {
   "cell_type": "code",
   "execution_count": 4,
   "id": "458d8a59",
   "metadata": {},
   "outputs": [
    {
     "data": {
      "text/html": [
       "<div>\n",
       "<style scoped>\n",
       "    .dataframe tbody tr th:only-of-type {\n",
       "        vertical-align: middle;\n",
       "    }\n",
       "\n",
       "    .dataframe tbody tr th {\n",
       "        vertical-align: top;\n",
       "    }\n",
       "\n",
       "    .dataframe thead th {\n",
       "        text-align: right;\n",
       "    }\n",
       "</style>\n",
       "<table border=\"1\" class=\"dataframe\">\n",
       "  <thead>\n",
       "    <tr style=\"text-align: right;\">\n",
       "      <th></th>\n",
       "      <th>Annualized Mean</th>\n",
       "      <th>Annualized Vol</th>\n",
       "      <th>Annualized Sharpe</th>\n",
       "      <th>Skewness</th>\n",
       "      <th>mkt_corr</th>\n",
       "      <th>val_corr</th>\n",
       "    </tr>\n",
       "  </thead>\n",
       "  <tbody>\n",
       "    <tr>\n",
       "      <th>long_and_short</th>\n",
       "      <td>0.0432</td>\n",
       "      <td>0.1677</td>\n",
       "      <td>0.2575</td>\n",
       "      <td>-1.4460</td>\n",
       "      <td>-0.3443</td>\n",
       "      <td>-0.4064</td>\n",
       "    </tr>\n",
       "    <tr>\n",
       "      <th>long_only</th>\n",
       "      <td>0.1172</td>\n",
       "      <td>0.1784</td>\n",
       "      <td>0.6569</td>\n",
       "      <td>-0.4448</td>\n",
       "      <td>0.9358</td>\n",
       "      <td>0.2105</td>\n",
       "    </tr>\n",
       "  </tbody>\n",
       "</table>\n",
       "</div>"
      ],
      "text/plain": [
       "                Annualized Mean  Annualized Vol  Annualized Sharpe  Skewness  \\\n",
       "long_and_short           0.0432          0.1677             0.2575   -1.4460   \n",
       "long_only                0.1172          0.1784             0.6569   -0.4448   \n",
       "\n",
       "                mkt_corr  val_corr  \n",
       "long_and_short   -0.3443   -0.4064  \n",
       "long_only         0.9358    0.2105  "
      ]
     },
     "execution_count": 4,
     "metadata": {},
     "output_type": "execute_result"
    }
   ],
   "source": [
    "mom_long = (tercile_port['BIG HiPRIOR'] + tercile_port['SMALL HiPRIOR'])/2 - rf['RF']\n",
    "mom_names = ['long_and_short','long_only']\n",
    "\n",
    "temp = ff_factors.copy().rename(columns={'UMD':'long_and_short'})\n",
    "temp['long_only']  = mom_long\n",
    "summary =calc_summary_statistics(temp.loc[\"1994\":, mom_names], annual_factor=12, provided_excess_returns=True)[summary_col_names]\n",
    "summary['mkt_corr'] = temp.corr().loc['MKT', mom_names]\n",
    "summary['val_corr'] = temp.corr().loc['HML', mom_names]\n",
    "summary"
   ]
  },
  {
   "cell_type": "markdown",
   "id": "7b865b70",
   "metadata": {},
   "source": [
    "#### (b)  Is long-only momentum as attractive as long-short momentum with respect to mean, volatil-ity, and Sharpe Ratio?\n",
    "\n",
    "Yes, long-only looks even more attractive than long-short momentum. The mean return is higher, while the volatility is similar. Sharpe ratio is higher as well."
   ]
  },
  {
   "cell_type": "markdown",
   "id": "5e6d1e30",
   "metadata": {},
   "source": [
    "#### (c) Is long-only momentum as diversifying as long-short momentum with respect to market and value premia?\n",
    "\n",
    "\n",
    "No, the long-only momentum portfolio has 93.6% of correlation with market, whereas the long-short momentum portfolio has -34% of correlation with market. This is because the long-only momentum portfolio is still exposed to market risk. Therefore, it does not diversify at all."
   ]
  },
  {
   "cell_type": "markdown",
   "id": "80ca0f41",
   "metadata": {},
   "source": [
    "#### (d) Show a plot of the cumulative product of $1+\\tilde{r}^{\\text {mom:FF }}$ and $1+\\tilde{r}^{\\text {momU:FF }}$ over the 1994-2024 subsample. $^2$"
   ]
  },
  {
   "cell_type": "code",
   "execution_count": 5,
   "id": "42e22afb",
   "metadata": {},
   "outputs": [
    {
     "data": {
      "text/plain": [
       "Text(0.5, 1.0, 'Cumulative Returns')"
      ]
     },
     "execution_count": 5,
     "metadata": {},
     "output_type": "execute_result"
    },
    {
     "data": {
      "image/png": "[encoded data removed]",
      "text/plain": [
       "<Figure size 800x500 with 1 Axes>"
      ]
     },
     "metadata": {},
     "output_type": "display_data"
    }
   ],
   "source": [
    "fig, ax = plt.subplots(figsize=(8,5))\n",
    "(100 * ((1 + temp[mom_names + ['MKT']].loc['1994':]).cumprod() -1 )).plot(ax=ax)\n",
    "ax.set_ylabel('Cumulative Returns (%)')\n",
    "ax.set_title('Cumulative Returns')"
   ]
  },
  {
   "cell_type": "markdown",
   "id": "eb21b24d",
   "metadata": {},
   "source": [
    "### 2.3. Is momentum just data mining, or is it a robust strategy?\n",
    "\n",
    "Assess how sensitive the threshold for the “winners” and “losers” is in the results. Specifically, we compare three constructions:\n",
    "\n",
    "- long the top 1 decile and short the bottom 1 deciles:\n",
    "\n",
    "$$ \\tilde{r}^{momD1} = r^{mom(10)} - r^{mom(1)}$$\n",
    "\n",
    "- long the top 3 deciles and short the bottom 3 deciles:\n",
    "\n",
    "\n",
    "$$ \n",
    "\\begin{aligned}\n",
    "\\tilde{r}^{momD3} &= \\frac{1}{3}(r^{mom(8)} + r^{mom(9)} + r^{mom(10)}) - \\frac{1}{3} (r^{mom(3)} + r^{mom(2)} + r^{mom(1)})\\\\\n",
    "&= \\frac{1}{3}\\sum_{k = 8}^{10} r^{mom(k)} - \\frac{1}{3}\\sum_{k = 1}^{3} r^{mom(k)} \n",
    "\\end{aligned}$$\n",
    "\n",
    "\n",
    "- long the top 5 deciles and short the bottom 5 decile:\n",
    "\n",
    "$$ \\tilde{r}^{momD5} = \\frac{1}{5}\\sum_{k = 6}^{10} r^{mom(k)} - \\frac{1}{5}\\sum_{k = 1}^{5} r^{mom(k)} $$"
   ]
  },
  {
   "cell_type": "markdown",
   "id": "720fbbdb",
   "metadata": {},
   "source": [
    "#### (a) Compare all three constructions, (in the full-sample period,) by filling out the stats in the table below for the period 1994-2023.\n",
    "\n",
    "$$\n",
    "\\begin{equation}\n",
    "\\begin{aligned}\n",
    "&\\text { Table 3: Robustness of momentum construction. }\\\\\n",
    "&\\begin{array}{lllllll}\n",
    "\\hline \\hline \\text { 1994-2024 } \\quad \\text { mean } & \\text { vol } & \\text { Sharpe } & \\text { skewness } & \\text { corr. to } \\tilde{r}^m & \\text { corr. to } \\tilde{r}^v \\\\\n",
    "\\hline \\hline \\tilde{r}^{\\text {momD1 }} & & & & & \\\\\n",
    "\\tilde{r}^{\\text {momD3 }} & & & & \\\\\n",
    "\\tilde{r}^{\\text {momD5 }} & & & & \\\\\n",
    "\\hline \\hline\n",
    "\\end{array}\n",
    "\\end{aligned}\n",
    "\\end{equation}\n",
    "$$"
   ]
  },
  {
   "cell_type": "code",
   "execution_count": 6,
   "id": "4e905462",
   "metadata": {},
   "outputs": [
    {
     "data": {
      "text/html": [
       "<div>\n",
       "<style scoped>\n",
       "    .dataframe tbody tr th:only-of-type {\n",
       "        vertical-align: middle;\n",
       "    }\n",
       "\n",
       "    .dataframe tbody tr th {\n",
       "        vertical-align: top;\n",
       "    }\n",
       "\n",
       "    .dataframe thead th {\n",
       "        text-align: right;\n",
       "    }\n",
       "</style>\n",
       "<table border=\"1\" class=\"dataframe\">\n",
       "  <thead>\n",
       "    <tr style=\"text-align: right;\">\n",
       "      <th></th>\n",
       "      <th>Annualized Mean</th>\n",
       "      <th>Annualized Vol</th>\n",
       "      <th>Annualized Sharpe</th>\n",
       "      <th>Skewness</th>\n",
       "      <th>mkt_corr</th>\n",
       "      <th>val_corr</th>\n",
       "    </tr>\n",
       "  </thead>\n",
       "  <tbody>\n",
       "    <tr>\n",
       "      <th>mom_D1</th>\n",
       "      <td>0.0820</td>\n",
       "      <td>0.2990</td>\n",
       "      <td>0.2742</td>\n",
       "      <td>-1.3046</td>\n",
       "      <td>-0.3690</td>\n",
       "      <td>-0.4044</td>\n",
       "    </tr>\n",
       "    <tr>\n",
       "      <th>mom_D3</th>\n",
       "      <td>0.0286</td>\n",
       "      <td>0.1934</td>\n",
       "      <td>0.1476</td>\n",
       "      <td>-1.3450</td>\n",
       "      <td>-0.3819</td>\n",
       "      <td>-0.3966</td>\n",
       "    </tr>\n",
       "    <tr>\n",
       "      <th>mom_D5</th>\n",
       "      <td>0.0164</td>\n",
       "      <td>0.1340</td>\n",
       "      <td>0.1225</td>\n",
       "      <td>-1.4159</td>\n",
       "      <td>-0.3617</td>\n",
       "      <td>-0.3918</td>\n",
       "    </tr>\n",
       "    <tr>\n",
       "      <th>UMD</th>\n",
       "      <td>0.0432</td>\n",
       "      <td>0.1677</td>\n",
       "      <td>0.2575</td>\n",
       "      <td>-1.4460</td>\n",
       "      <td>-0.3443</td>\n",
       "      <td>-0.4064</td>\n",
       "    </tr>\n",
       "  </tbody>\n",
       "</table>\n",
       "</div>"
      ],
      "text/plain": [
       "        Annualized Mean  Annualized Vol  Annualized Sharpe  Skewness  \\\n",
       "mom_D1           0.0820          0.2990             0.2742   -1.3046   \n",
       "mom_D3           0.0286          0.1934             0.1476   -1.3450   \n",
       "mom_D5           0.0164          0.1340             0.1225   -1.4159   \n",
       "UMD              0.0432          0.1677             0.2575   -1.4460   \n",
       "\n",
       "        mkt_corr  val_corr  \n",
       "mom_D1   -0.3690   -0.4044  \n",
       "mom_D3   -0.3819   -0.3966  \n",
       "mom_D5   -0.3617   -0.3918  \n",
       "UMD      -0.3443   -0.4064  "
      ]
     },
     "execution_count": 6,
     "metadata": {},
     "output_type": "execute_result"
    }
   ],
   "source": [
    "ls_1decile = mom_deciles['Hi PRIOR'] - mom_deciles['Lo PRIOR']\n",
    "ls_3decile = mom_deciles.iloc[:,-3:].mean(axis = 1) - mom_deciles.iloc[:,:3].mean(axis = 1)\n",
    "ls_5decile = mom_deciles.iloc[:,-5:].mean(axis = 1) - mom_deciles.iloc[:,:5].mean(axis = 1)\n",
    "\n",
    "ls_names = ['mom_D1','mom_D3','mom_D5']\n",
    "temp = ff_factors.copy()\n",
    "temp[ls_names] = pd.concat([ls_1decile, ls_3decile, ls_5decile], axis=1)\n",
    "summary = calc_summary_statistics(temp.loc[\"1994\":, ls_names + ['UMD']], annual_factor=12, provided_excess_returns=True)[summary_col_names]\n",
    "summary['mkt_corr'] = temp.corr().loc['MKT', ls_names + ['UMD']]\n",
    "summary['val_corr'] = temp.corr().loc['HML', ls_names + ['UMD']]\n",
    "summary"
   ]
  },
  {
   "cell_type": "markdown",
   "id": "ba0f4c6f",
   "metadata": {},
   "source": [
    "#### (b) Do the tradeoffs between the 1-decile, 3-decile, and 5-decile constructions line up with the theoretical tradeoffs we discussed in the lecture?\n",
    "\n",
    "Yes, we can see long-short portfolio with higher threshold of decile has higher return, but also higher volatility.\n",
    "\n",
    "#### (c) Should AQR's retail product consider using a 1-decile or 5-decile construction?\n",
    "\n",
    "I would recommend 1-decile, as it has higher sharpe, but can also see the argument for a 5 decile construction due to likely lower turnover (and therefore lower fees for investors).\n",
    "\n",
    "#### (d) Does $\\tilde{r}^{\\text {momD3 }}$ have similar stats to the Fama-French construction in (1). Recall that construction is also a 3-decile, long-short construction, but it is segmented for small and large stocks. Compare the middle row of Table 3 with the top row of Table 2.\n",
    "\n",
    "They are similar, but Fama-French construction has higher return and lower volatility, resulting with higher sharpe ratio. Fama-French construction allows balance between small and large stocks, whereas top 3 deciles construction could be biased towards either small or large stocks."
   ]
  },
  {
   "cell_type": "markdown",
   "id": "cefb30ad",
   "metadata": {},
   "source": [
    "### 2.4. Does implementing momentum require trading lots of small stocks-- thus causing even larger trading costs?\n",
    "\n",
    "For regulatory and liquidity reasons, AQR is particularly interested in using larger stocks for their momentum baskets. (Though they will launch one product that focuses on medium-sized stocks.)\n",
    "\n",
    "Use the data provided on both small-stock “winners”, $r^{momSU}$, and small-stock “losers”, $r^{momSD}$, to construct a small-stock momentum portfolio,\n",
    "\n",
    "$$ r^{momS}_t = r^{momSU}_t - r^{momSD}_t $$\n",
    "\n",
    "Similarly, use the data provided to construct a big-stock momentum portfolio,\n",
    "\n",
    "$$ r^{momB}_t = r^{momBU}_t − r^{momBD}_t $$\n",
    "\n",
    "#### (a) Fill out Table 4 over the sample 1994-2024.\n",
    "\n",
    "$$\n",
    "\\begin{equation*}\n",
    "\\begin{aligned}\n",
    "&\\text { Table 4: Momentum of small and big stocks. }\\\\\n",
    "&\\begin{array}{llllll}\n",
    "\\hline \\hline \\text { 1994-2024 } & \\text { mean } & \\text { vol } & \\text { Sharpe } & \\text { skewness } & \\text { corr. to } \\tilde{r}[m] \\\\\n",
    "\\hline \\hline \\text { All stocks, } \\tilde{r}^{\\text {mom:FF }} & & & & \\\\\n",
    "\\text { Small stocks } r_t^{\\text {mom } S} & & & \\\\\n",
    "\\text { Large stocks } r_t^{\\text {mom } B} & & & \\\\\n",
    "\\hline\n",
    "\\end{array}\n",
    "\\end{aligned}\n",
    "\\end{equation*}\n",
    "$$"
   ]
  },
  {
   "cell_type": "code",
   "execution_count": 7,
   "id": "19220f39",
   "metadata": {},
   "outputs": [
    {
     "data": {
      "text/html": [
       "<div>\n",
       "<style scoped>\n",
       "    .dataframe tbody tr th:only-of-type {\n",
       "        vertical-align: middle;\n",
       "    }\n",
       "\n",
       "    .dataframe tbody tr th {\n",
       "        vertical-align: top;\n",
       "    }\n",
       "\n",
       "    .dataframe thead th {\n",
       "        text-align: right;\n",
       "    }\n",
       "</style>\n",
       "<table border=\"1\" class=\"dataframe\">\n",
       "  <thead>\n",
       "    <tr style=\"text-align: right;\">\n",
       "      <th></th>\n",
       "      <th>Annualized Mean</th>\n",
       "      <th>Annualized Vol</th>\n",
       "      <th>Annualized Sharpe</th>\n",
       "      <th>Skewness</th>\n",
       "      <th>mkt_corr</th>\n",
       "      <th>val_corr</th>\n",
       "    </tr>\n",
       "  </thead>\n",
       "  <tbody>\n",
       "    <tr>\n",
       "      <th>All_stocks</th>\n",
       "      <td>0.0432</td>\n",
       "      <td>0.1677</td>\n",
       "      <td>0.2575</td>\n",
       "      <td>-1.4460</td>\n",
       "      <td>-0.3443</td>\n",
       "      <td>-0.4064</td>\n",
       "    </tr>\n",
       "    <tr>\n",
       "      <th>Small_stocks</th>\n",
       "      <td>0.0632</td>\n",
       "      <td>0.1696</td>\n",
       "      <td>0.3726</td>\n",
       "      <td>-1.7636</td>\n",
       "      <td>-0.3315</td>\n",
       "      <td>-0.3882</td>\n",
       "    </tr>\n",
       "    <tr>\n",
       "      <th>Big_stocks</th>\n",
       "      <td>0.0232</td>\n",
       "      <td>0.1825</td>\n",
       "      <td>0.1270</td>\n",
       "      <td>-0.8791</td>\n",
       "      <td>-0.3249</td>\n",
       "      <td>-0.3863</td>\n",
       "    </tr>\n",
       "  </tbody>\n",
       "</table>\n",
       "</div>"
      ],
      "text/plain": [
       "              Annualized Mean  Annualized Vol  Annualized Sharpe  Skewness  \\\n",
       "All_stocks             0.0432          0.1677             0.2575   -1.4460   \n",
       "Small_stocks           0.0632          0.1696             0.3726   -1.7636   \n",
       "Big_stocks             0.0232          0.1825             0.1270   -0.8791   \n",
       "\n",
       "              mkt_corr  val_corr  \n",
       "All_stocks     -0.3443   -0.4064  \n",
       "Small_stocks   -0.3315   -0.3882  \n",
       "Big_stocks     -0.3249   -0.3863  "
      ]
     },
     "execution_count": 7,
     "metadata": {},
     "output_type": "execute_result"
    }
   ],
   "source": [
    "mom_small = tercile_port['SMALL HiPRIOR'] - tercile_port['SMALL LoPRIOR']\n",
    "mom_large = tercile_port['BIG HiPRIOR'] - tercile_port['BIG LoPRIOR']\n",
    "\n",
    "mom_size_name = ['Small_stocks','Big_stocks']\n",
    "temp = ff_factors.copy()\n",
    "temp[mom_size_name] = pd.concat([mom_small, mom_large], axis=1)\n",
    "summary = calc_summary_statistics(temp.loc[\"1994\":, ['UMD'] + mom_size_name], annual_factor=12, provided_excess_returns=True)[summary_col_names]\n",
    "summary['mkt_corr'] = temp.corr().loc['MKT', ['UMD'] + mom_size_name]\n",
    "summary['val_corr'] = temp.corr().loc['HML', ['UMD'] + mom_size_name]\n",
    "summary.rename({'UMD':'All_stocks'})"
   ]
  },
  {
   "cell_type": "markdown",
   "id": "c47167a4",
   "metadata": {},
   "source": [
    "#### (b) Is the attractiveness of the momentum strategy mostly driven by the small stocks? That is, does a momentum strategy in large stocks still deliver excess returns at comparable risk?\n",
    "\n",
    "Yes, the small stock momentum portfolio has almost 3 time higher sharpe ratio than the large stock momentum portfolio. Still, the large stock momentum portfolio delivers positive excess return."
   ]
  },
  {
   "cell_type": "markdown",
   "id": "d5d32ef1",
   "metadata": {},
   "source": [
    "### 2.5. In conclusion, what is your assessment of the AQR retail product? Is it capturing the important features of the Fama-French construction of momentum? Would you suggest any modifications?\n",
    "\n",
    "- AQR's retail product uses a long only approach which leads to a higher correlation with the Market and has less diversification benefits compared to the benchmark index or Fama-French momentum factor.\n",
    "- Quarterly rebalancing might make the portfolio diverge from the benchmark index and Fama-French momentum factor.\n",
    "\n",
    "## 3 Barnstable's Analysis\n",
    "\n",
    "*This section is not graded, and you do not need to submit your answers.*\n",
    "**We may discuss these problems later, but they will not be covered in Midterm 2.**\n",
    "\n",
    "### 3.1 Barnstable's Philosophy\n",
    "a. What has Barnstable's investment strategy been in the past?\n",
    "\n",
    "They believed that in the long-run, stocks would outperform bonds and treasuries. They has a 40% allocation to the S&P 500, 30% to actively managed US stocks, and 30% to actively managed international stocks.\n",
    "\n",
    "b. Explain the logic behind their view that stocks are safer in the long run.\n",
    "\n",
    "Law of large numbers (time diversification): if each day is like a coin-flip with a positive expected value, then the more days you have, the more likely you are to make money. Aditionally, because of being \"serially\" uncorrelated, the movements cancel out. And your sharpe ratio increases with time.\n",
    "\n",
    "c. What assumptions underly Barnstable's belief in the long-run safety of stocks?\n",
    "\n",
    "Independence of returns, and that the expected return is positive.\n",
    "\n",
    "### 3.2 Two Proposals\n",
    "\n",
    "a. Describe the two proposals Barnstable is considering for how to take advantage of their view regarding the long-run safety of stocks.\n",
    "\n",
    "1. Selling puts on the S&P 500 index, which were at a premium (due to vol skew).\n",
    "2. Selling shares on a pool of S&P 500 stocks, where (1) class of shares would return the minimum of the S&P return and 6%, and (2) would return whatever was left over from (1). They can then sell (1) and keep (2).\n",
    "\n",
    "What is (1) the same as? Selling a covered call option on the S&P 500 index.\n",
    "\n",
    "c. Do these proposals take the same bet on long-run stock performance? In what outcomes would they differ?\n",
    "\n",
    "I would say yes, since both want the S&P 500 to go up. However, they are different if:\n",
    "\n",
    "1. If the S&P 500 goes up, then (1) is strictly better than (2). The reason being that (2) is always capped at return - 6%, whereas (1) is not capped, and is in-fact boosted by the premium from the put.\n",
    "2. If S&P 500 goes down, the (1) is worse than (2), since you're also short puts in addition to being long the S&P 500.\n",
    "\n",
    "d. Do the two proposals differ in their risk?\n",
    "\n",
    "I would say (1) is probably riskier than (2), due to amplified downside risk.\n",
    "\n",
    "3. Do you recommend a direct investment in the S&P, the trust, or the puts?\n",
    "\n",
    "If Barnstable truly believes that the S&P will go up, and the probability of selling puts is that low, then yes, selling the puts doubles-down on their investment philosophy. However, just buying the S&P 500 is less risky and you are getting *that* much premium from selling the puts, so it is the best option.\n",
    "\n",
    "The trust is some concoction dreamed up by a banker to collect fees, and is a terrible idea.\n",
    "\n",
    "For readers of Money Stuff, the second proposal is something like:\n",
    "\n",
    "![image](etf_cap.png)"
   ]
  },
  {
   "cell_type": "markdown",
   "id": "5c9ea9bc",
   "metadata": {},
   "source": [
    "## 4 Estimating Underperformance"
   ]
  },
  {
   "cell_type": "code",
   "execution_count": 8,
   "id": "c75867ee",
   "metadata": {},
   "outputs": [],
   "source": [
    "data = pd.read_excel('../data/barnstable_analysis_data.xlsx', sheet_name=1).set_index('date').fillna(method = 'ffill')\n",
    "data['excess_returns'] = data['SPX'] - data['TB1M'] \n",
    "rets = data['excess_returns']"
   ]
  },
  {
   "cell_type": "code",
   "execution_count": 9,
   "id": "0983e502",
   "metadata": {},
   "outputs": [
    {
     "data": {
      "text/html": [
       "<style type=\"text/css\">\n",
       "</style>\n",
       "<table id=\"T_7d914\">\n",
       "  <thead>\n",
       "    <tr>\n",
       "      <th class=\"blank\" >&nbsp;</th>\n",
       "      <th class=\"blank level0\" >&nbsp;</th>\n",
       "      <th id=\"T_7d914_level0_col0\" class=\"col_heading level0 col0\" colspan=\"2\">1965 - 1999</th>\n",
       "      <th id=\"T_7d914_level0_col2\" class=\"col_heading level0 col2\" colspan=\"2\">2000 - 2024</th>\n",
       "      <th id=\"T_7d914_level0_col4\" class=\"col_heading level0 col4\" colspan=\"2\">1926 - 2024</th>\n",
       "    </tr>\n",
       "    <tr>\n",
       "      <th class=\"blank\" >&nbsp;</th>\n",
       "      <th class=\"blank level1\" >&nbsp;</th>\n",
       "      <th id=\"T_7d914_level1_col0\" class=\"col_heading level1 col0\" >mean</th>\n",
       "      <th id=\"T_7d914_level1_col1\" class=\"col_heading level1 col1\" >vol</th>\n",
       "      <th id=\"T_7d914_level1_col2\" class=\"col_heading level1 col2\" >mean</th>\n",
       "      <th id=\"T_7d914_level1_col3\" class=\"col_heading level1 col3\" >vol</th>\n",
       "      <th id=\"T_7d914_level1_col4\" class=\"col_heading level1 col4\" >mean</th>\n",
       "      <th id=\"T_7d914_level1_col5\" class=\"col_heading level1 col5\" >vol</th>\n",
       "    </tr>\n",
       "  </thead>\n",
       "  <tbody>\n",
       "    <tr>\n",
       "      <th id=\"T_7d914_level0_row0\" class=\"row_heading level0 row0\" rowspan=\"3\">levels</th>\n",
       "      <th id=\"T_7d914_level1_row0\" class=\"row_heading level1 row0\" >SPX</th>\n",
       "      <td id=\"T_7d914_row0_col0\" class=\"data row0 col0\" >12.94%</td>\n",
       "      <td id=\"T_7d914_row0_col1\" class=\"data row0 col1\" >14.94%</td>\n",
       "      <td id=\"T_7d914_row0_col2\" class=\"data row0 col2\" >8.73%</td>\n",
       "      <td id=\"T_7d914_row0_col3\" class=\"data row0 col3\" >15.31%</td>\n",
       "      <td id=\"T_7d914_row0_col4\" class=\"data row0 col4\" >11.55%</td>\n",
       "      <td id=\"T_7d914_row0_col5\" class=\"data row0 col5\" >18.68%</td>\n",
       "    </tr>\n",
       "    <tr>\n",
       "      <th id=\"T_7d914_level1_row1\" class=\"row_heading level1 row1\" >TB1M</th>\n",
       "      <td id=\"T_7d914_row1_col0\" class=\"data row1 col0\" >6.15%</td>\n",
       "      <td id=\"T_7d914_row1_col1\" class=\"data row1 col1\" >0.72%</td>\n",
       "      <td id=\"T_7d914_row1_col2\" class=\"data row1 col2\" >1.72%</td>\n",
       "      <td id=\"T_7d914_row1_col3\" class=\"data row1 col3\" >0.55%</td>\n",
       "      <td id=\"T_7d914_row1_col4\" class=\"data row1 col4\" >3.17%</td>\n",
       "      <td id=\"T_7d914_row1_col5\" class=\"data row1 col5\" >0.85%</td>\n",
       "    </tr>\n",
       "    <tr>\n",
       "      <th id=\"T_7d914_level1_row2\" class=\"row_heading level1 row2\" >excess_returns</th>\n",
       "      <td id=\"T_7d914_row2_col0\" class=\"data row2 col0\" >6.79%</td>\n",
       "      <td id=\"T_7d914_row2_col1\" class=\"data row2 col1\" >15.01%</td>\n",
       "      <td id=\"T_7d914_row2_col2\" class=\"data row2 col2\" >7.01%</td>\n",
       "      <td id=\"T_7d914_row2_col3\" class=\"data row2 col3\" >15.33%</td>\n",
       "      <td id=\"T_7d914_row2_col4\" class=\"data row2 col4\" >8.38%</td>\n",
       "      <td id=\"T_7d914_row2_col5\" class=\"data row2 col5\" >18.71%</td>\n",
       "    </tr>\n",
       "    <tr>\n",
       "      <th id=\"T_7d914_level0_row3\" class=\"row_heading level0 row3\" rowspan=\"3\">logs</th>\n",
       "      <th id=\"T_7d914_level1_row3\" class=\"row_heading level1 row3\" >SPX</th>\n",
       "      <td id=\"T_7d914_row3_col0\" class=\"data row3 col0\" >11.76%</td>\n",
       "      <td id=\"T_7d914_row3_col1\" class=\"data row3 col1\" >14.96%</td>\n",
       "      <td id=\"T_7d914_row3_col2\" class=\"data row3 col2\" >7.53%</td>\n",
       "      <td id=\"T_7d914_row3_col3\" class=\"data row3 col3\" >15.40%</td>\n",
       "      <td id=\"T_7d914_row3_col4\" class=\"data row3 col4\" >9.78%</td>\n",
       "      <td id=\"T_7d914_row3_col5\" class=\"data row3 col5\" >18.61%</td>\n",
       "    </tr>\n",
       "    <tr>\n",
       "      <th id=\"T_7d914_level1_row4\" class=\"row_heading level1 row4\" >TB1M</th>\n",
       "      <td id=\"T_7d914_row4_col0\" class=\"data row4 col0\" >6.13%</td>\n",
       "      <td id=\"T_7d914_row4_col1\" class=\"data row4 col1\" >0.71%</td>\n",
       "      <td id=\"T_7d914_row4_col2\" class=\"data row4 col2\" >1.72%</td>\n",
       "      <td id=\"T_7d914_row4_col3\" class=\"data row4 col3\" >0.55%</td>\n",
       "      <td id=\"T_7d914_row4_col4\" class=\"data row4 col4\" >3.17%</td>\n",
       "      <td id=\"T_7d914_row4_col5\" class=\"data row4 col5\" >0.85%</td>\n",
       "    </tr>\n",
       "    <tr>\n",
       "      <th id=\"T_7d914_level1_row5\" class=\"row_heading level1 row5\" >excess_returns</th>\n",
       "      <td id=\"T_7d914_row5_col0\" class=\"data row5 col0\" >5.64%</td>\n",
       "      <td id=\"T_7d914_row5_col1\" class=\"data row5 col1\" >15.11%</td>\n",
       "      <td id=\"T_7d914_row5_col2\" class=\"data row5 col2\" >5.81%</td>\n",
       "      <td id=\"T_7d914_row5_col3\" class=\"data row5 col3\" >15.45%</td>\n",
       "      <td id=\"T_7d914_row5_col4\" class=\"data row5 col4\" >6.62%</td>\n",
       "      <td id=\"T_7d914_row5_col5\" class=\"data row5 col5\" >18.66%</td>\n",
       "    </tr>\n",
       "  </tbody>\n",
       "</table>\n"
      ],
      "text/plain": [
       "<pandas.io.formats.style.Styler at 0x17703a410>"
      ]
     },
     "execution_count": 9,
     "metadata": {},
     "output_type": "execute_result"
    }
   ],
   "source": [
    "agg_years = [(1965, 1999), (2000, 2024), (1926, 2024)]\n",
    "def calc_analytics_by_year(data, agg_years):\n",
    "    res = []\n",
    "    for y in agg_years:\n",
    "        sub = data.loc[str(y[0]):str(y[1])]\n",
    "        res.append({'mean': sub.mean() * 12, 'vol': sub.std() * np.sqrt(12)})\n",
    "    return pd.DataFrame(res, index = [f'{i[0]} - {i[1]}' for i in agg_years]).stack()\n",
    "\n",
    "sum_stats = data.apply(calc_analytics_by_year, agg_years = agg_years).T\n",
    "log_sum_stats = np.log(1 + data).apply(calc_analytics_by_year, agg_years = agg_years).T\n",
    "\n",
    "res_stats = pd.concat([sum_stats, log_sum_stats])\n",
    "res_stats.index = pd.MultiIndex.from_product([['levels','logs'], sum_stats.index.to_list()])\n",
    "res_stats.style.format('{:,.2%}')"
   ]
  },
  {
   "cell_type": "markdown",
   "id": "a002715b",
   "metadata": {},
   "source": [
    "### 4.2"
   ]
  },
  {
   "cell_type": "code",
   "execution_count": 10,
   "id": "8ec16dce",
   "metadata": {},
   "outputs": [
    {
     "name": "stdout",
     "output_type": "stream",
     "text": [
      "SPX underperforming RF in the next 15 years after 1999: 7.42%\n",
      "SPX underperforming RF in the next 30 years after 1999: 2.05%\n"
     ]
    },
    {
     "data": {
      "text/plain": [
       "<AxesSubplot:>"
      ]
     },
     "execution_count": 10,
     "metadata": {},
     "output_type": "execute_result"
    },
    {
     "data": {
      "image/png": "[encoded data removed]",
      "text/plain": [
       "<Figure size 640x480 with 1 Axes>"
      ]
     },
     "metadata": {},
     "output_type": "display_data"
    }
   ],
   "source": [
    "from scipy.stats import norm\n",
    "def prob(mu, sigma, h):\n",
    "    return norm.cdf(np.sqrt(h)*mu/sigma)\n",
    "\n",
    "mu, sigma = res_stats['1965 - 1999'].loc[('logs', 'excess_returns')]\n",
    "\n",
    "print(f'SPX underperforming RF in the next 15 years after 1999: {prob(mu = -mu, sigma = sigma, h = 15):,.2%}')\n",
    "\n",
    "print(f'SPX underperforming RF in the next 30 years after 1999: {prob(mu = -mu, sigma = sigma, h = 30):,.2%}')\n",
    "\n",
    "h = np.arange(30) + 1\n",
    "probs = pd.DataFrame([prob(-mu, sigma, x) for x in h], columns=['Probability of Underperformance'], index = h)\n",
    "probs.plot()"
   ]
  },
  {
   "cell_type": "markdown",
   "id": "d5618a32",
   "metadata": {},
   "source": [
    "### 4.3"
   ]
  },
  {
   "cell_type": "code",
   "execution_count": 11,
   "id": "9a1b0934",
   "metadata": {},
   "outputs": [
    {
     "data": {
      "image/png": "[encoded data removed]",
      "text/plain": [
       "<Figure size 640x480 with 1 Axes>"
      ]
     },
     "metadata": {},
     "output_type": "display_data"
    }
   ],
   "source": [
    "mu = np.log(1+rets.loc['1965':'2024']).mean() * 12\n",
    "sigma = np.log(1+rets.loc['1965':'2024']).std() * np.sqrt(12)\n",
    "h = np.arange(30)+1\n",
    "\n",
    "probs = pd.DataFrame([1 - prob(mu, sigma, x) for x in h], columns=['Probability of Underperformance'], index = h)\n",
    "probs.plot(title = 'Sample from 1965 to 2024', ylabel = 'Probability', xlabel = 'h periods')\n",
    "plt.show()"
   ]
  },
  {
   "cell_type": "markdown",
   "id": "9b2054d8",
   "metadata": {},
   "source": [
    "### 4.4"
   ]
  },
  {
   "cell_type": "code",
   "execution_count": 12,
   "id": "bc3f68d6",
   "metadata": {},
   "outputs": [
    {
     "name": "stdout",
     "output_type": "stream",
     "text": [
      "Probability of underperformance in 2000-2024: 7.85%\n"
     ]
    }
   ],
   "source": [
    "mu = res_stats[('1965 - 1999', 'mean')].loc[('logs', 'SPX')] - res_stats[('2000 - 2024', 'mean')].loc[('logs', 'SPX')]\n",
    "sigma = res_stats[('1965 - 1999', 'vol')].loc[('logs', 'SPX')]\n",
    "\n",
    "print(f\"Probability of underperformance in 2000-2024: {prob(-mu, sigma, 25):,.2%}\")"
   ]
  }
 ],
 "metadata": {
  "kernelspec": {
   "display_name": "Python 3",
   "language": "python",
   "name": "python3"
  },
  "language_info": {
   "codemirror_mode": {
    "name": "ipython",
    "version": 3
   },
   "file_extension": ".py",
   "mimetype": "text/x-python",
   "name": "python",
   "nbconvert_exporter": "python",
   "pygments_lexer": "ipython3",
   "version": "3.10.15"
  }
 },
 "nbformat": 4,
 "nbformat_minor": 5
}
